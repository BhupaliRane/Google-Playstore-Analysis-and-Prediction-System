{
 "cells": [
  {
   "cell_type": "code",
   "execution_count": 49,
   "id": "d353d4b6",
   "metadata": {},
   "outputs": [],
   "source": [
    "import pandas as pd\n",
    "import mysql.connector\n",
    "import numpy as np\n",
    "import seaborn as sns\n",
    "import matplotlib.pyplot as plt\n",
    "\n",
    "from sklearn.preprocessing import StandardScaler\n",
    "from scipy.stats import zscore\n",
    "from sklearn.model_selection import train_test_split\n",
    "from sklearn.tree import DecisionTreeClassifier\n",
    "from sklearn.feature_selection import RFE\n",
    "\n",
    "from sklearn.linear_model import LogisticRegression\n",
    "from sklearn.tree import DecisionTreeClassifier\n",
    "from sklearn.metrics import confusion_matrix, accuracy_score, classification_report\n",
    "from sklearn.model_selection import RepeatedKFold, KFold\n",
    "from sklearn.model_selection import cross_val_score\n",
    "from sklearn.naive_bayes import BernoulliNB, GaussianNB\n",
    "import xgboost as xgb\n",
    "from catboost import CatBoostClassifier\n",
    "from sklearn.neighbors import KNeighborsClassifier\n",
    "from sklearn.ensemble import GradientBoostingClassifier\n",
    "from sklearn.discriminant_analysis import LinearDiscriminantAnalysis\n",
    "from sklearn.preprocessing import LabelEncoder, StandardScaler\n",
    "from sklearn.ensemble import RandomForestClassifier, AdaBoostClassifier, GradientBoostingClassifier\n",
    "\n",
    "%matplotlib inline"
   ]
  },
  {
   "cell_type": "code",
   "execution_count": 50,
   "id": "91f91dbb",
   "metadata": {},
   "outputs": [],
   "source": [
    "# !pip install pymssql pandas imbalanced-learn scikit-learn"
   ]
  },
  {
   "cell_type": "code",
   "execution_count": 52,
   "id": "aef1cd74",
   "metadata": {},
   "outputs": [
    {
     "name": "stderr",
     "output_type": "stream",
     "text": [
      "C:\\Users\\LENOVO\\AppData\\Local\\Temp\\ipykernel_22212\\4068824899.py:6: UserWarning: pandas only supports SQLAlchemy connectable (engine/connection) or database string URI or sqlite3 DBAPI2 connection. Other DBAPI2 objects are not tested. Please consider using SQLAlchemy.\n",
      "  df = pd.read_sql(query, conn)\n"
     ]
    },
    {
     "name": "stdout",
     "output_type": "stream",
     "text": [
      "  Category  Free  Size_in_Mb Content_Rating  Ad_Supported  In_App_Purchases  \\\n",
      "0        0     1        10.0              0             0                 0   \n",
      "1        1     1         2.9              0             1                 0   \n",
      "2        2     1         3.7              0             0                 0   \n",
      "3        3     1         1.8              0             1                 0   \n",
      "4        1     1         6.2              0             0                 0   \n",
      "\n",
      "   Installs_Category  \n",
      "0  Between 0 and 10k  \n",
      "1  Between 0 and 10k  \n",
      "2  Between 0 and 10k  \n",
      "3  Between 0 and 10k  \n",
      "4  Between 0 and 10k  \n"
     ]
    }
   ],
   "source": [
    "\n",
    "# Connect to SQL Server\n",
    "conn = mysql.connector.connect(host=\"localhost\", user=\"root\", password=\"root\", database=\"GooglePlayStore\")\n",
    "\n",
    "# Fetch Data\n",
    "query = \"SELECT * FROM installs\"\n",
    "df = pd.read_sql(query, conn)\n",
    "\n",
    "# Close connection\n",
    "conn.close()\n",
    "\n",
    "df = df.drop('id', axis=1)\n",
    "# Show first few rows\n",
    "print(df.head())\n",
    "\n"
   ]
  },
  {
   "cell_type": "code",
   "execution_count": 53,
   "id": "52668d25",
   "metadata": {},
   "outputs": [
    {
     "data": {
      "text/plain": [
       "Between 0 and 10k        1746195\n",
       "Between 10k and 50k       247706\n",
       "Between 100k and 500k     104339\n",
       "Between 50k and 100k       71973\n",
       "Between 1M and 5M          30558\n",
       "Between 500k and 1M        25081\n",
       "Between 5M and 10M          5791\n",
       "Between 10M and 50M         5271\n",
       "Between 50M and 100M         629\n",
       "Greater than 100M            428\n",
       "Name: Installs_Category, dtype: int64"
      ]
     },
     "execution_count": 53,
     "metadata": {},
     "output_type": "execute_result"
    }
   ],
   "source": [
    "df.Installs_Category.value_counts()"
   ]
  },
  {
   "cell_type": "markdown",
   "id": "e2d3e34d",
   "metadata": {},
   "source": [
    "## Feature Extraction"
   ]
  },
  {
   "cell_type": "code",
   "execution_count": 54,
   "id": "2676efdd",
   "metadata": {},
   "outputs": [
    {
     "data": {
      "text/plain": [
       "(2237971, 7)"
      ]
     },
     "execution_count": 54,
     "metadata": {},
     "output_type": "execute_result"
    }
   ],
   "source": [
    "df.shape"
   ]
  },
  {
   "cell_type": "code",
   "execution_count": 55,
   "id": "13d6a5b6",
   "metadata": {},
   "outputs": [
    {
     "name": "stdout",
     "output_type": "stream",
     "text": [
      "Selected Features Based on Decision Tree Importance:\n",
      "Index(['Category', 'Size_in_Mb'], dtype='object')\n",
      "\n",
      "RFE Feature Rankings:\n",
      "Ad_Supported: 1\n",
      "Category: 1\n",
      "Size_in_Mb: 1\n",
      "In_App_Purchases: 2\n",
      "Content_Rating: 3\n",
      "Free: 4\n"
     ]
    }
   ],
   "source": [
    "from sklearn.model_selection import train_test_split\n",
    "from sklearn.tree import DecisionTreeClassifier\n",
    "from sklearn.feature_selection import RFE\n",
    "import pandas as pd\n",
    "\n",
    "# Split features and target variable\n",
    "X = df.drop(['Installs_Category'], axis=1)\n",
    "y = df['Installs_Category']\n",
    "\n",
    "# Train-test split\n",
    "X_train, X_test, Y_train, Y_test = train_test_split(X, y, test_size=0.3, random_state=7, stratify=y)\n",
    "\n",
    "# Initialize DecisionTreeClassifier\n",
    "dt_classifier = DecisionTreeClassifier(random_state=7)\n",
    "\n",
    "# Fit the model\n",
    "dt_classifier.fit(X_train, Y_train)\n",
    "\n",
    "# Predict and evaluate\n",
    "y_pred = dt_classifier.predict(X_test)\n",
    "\n",
    "# Extract feature importances\n",
    "importances = dt_classifier.feature_importances_\n",
    "\n",
    "# Rank the features\n",
    "feature_importances = pd.DataFrame({\n",
    "    'Feature': X_train.columns,\n",
    "    'Importance': importances\n",
    "}).sort_values(by='Importance', ascending=False)\n",
    "\n",
    "# Display the ranked features\n",
    "mean_imp = dt_classifier.feature_importances_.mean()\n",
    "selected_features = X_train.columns[dt_classifier.feature_importances_ > mean_imp]\n",
    "print(\"Selected Features Based on Decision Tree Importance:\")\n",
    "print(selected_features)\n",
    "\n",
    "# Perform Recursive Feature Elimination (RFE)\n",
    "rfe = RFE(DecisionTreeClassifier(random_state=7))\n",
    "rfe.fit(X_train, Y_train)\n",
    "\n",
    "# Print feature rankings\n",
    "print(\"\\nRFE Feature Rankings:\")\n",
    "for rank, feature in sorted(zip(rfe.ranking_, X_train.columns)):\n",
    "    print(f\"{feature}: {rank}\")\n"
   ]
  },
  {
   "cell_type": "markdown",
   "id": "6b6ba520",
   "metadata": {},
   "source": [
    "Models\n"
   ]
  },
  {
   "cell_type": "code",
   "execution_count": 56,
   "id": "7ddc00fb",
   "metadata": {},
   "outputs": [],
   "source": [
    "import pandas as pd\n",
    "import numpy as np\n",
    "from sklearn.model_selection import train_test_split\n",
    "from sklearn.preprocessing import LabelEncoder, StandardScaler\n",
    "from sklearn.metrics import accuracy_score, f1_score\n",
    "\n",
    "# Target variable\n",
    "y = df['Installs_Category']\n",
    "\n",
    "# Feature Selection (Removing target and leakage features)\n",
    "X = df.drop(['Installs_Category'], axis=1)\n",
    "\n",
    "# Split dataset into train and test sets\n",
    "X_train, X_test, Y_train, Y_test = train_test_split(X, y, test_size=0.3, random_state=7)\n",
    "\n",
    "# Label Encoding for Target Variable\n",
    "label_encoder = LabelEncoder()\n",
    "Y_train_encoded = label_encoder.fit_transform(Y_train)\n",
    "Y_test_encoded = label_encoder.transform(Y_test)\n",
    "\n",
    "# Feature Scaling\n",
    "scaler = StandardScaler()\n",
    "X_train_scaled = scaler.fit_transform(X_train)\n",
    "X_test_scaled = scaler.transform(X_test)\n",
    "\n",
    "results = []  # Store results for comparison\n",
    "\n",
    "def evaluate_model(model, X_test, Y_test_encoded):\n",
    "    Y_pred_encoded = model.predict(X_test)\n",
    "    accuracy = accuracy_score(Y_test_encoded, Y_pred_encoded)\n",
    "    f1 = f1_score(Y_test_encoded, Y_pred_encoded, average='weighted')\n",
    "\n",
    "    print(f\"Model: {model.__class__.__name__}\")\n",
    "    print(f\"Accuracy: {accuracy:.4f}\")\n",
    "    print(f\"F1 Score: {f1:.4f}\")\n",
    "    print(\"-\" * 40)\n",
    "\n",
    "    # Store results\n",
    "    results.append({\"Model\": model.__class__.__name__, \"Accuracy\": accuracy, \"F1 Score\": f1})\n"
   ]
  },
  {
   "cell_type": "code",
   "execution_count": 58,
   "id": "4b95700a",
   "metadata": {},
   "outputs": [
    {
     "name": "stdout",
     "output_type": "stream",
     "text": [
      "0:\tlearn: 1.7939374\ttotal: 1.4s\tremaining: 58m 20s\n",
      "200:\tlearn: 0.7594271\ttotal: 4m 32s\tremaining: 51m 54s\n",
      "400:\tlearn: 0.7552239\ttotal: 9m 3s\tremaining: 47m 26s\n",
      "600:\tlearn: 0.7527027\ttotal: 13m 31s\tremaining: 42m 43s\n",
      "800:\tlearn: 0.7508736\ttotal: 18m 19s\tremaining: 38m 52s\n",
      "1000:\tlearn: 0.7492720\ttotal: 23m 9s\tremaining: 34m 40s\n",
      "1200:\tlearn: 0.7480571\ttotal: 27m 52s\tremaining: 30m 9s\n",
      "1400:\tlearn: 0.7468904\ttotal: 33m 49s\tremaining: 26m 31s\n",
      "1600:\tlearn: 0.7458142\ttotal: 38m 24s\tremaining: 21m 33s\n",
      "1800:\tlearn: 0.7448200\ttotal: 43m 8s\tremaining: 16m 44s\n",
      "2000:\tlearn: 0.7438664\ttotal: 47m 48s\tremaining: 11m 55s\n",
      "2200:\tlearn: 0.7430394\ttotal: 52m 27s\tremaining: 7m 7s\n",
      "2400:\tlearn: 0.7422485\ttotal: 57m 5s\tremaining: 2m 21s\n",
      "2499:\tlearn: 0.7418744\ttotal: 59m 17s\tremaining: 0us\n",
      "CatBoost_Accuracy:  0.7825523002670149\n"
     ]
    }
   ],
   "source": [
    "# Applying Model CatBoost Model\n",
    "import pickle\n",
    "Cat_Boost = CatBoostClassifier(verbose = 200, n_estimators = 2500, learning_rate=0.1, depth=8,early_stopping_rounds=300)\n",
    "# Cat_Boost = CatBoostClassifier(verbose = 0)\n",
    "Cat_Boost.fit(X_train_scaled, Y_train_encoded)\n",
    "cb_ac=Cat_Boost.score(X_train_scaled, Y_train_encoded)\n",
    "print(\"CatBoost_Accuracy: \",cb_ac)\n",
    "\n",
    "with open(\"installs_model.pkl\", \"wb\") as f:\n",
    "    pickle.dump(Cat_Boost, f)"
   ]
  },
  {
   "cell_type": "code",
   "execution_count": null,
   "id": "2a3ff2d7",
   "metadata": {},
   "outputs": [
    {
     "name": "stdout",
     "output_type": "stream",
     "text": [
      "Model: LogisticRegression\n",
      "Accuracy: 0.4403\n",
      "F1 Score: 0.5330\n",
      "----------------------------------------\n"
     ]
    }
   ],
   "source": [
    "#Applying Model Logistic Regression\n",
    "\n",
    "\n",
    "log_reg = LogisticRegression(max_iter=500, class_weight='balanced')\n",
    "log_reg.fit(X_train_scaled, Y_train_encoded)\n",
    "evaluate_model(log_reg, X_test_scaled, Y_test_encoded)\n"
   ]
  },
  {
   "cell_type": "code",
   "execution_count": null,
   "id": "c375a775",
   "metadata": {},
   "outputs": [
    {
     "name": "stdout",
     "output_type": "stream",
     "text": [
      "Model: RandomForestClassifier\n",
      "Accuracy: 0.4188\n",
      "F1 Score: 0.5202\n",
      "----------------------------------------\n"
     ]
    }
   ],
   "source": [
    "#Applying Model RandomForest\n",
    "\n",
    "rf_clf = RandomForestClassifier(n_estimators=100, random_state=7, class_weight='balanced')\n",
    "rf_clf.fit(X_train_scaled, Y_train_encoded)\n",
    "evaluate_model(rf_clf, X_test_scaled, Y_test_encoded)\n"
   ]
  },
  {
   "cell_type": "code",
   "execution_count": null,
   "id": "cd0e241c",
   "metadata": {},
   "outputs": [
    {
     "name": "stdout",
     "output_type": "stream",
     "text": [
      "Model: DecisionTreeClassifier\n",
      "Accuracy: 0.7723\n",
      "F1 Score: 0.6926\n",
      "----------------------------------------\n"
     ]
    }
   ],
   "source": [
    "#Applying Model DecisionTree Classifier\n",
    "\n",
    "dt_clf = DecisionTreeClassifier(random_state=7)\n",
    "dt_clf.fit(X_train_scaled, Y_train_encoded)\n",
    "evaluate_model(dt_clf, X_test_scaled, Y_test_encoded)\n"
   ]
  },
  {
   "cell_type": "code",
   "execution_count": null,
   "id": "0b792da8",
   "metadata": {},
   "outputs": [
    {
     "name": "stdout",
     "output_type": "stream",
     "text": [
      "Model: GaussianNB\n",
      "Accuracy: 0.6015\n",
      "F1 Score: 0.6205\n",
      "----------------------------------------\n"
     ]
    }
   ],
   "source": [
    "#Applying Model Naive Bayesian\n",
    "\n",
    "nb_clf = GaussianNB()\n",
    "nb_clf.fit(X_train_scaled, Y_train_encoded)\n",
    "evaluate_model(nb_clf, X_test_scaled, Y_test_encoded)"
   ]
  },
  {
   "cell_type": "code",
   "execution_count": null,
   "id": "5894954b",
   "metadata": {},
   "outputs": [
    {
     "name": "stdout",
     "output_type": "stream",
     "text": [
      "Model: KNeighborsClassifier\n",
      "Accuracy: 0.7618\n",
      "F1 Score: 0.6932\n",
      "----------------------------------------\n"
     ]
    }
   ],
   "source": [
    "# Applying K-Nearest Neighbors\n",
    "\n",
    "\n",
    "knn_clf = KNeighborsClassifier(n_neighbors=5)\n",
    "knn_clf.fit(X_train_scaled, Y_train_encoded)\n",
    "evaluate_model(knn_clf, X_test_scaled, Y_test_encoded)\n"
   ]
  },
  {
   "cell_type": "code",
   "execution_count": null,
   "id": "792c5f41",
   "metadata": {},
   "outputs": [
    {
     "name": "stdout",
     "output_type": "stream",
     "text": [
      "Model: LinearDiscriminantAnalysis\n",
      "Accuracy: 0.7712\n",
      "F1 Score: 0.6867\n",
      "----------------------------------------\n"
     ]
    }
   ],
   "source": [
    "# Fine-tuning Linear Discriminant Analysis (LDA)\n",
    "lda_clf = LinearDiscriminantAnalysis()\n",
    "lda_clf.fit(X_train_scaled, Y_train_encoded)\n",
    "evaluate_model(lda_clf, X_test_scaled, Y_test_encoded)\n"
   ]
  },
  {
   "cell_type": "code",
   "execution_count": null,
   "id": "c40a6e56",
   "metadata": {},
   "outputs": [
    {
     "name": "stdout",
     "output_type": "stream",
     "text": [
      "Model: GradientBoostingClassifier\n",
      "Accuracy: 0.7801\n",
      "F1 Score: 0.6861\n",
      "----------------------------------------\n"
     ]
    }
   ],
   "source": [
    "# Applying Gradient Boosting Classifier\n",
    "\n",
    "\n",
    "gb_clf = GradientBoostingClassifier(n_estimators=100, learning_rate=0.1, random_state=7)\n",
    "gb_clf.fit(X_train_scaled, Y_train_encoded)\n",
    "evaluate_model(gb_clf, X_test_scaled, Y_test_encoded)\n"
   ]
  },
  {
   "cell_type": "code",
   "execution_count": null,
   "id": "78dd7d17",
   "metadata": {},
   "outputs": [
    {
     "name": "stdout",
     "output_type": "stream",
     "text": [
      "Model: AdaBoostClassifier\n",
      "Accuracy: 0.7798\n",
      "F1 Score: 0.6834\n",
      "----------------------------------------\n"
     ]
    }
   ],
   "source": [
    "# Applying AdaBoost Classifier\n",
    "\n",
    "ada_clf = AdaBoostClassifier(n_estimators=100, learning_rate=0.1, random_state=7)\n",
    "ada_clf.fit(X_train_scaled, Y_train_encoded)\n",
    "evaluate_model(ada_clf, X_test_scaled, Y_test_encoded)\n"
   ]
  },
  {
   "cell_type": "code",
   "execution_count": null,
   "id": "b21175e1",
   "metadata": {},
   "outputs": [
    {
     "name": "stdout",
     "output_type": "stream",
     "text": [
      "Model: XGBClassifier\n",
      "Accuracy: 0.7804\n",
      "F1 Score: 0.6869\n",
      "----------------------------------------\n"
     ]
    }
   ],
   "source": [
    "# Applying XGBoost Classifier\n",
    "\n",
    "\n",
    "xgb_clf = xgb.XGBClassifier(n_estimators=100, learning_rate=0.1, random_state=7)\n",
    "xgb_clf.fit(X_train_scaled, Y_train_encoded)\n",
    "evaluate_model(xgb_clf, X_test_scaled, Y_test_encoded)\n"
   ]
  },
  {
   "cell_type": "code",
   "execution_count": null,
   "id": "836b4fd0",
   "metadata": {},
   "outputs": [],
   "source": []
  },
  {
   "cell_type": "code",
   "execution_count": null,
   "id": "8b4759cc",
   "metadata": {},
   "outputs": [],
   "source": []
  },
  {
   "cell_type": "code",
   "execution_count": null,
   "id": "f088722e",
   "metadata": {},
   "outputs": [],
   "source": []
  }
 ],
 "metadata": {
  "kernelspec": {
   "display_name": "Python 3",
   "language": "python",
   "name": "python3"
  },
  "language_info": {
   "codemirror_mode": {
    "name": "ipython",
    "version": 3
   },
   "file_extension": ".py",
   "mimetype": "text/x-python",
   "name": "python",
   "nbconvert_exporter": "python",
   "pygments_lexer": "ipython3",
   "version": "3.11.4"
  }
 },
 "nbformat": 4,
 "nbformat_minor": 5
}
