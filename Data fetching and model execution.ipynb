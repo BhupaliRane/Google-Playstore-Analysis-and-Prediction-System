{
 "cells": [
  {
   "cell_type": "code",
   "execution_count": 32,
   "id": "d353d4b6",
   "metadata": {},
   "outputs": [],
   "source": [
    "import pandas as pd\n",
    "import mysql.connector\n",
    "import numpy as np\n",
    "import seaborn as sns\n",
    "import matplotlib.pyplot as plt\n",
    "\n",
    "from sklearn.preprocessing import StandardScaler\n",
    "from scipy.stats import zscore\n",
    "from sklearn.model_selection import train_test_split\n",
    "from sklearn.tree import DecisionTreeClassifier\n",
    "from sklearn.feature_selection import RFE\n",
    "\n",
    "from sklearn.linear_model import LogisticRegression\n",
    "from sklearn.tree import DecisionTreeClassifier\n",
    "from sklearn.metrics import confusion_matrix, accuracy_score, classification_report\n",
    "from sklearn.model_selection import RepeatedKFold, KFold\n",
    "from sklearn.model_selection import cross_val_score\n",
    "from sklearn.naive_bayes import BernoulliNB, GaussianNB\n",
    "import xgboost as xgb\n",
    "from catboost import CatBoostClassifier\n",
    "from sklearn.neighbors import KNeighborsClassifier\n",
    "from sklearn.ensemble import GradientBoostingClassifier\n",
    "from sklearn.discriminant_analysis import LinearDiscriminantAnalysis\n",
    "from sklearn.preprocessing import LabelEncoder, StandardScaler\n",
    "from sklearn.ensemble import RandomForestClassifier, AdaBoostClassifier, GradientBoostingClassifier\n",
    "\n",
    "%matplotlib inline"
   ]
  },
  {
   "cell_type": "code",
   "execution_count": 33,
   "id": "91f91dbb",
   "metadata": {},
   "outputs": [],
   "source": [
    "# !pip install pymssql pandas imbalanced-learn scikit-learn"
   ]
  },
  {
   "cell_type": "code",
   "execution_count": 34,
   "id": "aef1cd74",
   "metadata": {},
   "outputs": [
    {
     "name": "stderr",
     "output_type": "stream",
     "text": [
      "C:\\Users\\LENOVO\\AppData\\Local\\Temp\\ipykernel_22212\\4068824899.py:6: UserWarning: pandas only supports SQLAlchemy connectable (engine/connection) or database string URI or sqlite3 DBAPI2 connection. Other DBAPI2 objects are not tested. Please consider using SQLAlchemy.\n",
      "  df = pd.read_sql(query, conn)\n"
     ]
    },
    {
     "name": "stdout",
     "output_type": "stream",
     "text": [
      "  Category  Free  Size_in_Mb Content_Rating  Ad_Supported  In_App_Purchases  \\\n",
      "0        1     1        10.0              1             0                 0   \n",
      "1       42     1         2.9              1             1                 0   \n",
      "2       33     1         3.7              1             0                 0   \n",
      "3       13     1         1.8              1             1                 0   \n",
      "4       42     1         6.2              1             0                 0   \n",
      "\n",
      "   Installs_Category  \n",
      "0  Between 0 and 10k  \n",
      "1  Between 0 and 10k  \n",
      "2  Between 0 and 10k  \n",
      "3  Between 0 and 10k  \n",
      "4  Between 0 and 10k  \n"
     ]
    }
   ],
   "source": [
    "\n",
    "# Connect to SQL Server\n",
    "conn = mysql.connector.connect(host=\"localhost\", user=\"root\", password=\"root\", database=\"GooglePlayStore\")\n",
    "\n",
    "# Fetch Data\n",
    "query = \"SELECT * FROM installs\"\n",
    "df = pd.read_sql(query, conn)\n",
    "\n",
    "# Close connection\n",
    "conn.close()\n",
    "\n",
    "df = df.drop('id', axis=1)\n",
    "# Show first few rows\n",
    "print(df.head())\n",
    "\n"
   ]
  },
  {
   "cell_type": "code",
   "execution_count": 35,
   "id": "52668d25",
   "metadata": {},
   "outputs": [
    {
     "data": {
      "text/plain": [
       "Between 0 and 10k        1746195\n",
       "Between 10k and 50k       247706\n",
       "Between 100k and 500k     104339\n",
       "Between 50k and 100k       71973\n",
       "Between 1M and 5M          30558\n",
       "Between 500k and 1M        25081\n",
       "Between 5M and 10M          5791\n",
       "Between 10M and 50M         5271\n",
       "Between 50M and 100M         629\n",
       "Greater than 100M            428\n",
       "Name: Installs_Category, dtype: int64"
      ]
     },
     "execution_count": 35,
     "metadata": {},
     "output_type": "execute_result"
    }
   ],
   "source": [
    "df.Installs_Category.value_counts()"
   ]
  },
  {
   "cell_type": "markdown",
   "id": "e2d3e34d",
   "metadata": {},
   "source": [
    "## Feature Extraction"
   ]
  },
  {
   "cell_type": "code",
   "execution_count": 36,
   "id": "2676efdd",
   "metadata": {},
   "outputs": [
    {
     "data": {
      "text/plain": [
       "(2237971, 7)"
      ]
     },
     "execution_count": 36,
     "metadata": {},
     "output_type": "execute_result"
    }
   ],
   "source": [
    "df.shape"
   ]
  },
  {
   "cell_type": "code",
   "execution_count": 41,
   "id": "13d6a5b6",
   "metadata": {},
   "outputs": [],
   "source": [
    "from sklearn.model_selection import train_test_split\n",
    "from sklearn.tree import DecisionTreeClassifier\n",
    "from sklearn.feature_selection import RFE\n",
    "import pandas as pd\n",
    "\n",
    "# Split features and target variable\n",
    "X = df.drop(['Installs_Category'], axis=1)\n",
    "y = df['Installs_Category']\n",
    "\n",
    "# Train-test split\n",
    "X_train, X_test, Y_train, Y_test = train_test_split(X, y, test_size=0.3, random_state=7, stratify=y)\n",
    "\n",
    "# Initialize DecisionTreeClassifier\n",
    "dt_classifier = DecisionTreeClassifier(random_state=7)\n",
    "\n",
    "# Fit the model\n",
    "dt_classifier.fit(X_train, Y_train)\n",
    "\n",
    "# Predict and evaluate\n",
    "y_pred = dt_classifier.predict(X_test)\n",
    "\n",
    "# Extract feature importances\n",
    "importances = dt_classifier.feature_importances_\n",
    "\n",
    "# Rank the features\n",
    "feature_importances = pd.DataFrame({\n",
    "    'Feature': X_train.columns,\n",
    "    'Importance': importances\n",
    "}).sort_values(by='Importance', ascending=False)\n",
    "\n",
    "# Display the ranked features\n",
    "mean_imp = dt_classifier.feature_importances_.mean()\n",
    "selected_features = X_train.columns[dt_classifier.feature_importances_ > mean_imp]\n",
    "print(\"Selected Features Based on Decision Tree Importance:\")\n",
    "print(selected_features)\n",
    "\n",
    "# Perform Recursive Feature Elimination (RFE)\n",
    "rfe = RFE(DecisionTreeClassifier(random_state=7))\n",
    "rfe.fit(X_train, Y_train)\n",
    "\n",
    "# Print feature rankings\n",
    "print(\"\\nRFE Feature Rankings:\")\n",
    "for rank, feature in sorted(zip(rfe.ranking_, X_train.columns)):\n",
    "    print(f\"{feature}: {rank}\")\n"
   ]
  },
  {
   "cell_type": "markdown",
   "id": "6b6ba520",
   "metadata": {},
   "source": [
    "Models\n"
   ]
  },
  {
   "cell_type": "code",
   "execution_count": null,
   "id": "7ddc00fb",
   "metadata": {},
   "outputs": [],
   "source": [
    "import pandas as pd\n",
    "import numpy as np\n",
    "from sklearn.model_selection import train_test_split\n",
    "from sklearn.preprocessing import LabelEncoder, StandardScaler\n",
    "from sklearn.metrics import accuracy_score, f1_score\n",
    "\n",
    "# Target variable\n",
    "y = df['Installs_Category']\n",
    "\n",
    "# Feature Selection (Removing target and leakage features)\n",
    "X = df.drop(['Installs_Category'], axis=1)\n",
    "\n",
    "# Split dataset into train and test sets\n",
    "X_train, X_test, Y_train, Y_test = train_test_split(X, y, test_size=0.3, random_state=7)\n",
    "\n",
    "# Label Encoding for Target Variable\n",
    "label_encoder = LabelEncoder()\n",
    "Y_train_encoded = label_encoder.fit_transform(Y_train)\n",
    "Y_test_encoded = label_encoder.transform(Y_test)\n",
    "\n",
    "# Feature Scaling\n",
    "scaler = StandardScaler()\n",
    "X_train_scaled = scaler.fit_transform(X_train)\n",
    "X_test_scaled = scaler.transform(X_test)\n",
    "\n",
    "results = []  # Store results for comparison\n",
    "\n",
    "def evaluate_model(model, X_test, Y_test_encoded):\n",
    "    Y_pred_encoded = model.predict(X_test)\n",
    "    accuracy = accuracy_score(Y_test_encoded, Y_pred_encoded)\n",
    "    f1 = f1_score(Y_test_encoded, Y_pred_encoded, average='weighted')\n",
    "\n",
    "    print(f\"Model: {model.__class__.__name__}\")\n",
    "    print(f\"Accuracy: {accuracy:.4f}\")\n",
    "    print(f\"F1 Score: {f1:.4f}\")\n",
    "    print(\"-\" * 40)\n",
    "\n",
    "    # Store results\n",
    "    results.append({\"Model\": model.__class__.__name__, \"Accuracy\": accuracy, \"F1 Score\": f1})\n"
   ]
  },
  {
   "cell_type": "code",
   "execution_count": 38,
   "id": "78ceedf1",
   "metadata": {},
   "outputs": [
    {
     "name": "stdout",
     "output_type": "stream",
     "text": [
      "Model: CatBoostClassifier\n",
      "Accuracy: 0.7800\n",
      "F1 Score: 0.6850\n",
      "----------------------------------------\n"
     ]
    }
   ],
   "source": [
    "#Applying Model CatBoost Model\n",
    "from catboost import CatBoostClassifier\n",
    "\n",
    "cat_clf = CatBoostClassifier(iterations=100, learning_rate=0.1, depth=6, verbose=0, random_seed=7)\n",
    "cat_clf.fit(X_train_scaled, Y_train_encoded)\n",
    "evaluate_model(cat_clf, X_test_scaled, Y_test_encoded)\n",
    "\n",
    "\n"
   ]
  },
  {
   "cell_type": "code",
   "execution_count": 39,
   "id": "4b95700a",
   "metadata": {},
   "outputs": [
    {
     "name": "stdout",
     "output_type": "stream",
     "text": [
      "0:\tlearn: 1.7936010\ttotal: 1.71s\tremaining: 1h 11m 21s\n",
      "200:\tlearn: 0.7592832\ttotal: 4m 40s\tremaining: 53m 23s\n",
      "400:\tlearn: 0.7548891\ttotal: 10m 9s\tremaining: 53m 10s\n",
      "600:\tlearn: 0.7523663\ttotal: 14m 53s\tremaining: 47m 4s\n",
      "800:\tlearn: 0.7504538\ttotal: 18m 28s\tremaining: 39m 11s\n",
      "1000:\tlearn: 0.7489129\ttotal: 22m 5s\tremaining: 33m 5s\n",
      "1200:\tlearn: 0.7476615\ttotal: 25m 56s\tremaining: 28m 3s\n",
      "1400:\tlearn: 0.7464969\ttotal: 29m 31s\tremaining: 23m 9s\n",
      "1600:\tlearn: 0.7454856\ttotal: 33m 4s\tremaining: 18m 34s\n",
      "1800:\tlearn: 0.7445342\ttotal: 36m 37s\tremaining: 14m 13s\n",
      "2000:\tlearn: 0.7436080\ttotal: 40m 11s\tremaining: 10m 1s\n",
      "2200:\tlearn: 0.7427684\ttotal: 43m 45s\tremaining: 5m 56s\n",
      "2400:\tlearn: 0.7419996\ttotal: 47m 24s\tremaining: 1m 57s\n",
      "2499:\tlearn: 0.7416200\ttotal: 49m 12s\tremaining: 0us\n",
      "CatBoost_Accuracy:  0.7825800813628306\n"
     ]
    }
   ],
   "source": [
    "# Applying Model CatBoost Model\n",
    "import pickle\n",
    "Cat_Boost = CatBoostClassifier(verbose = 200, n_estimators = 2500, learning_rate=0.1, depth=8,early_stopping_rounds=300)\n",
    "# Cat_Boost = CatBoostClassifier(verbose = 0)\n",
    "Cat_Boost.fit(X_train_scaled, Y_train_encoded)\n",
    "cb_ac=Cat_Boost.score(X_train_scaled, Y_train_encoded)\n",
    "print(\"CatBoost_Accuracy: \",cb_ac)\n",
    "\n",
    "with open(\"installs_model.pkl\", \"wb\") as f:\n",
    "    pickle.dump(Cat_Boost, f)"
   ]
  },
  {
   "cell_type": "code",
   "execution_count": 40,
   "id": "79adf07f",
   "metadata": {},
   "outputs": [
    {
     "data": {
      "text/html": [
       "<div>\n",
       "<style scoped>\n",
       "    .dataframe tbody tr th:only-of-type {\n",
       "        vertical-align: middle;\n",
       "    }\n",
       "\n",
       "    .dataframe tbody tr th {\n",
       "        vertical-align: top;\n",
       "    }\n",
       "\n",
       "    .dataframe thead th {\n",
       "        text-align: right;\n",
       "    }\n",
       "</style>\n",
       "<table border=\"1\" class=\"dataframe\">\n",
       "  <thead>\n",
       "    <tr style=\"text-align: right;\">\n",
       "      <th></th>\n",
       "      <th>Category</th>\n",
       "      <th>Free</th>\n",
       "      <th>Size_in_Mb</th>\n",
       "      <th>Content_Rating</th>\n",
       "      <th>Ad_Supported</th>\n",
       "      <th>In_App_Purchases</th>\n",
       "      <th>Installs_Category</th>\n",
       "    </tr>\n",
       "  </thead>\n",
       "  <tbody>\n",
       "    <tr>\n",
       "      <th>0</th>\n",
       "      <td>1</td>\n",
       "      <td>1</td>\n",
       "      <td>10.0</td>\n",
       "      <td>1</td>\n",
       "      <td>0</td>\n",
       "      <td>0</td>\n",
       "      <td>Between 0 and 10k</td>\n",
       "    </tr>\n",
       "    <tr>\n",
       "      <th>1</th>\n",
       "      <td>42</td>\n",
       "      <td>1</td>\n",
       "      <td>2.9</td>\n",
       "      <td>1</td>\n",
       "      <td>1</td>\n",
       "      <td>0</td>\n",
       "      <td>Between 0 and 10k</td>\n",
       "    </tr>\n",
       "    <tr>\n",
       "      <th>2</th>\n",
       "      <td>33</td>\n",
       "      <td>1</td>\n",
       "      <td>3.7</td>\n",
       "      <td>1</td>\n",
       "      <td>0</td>\n",
       "      <td>0</td>\n",
       "      <td>Between 0 and 10k</td>\n",
       "    </tr>\n",
       "    <tr>\n",
       "      <th>3</th>\n",
       "      <td>13</td>\n",
       "      <td>1</td>\n",
       "      <td>1.8</td>\n",
       "      <td>1</td>\n",
       "      <td>1</td>\n",
       "      <td>0</td>\n",
       "      <td>Between 0 and 10k</td>\n",
       "    </tr>\n",
       "    <tr>\n",
       "      <th>4</th>\n",
       "      <td>42</td>\n",
       "      <td>1</td>\n",
       "      <td>6.2</td>\n",
       "      <td>1</td>\n",
       "      <td>0</td>\n",
       "      <td>0</td>\n",
       "      <td>Between 0 and 10k</td>\n",
       "    </tr>\n",
       "  </tbody>\n",
       "</table>\n",
       "</div>"
      ],
      "text/plain": [
       "  Category  Free  Size_in_Mb Content_Rating  Ad_Supported  In_App_Purchases  \\\n",
       "0        1     1        10.0              1             0                 0   \n",
       "1       42     1         2.9              1             1                 0   \n",
       "2       33     1         3.7              1             0                 0   \n",
       "3       13     1         1.8              1             1                 0   \n",
       "4       42     1         6.2              1             0                 0   \n",
       "\n",
       "   Installs_Category  \n",
       "0  Between 0 and 10k  \n",
       "1  Between 0 and 10k  \n",
       "2  Between 0 and 10k  \n",
       "3  Between 0 and 10k  \n",
       "4  Between 0 and 10k  "
      ]
     },
     "execution_count": 40,
     "metadata": {},
     "output_type": "execute_result"
    }
   ],
   "source": [
    "df.head()"
   ]
  },
  {
   "cell_type": "code",
   "execution_count": 21,
   "id": "2a3ff2d7",
   "metadata": {},
   "outputs": [
    {
     "name": "stdout",
     "output_type": "stream",
     "text": [
      "Model: LogisticRegression\n",
      "Accuracy: 0.4403\n",
      "F1 Score: 0.5330\n",
      "----------------------------------------\n"
     ]
    }
   ],
   "source": [
    "#Applying Model Logistic Regression\n",
    "\n",
    "\n",
    "log_reg = LogisticRegression(max_iter=500, class_weight='balanced')\n",
    "log_reg.fit(X_train_scaled, Y_train_encoded)\n",
    "evaluate_model(log_reg, X_test_scaled, Y_test_encoded)\n"
   ]
  },
  {
   "cell_type": "code",
   "execution_count": 22,
   "id": "c375a775",
   "metadata": {},
   "outputs": [
    {
     "name": "stdout",
     "output_type": "stream",
     "text": [
      "Model: RandomForestClassifier\n",
      "Accuracy: 0.4188\n",
      "F1 Score: 0.5202\n",
      "----------------------------------------\n"
     ]
    }
   ],
   "source": [
    "#Applying Model RandomForest\n",
    "\n",
    "rf_clf = RandomForestClassifier(n_estimators=100, random_state=7, class_weight='balanced')\n",
    "rf_clf.fit(X_train_scaled, Y_train_encoded)\n",
    "evaluate_model(rf_clf, X_test_scaled, Y_test_encoded)\n"
   ]
  },
  {
   "cell_type": "code",
   "execution_count": 23,
   "id": "cd0e241c",
   "metadata": {},
   "outputs": [
    {
     "name": "stdout",
     "output_type": "stream",
     "text": [
      "Model: DecisionTreeClassifier\n",
      "Accuracy: 0.7723\n",
      "F1 Score: 0.6926\n",
      "----------------------------------------\n"
     ]
    }
   ],
   "source": [
    "#Applying Model DecisionTree Classifier\n",
    "\n",
    "dt_clf = DecisionTreeClassifier(random_state=7)\n",
    "dt_clf.fit(X_train_scaled, Y_train_encoded)\n",
    "evaluate_model(dt_clf, X_test_scaled, Y_test_encoded)\n"
   ]
  },
  {
   "cell_type": "code",
   "execution_count": 24,
   "id": "0b792da8",
   "metadata": {},
   "outputs": [
    {
     "name": "stdout",
     "output_type": "stream",
     "text": [
      "Model: GaussianNB\n",
      "Accuracy: 0.6015\n",
      "F1 Score: 0.6205\n",
      "----------------------------------------\n"
     ]
    }
   ],
   "source": [
    "#Applying Model Naive Bayesian\n",
    "\n",
    "nb_clf = GaussianNB()\n",
    "nb_clf.fit(X_train_scaled, Y_train_encoded)\n",
    "evaluate_model(nb_clf, X_test_scaled, Y_test_encoded)"
   ]
  },
  {
   "cell_type": "code",
   "execution_count": 25,
   "id": "5894954b",
   "metadata": {},
   "outputs": [
    {
     "name": "stdout",
     "output_type": "stream",
     "text": [
      "Model: KNeighborsClassifier\n",
      "Accuracy: 0.7618\n",
      "F1 Score: 0.6932\n",
      "----------------------------------------\n"
     ]
    }
   ],
   "source": [
    "# Applying K-Nearest Neighbors\n",
    "\n",
    "\n",
    "knn_clf = KNeighborsClassifier(n_neighbors=5)\n",
    "knn_clf.fit(X_train_scaled, Y_train_encoded)\n",
    "evaluate_model(knn_clf, X_test_scaled, Y_test_encoded)\n"
   ]
  },
  {
   "cell_type": "code",
   "execution_count": 26,
   "id": "792c5f41",
   "metadata": {},
   "outputs": [
    {
     "name": "stdout",
     "output_type": "stream",
     "text": [
      "Model: LinearDiscriminantAnalysis\n",
      "Accuracy: 0.7712\n",
      "F1 Score: 0.6867\n",
      "----------------------------------------\n"
     ]
    }
   ],
   "source": [
    "# Fine-tuning Linear Discriminant Analysis (LDA)\n",
    "lda_clf = LinearDiscriminantAnalysis()\n",
    "lda_clf.fit(X_train_scaled, Y_train_encoded)\n",
    "evaluate_model(lda_clf, X_test_scaled, Y_test_encoded)\n"
   ]
  },
  {
   "cell_type": "code",
   "execution_count": 27,
   "id": "c40a6e56",
   "metadata": {},
   "outputs": [
    {
     "name": "stdout",
     "output_type": "stream",
     "text": [
      "Model: GradientBoostingClassifier\n",
      "Accuracy: 0.7801\n",
      "F1 Score: 0.6861\n",
      "----------------------------------------\n"
     ]
    }
   ],
   "source": [
    "# Applying Gradient Boosting Classifier\n",
    "\n",
    "\n",
    "gb_clf = GradientBoostingClassifier(n_estimators=100, learning_rate=0.1, random_state=7)\n",
    "gb_clf.fit(X_train_scaled, Y_train_encoded)\n",
    "evaluate_model(gb_clf, X_test_scaled, Y_test_encoded)\n"
   ]
  },
  {
   "cell_type": "code",
   "execution_count": 28,
   "id": "78dd7d17",
   "metadata": {},
   "outputs": [
    {
     "name": "stdout",
     "output_type": "stream",
     "text": [
      "Model: AdaBoostClassifier\n",
      "Accuracy: 0.7798\n",
      "F1 Score: 0.6834\n",
      "----------------------------------------\n"
     ]
    }
   ],
   "source": [
    "# Applying AdaBoost Classifier\n",
    "\n",
    "ada_clf = AdaBoostClassifier(n_estimators=100, learning_rate=0.1, random_state=7)\n",
    "ada_clf.fit(X_train_scaled, Y_train_encoded)\n",
    "evaluate_model(ada_clf, X_test_scaled, Y_test_encoded)\n"
   ]
  },
  {
   "cell_type": "code",
   "execution_count": 20,
   "id": "b21175e1",
   "metadata": {},
   "outputs": [
    {
     "name": "stdout",
     "output_type": "stream",
     "text": [
      "Model: XGBClassifier\n",
      "Accuracy: 0.7804\n",
      "F1 Score: 0.6869\n",
      "----------------------------------------\n"
     ]
    }
   ],
   "source": [
    "# Applying XGBoost Classifier\n",
    "\n",
    "\n",
    "xgb_clf = xgb.XGBClassifier(n_estimators=100, learning_rate=0.1, random_state=7)\n",
    "xgb_clf.fit(X_train_scaled, Y_train_encoded)\n",
    "evaluate_model(xgb_clf, X_test_scaled, Y_test_encoded)\n"
   ]
  },
  {
   "cell_type": "code",
   "execution_count": null,
   "id": "836b4fd0",
   "metadata": {},
   "outputs": [],
   "source": []
  },
  {
   "cell_type": "code",
   "execution_count": null,
   "id": "8b4759cc",
   "metadata": {},
   "outputs": [],
   "source": []
  },
  {
   "cell_type": "code",
   "execution_count": null,
   "id": "f088722e",
   "metadata": {},
   "outputs": [],
   "source": []
  }
 ],
 "metadata": {
  "kernelspec": {
   "display_name": "Python 3",
   "language": "python",
   "name": "python3"
  },
  "language_info": {
   "codemirror_mode": {
    "name": "ipython",
    "version": 3
   },
   "file_extension": ".py",
   "mimetype": "text/x-python",
   "name": "python",
   "nbconvert_exporter": "python",
   "pygments_lexer": "ipython3",
   "version": "3.11.4"
  }
 },
 "nbformat": 4,
 "nbformat_minor": 5
}
