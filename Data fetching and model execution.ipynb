{
 "cells": [
  {
   "cell_type": "code",
   "execution_count": 14,
   "id": "d353d4b6",
   "metadata": {},
   "outputs": [],
   "source": [
    "import pandas as pd\n",
    "import mysql.connector\n",
    "import numpy as np\n",
    "import seaborn as sns\n",
    "import matplotlib.pyplot as plt\n",
    "\n",
    "from sklearn.preprocessing import StandardScaler\n",
    "from scipy.stats import zscore\n",
    "from sklearn.model_selection import train_test_split\n",
    "from sklearn.tree import DecisionTreeClassifier\n",
    "from sklearn.feature_selection import RFE\n",
    "\n",
    "from sklearn.linear_model import LogisticRegression\n",
    "from sklearn.tree import DecisionTreeClassifier\n",
    "from sklearn.metrics import confusion_matrix, accuracy_score, classification_report\n",
    "from sklearn.model_selection import RepeatedKFold, KFold\n",
    "from sklearn.model_selection import cross_val_score\n",
    "from sklearn.naive_bayes import BernoulliNB, GaussianNB\n",
    "import xgboost as xgb\n",
    "from catboost import CatBoostClassifier\n",
    "from sklearn.neighbors import KNeighborsClassifier\n",
    "from sklearn.ensemble import GradientBoostingClassifier\n",
    "from sklearn.discriminant_analysis import LinearDiscriminantAnalysis\n",
    "from sklearn.preprocessing import LabelEncoder, StandardScaler\n",
    "from sklearn.ensemble import RandomForestClassifier, AdaBoostClassifier, GradientBoostingClassifier\n",
    "\n",
    "%matplotlib inline"
   ]
  },
  {
   "cell_type": "code",
   "execution_count": 15,
   "id": "213381fb",
   "metadata": {},
   "outputs": [],
   "source": [
    "df = pd.read_csv(r\"C:\\Users\\LENOVO\\Downloads\\Google-Playstore-Analysis-and-Prediction-System-main\\Google-Playstore-Analysis-and-Prediction-System-main\\installs_preprocessed.csv\")"
   ]
  },
  {
   "cell_type": "code",
   "execution_count": 3,
   "id": "2dafc055",
   "metadata": {},
   "outputs": [
    {
     "data": {
      "text/plain": [
       "<bound method NDFrame.head of          Category  Rating_Count  Free  Size_in_Mb  Content_Rating  \\\n",
       "0               0           0.0     1        10.0               0   \n",
       "1               1          64.0     1         2.9               0   \n",
       "2               2           0.0     1         3.7               0   \n",
       "3               3           5.0     1         1.8               0   \n",
       "4               1           0.0     1         6.2               0   \n",
       "...           ...           ...   ...         ...             ...   \n",
       "2237008        43       16775.0     1        77.0               1   \n",
       "2237009        20           0.0     1        44.0               0   \n",
       "2237010        20           0.0     1        29.0               0   \n",
       "2237011        23           8.0     1        10.0               0   \n",
       "2237012        35          12.0     1         5.2               0   \n",
       "\n",
       "         Ad_Supported  In_App_Purchases  Editors_Choice  Installs_Category  \n",
       "0                   0                 0               0                  0  \n",
       "1                   1                 0               0                  0  \n",
       "2                   0                 0               0                  0  \n",
       "3                   1                 0               0                  0  \n",
       "4                   0                 0               0                  0  \n",
       "...               ...               ...             ...                ...  \n",
       "2237008             0                 0               0                  4  \n",
       "2237009             0                 0               0                  0  \n",
       "2237010             0                 0               0                  0  \n",
       "2237011             1                 0               0                  0  \n",
       "2237012             1                 0               0                  0  \n",
       "\n",
       "[2237013 rows x 9 columns]>"
      ]
     },
     "execution_count": 3,
     "metadata": {},
     "output_type": "execute_result"
    }
   ],
   "source": [
    "df.head"
   ]
  },
  {
   "cell_type": "code",
   "execution_count": 3,
   "id": "91f91dbb",
   "metadata": {},
   "outputs": [],
   "source": [
    "# !pip install pymssql pandas imbalanced-learn scikit-learn"
   ]
  },
  {
   "cell_type": "code",
   "execution_count": 18,
   "id": "aef1cd74",
   "metadata": {},
   "outputs": [
    {
     "name": "stderr",
     "output_type": "stream",
     "text": [
      "C:\\Users\\LENOVO\\AppData\\Local\\Temp\\ipykernel_3444\\4068824899.py:6: UserWarning: pandas only supports SQLAlchemy connectable (engine/connection) or database string URI or sqlite3 DBAPI2 connection. Other DBAPI2 objects are not tested. Please consider using SQLAlchemy.\n",
      "  df = pd.read_sql(query, conn)\n"
     ]
    },
    {
     "name": "stdout",
     "output_type": "stream",
     "text": [
      "  Category  Free  Size_in_Mb Content_Rating  Ad_Supported  In_App_Purchases  \\\n",
      "0     39.0     1        94.0            1.0             1                 0   \n",
      "1     20.0     1        12.0            0.0             0                 0   \n",
      "2     19.0     1         3.9            0.0             0                 0   \n",
      "3     26.0     1         2.7            0.0             1                 1   \n",
      "4     30.0     1        25.0            0.0             0                 0   \n",
      "\n",
      "  Installs_Category  Rating_Count  Editors_Choice  \n",
      "0               0.0             0               0  \n",
      "1               0.0            16               0  \n",
      "2               0.0             0               0  \n",
      "3               0.0            21               0  \n",
      "4               0.0             8               0  \n"
     ]
    }
   ],
   "source": [
    "\n",
    "# Connect to SQL Server\n",
    "conn = mysql.connector.connect(host=\"localhost\", user=\"root\", password=\"root\", database=\"GooglePlayStore\")\n",
    "\n",
    "# Fetch Data\n",
    "query = \"SELECT * FROM installs\"\n",
    "df = pd.read_sql(query, conn)\n",
    "\n",
    "# Close connection\n",
    "conn.close()\n",
    "\n",
    "df = df.drop('id', axis=1)\n",
    "# Show first few rows\n",
    "print(df.head())\n",
    "\n"
   ]
  },
  {
   "cell_type": "code",
   "execution_count": 16,
   "id": "52668d25",
   "metadata": {},
   "outputs": [
    {
     "data": {
      "text/plain": [
       "Installs_Category\n",
       "0    1745458\n",
       "2     247609\n",
       "4     104284\n",
       "1      71936\n",
       "6      30545\n",
       "3      25065\n",
       "7       5789\n",
       "5       5270\n",
       "9        629\n",
       "8        428\n",
       "Name: count, dtype: int64"
      ]
     },
     "execution_count": 16,
     "metadata": {},
     "output_type": "execute_result"
    }
   ],
   "source": [
    "df.Installs_Category.value_counts()"
   ]
  },
  {
   "cell_type": "markdown",
   "id": "e2d3e34d",
   "metadata": {},
   "source": [
    "## Feature Extraction"
   ]
  },
  {
   "cell_type": "code",
   "execution_count": 4,
   "id": "2676efdd",
   "metadata": {},
   "outputs": [
    {
     "data": {
      "text/plain": [
       "(2237013, 9)"
      ]
     },
     "execution_count": 4,
     "metadata": {},
     "output_type": "execute_result"
    }
   ],
   "source": [
    "df.shape"
   ]
  },
  {
   "cell_type": "code",
   "execution_count": 17,
   "id": "78ece582",
   "metadata": {},
   "outputs": [
    {
     "name": "stdout",
     "output_type": "stream",
     "text": [
      "New DataFrame Shape: (637013, 9)\n"
     ]
    }
   ],
   "source": [
    "import pandas as pd\n",
    "\n",
    "# Assuming df is your DataFrame\n",
    "\n",
    "# Filter out rows where Transformed_Rating is 0\n",
    "zero_rating_rows = df[df[\"Installs_Category\"] == 0]\n",
    "\n",
    "# Randomly sample 500,000 rows from the filtered DataFrame\n",
    "rows_to_drop = zero_rating_rows.sample(n=1600000, random_state=42)\n",
    "\n",
    "# Drop these rows from the original DataFrame\n",
    "df = df.drop(rows_to_drop.index).reset_index(drop=True)\n",
    "\n",
    "# Check the new shape\n",
    "print(\"New DataFrame Shape:\", df.shape)"
   ]
  },
  {
   "cell_type": "code",
   "execution_count": 18,
   "id": "43bc41cc",
   "metadata": {},
   "outputs": [
    {
     "data": {
      "text/plain": [
       "Installs_Category\n",
       "2    247609\n",
       "0    145458\n",
       "4    104284\n",
       "1     71936\n",
       "6     30545\n",
       "3     25065\n",
       "7      5789\n",
       "5      5270\n",
       "9       629\n",
       "8       428\n",
       "Name: count, dtype: int64"
      ]
     },
     "execution_count": 18,
     "metadata": {},
     "output_type": "execute_result"
    }
   ],
   "source": [
    "df.Installs_Category.value_counts()"
   ]
  },
  {
   "cell_type": "code",
   "execution_count": 19,
   "id": "5f7c5fd3",
   "metadata": {},
   "outputs": [
    {
     "name": "stdout",
     "output_type": "stream",
     "text": [
      "🔹 Original Class Distribution: Counter({2: 247609, 0: 145458, 4: 104284, 1: 71936, 6: 30545, 3: 25065, 7: 5789, 5: 5270, 9: 629, 8: 428})\n",
      "New DataFrame Shape: (637013, 9)\n",
      "🔹 After SMOTETomek: Counter({0: 168099, 7: 167319, 3: 167045, 6: 166109, 5: 164084, 1: 163560, 4: 162764, 8: 161244, 9: 159404, 2: 158222})\n",
      "X shape: (1637850, 8), Y shape: (1637850,)\n"
     ]
    }
   ],
   "source": [
    "from imblearn.combine import SMOTETomek\n",
    "from collections import Counter\n",
    "from sklearn.model_selection import train_test_split\n",
    "from sklearn.tree import DecisionTreeClassifier\n",
    "from sklearn.feature_selection import RFE\n",
    "\n",
    "# Load dataset\n",
    "X = df.drop(\"Installs_Category\", axis=1)  # Features\n",
    "Y = df[\"Installs_Category\"]  # Target variable\n",
    "\n",
    "# Original class distribution\n",
    "print(\"🔹 Original Class Distribution:\", Counter(Y))\n",
    "# Check the new shape\n",
    "print(\"New DataFrame Shape:\", df.shape)\n",
    "\n",
    "X_train, X_test, Y_train, Y_test = train_test_split(X, Y,test_size=0.3, random_state=7,stratify=Y)\n",
    "\n",
    "# # Apply SMOTETomek (Combination)\n",
    "smote_tomek = SMOTETomek(random_state=7)\n",
    "X_train_resampled, Y_train_resampled = smote_tomek.fit_resample(X_train, Y_train)\n",
    "print(\"🔹 After SMOTETomek:\", Counter(Y_train_resampled))\n",
    "\n",
    "# # Choose the final resampled data (you can pick any of the resampled data)\n",
    "# X = X_combined  \n",
    "# Y = y_combined  \n",
    "\n",
    "# # Ensure X and y have the same number of samples after resampling\n",
    "print(f\"X shape: {X_train_resampled.shape}, Y shape: {Y_train_resampled.shape}\")"
   ]
  },
  {
   "cell_type": "code",
   "execution_count": 5,
   "id": "13d6a5b6",
   "metadata": {},
   "outputs": [
    {
     "name": "stdout",
     "output_type": "stream",
     "text": [
      "Selected Features Based on Decision Tree Importance:\n",
      "Index(['Rating_Count', 'Size_in_Mb'], dtype='object')\n",
      "\n",
      "RFE Feature Rankings:\n",
      "Category: 1\n",
      "Content_Rating: 1\n",
      "Rating_Count: 1\n",
      "Size_in_Mb: 1\n",
      "In_App_Purchases: 2\n",
      "Ad_Supported: 3\n",
      "Free: 4\n",
      "Editors_Choice: 5\n"
     ]
    }
   ],
   "source": [
    "from sklearn.model_selection import train_test_split\n",
    "from sklearn.tree import DecisionTreeClassifier\n",
    "from sklearn.feature_selection import RFE\n",
    "import pandas as pd\n",
    "\n",
    "# Split features and target variable\n",
    "X = df.drop(['Installs_Category'], axis=1)\n",
    "y = df['Installs_Category']\n",
    "\n",
    "# Train-test split\n",
    "X_train, X_test, Y_train, Y_test = train_test_split(X, y, test_size=0.3, random_state=7, stratify=y)\n",
    "\n",
    "# Initialize DecisionTreeClassifier\n",
    "dt_classifier = DecisionTreeClassifier(random_state=7)\n",
    "\n",
    "# Fit the model\n",
    "dt_classifier.fit(X_train, Y_train)\n",
    "\n",
    "# Predict and evaluate\n",
    "y_pred = dt_classifier.predict(X_test)\n",
    "\n",
    "# Extract feature importances\n",
    "importances = dt_classifier.feature_importances_\n",
    "\n",
    "# Rank the features\n",
    "feature_importances = pd.DataFrame({\n",
    "    'Feature': X_train.columns,\n",
    "    'Importance': importances\n",
    "}).sort_values(by='Importance', ascending=False)\n",
    "\n",
    "# Display the ranked features\n",
    "mean_imp = dt_classifier.feature_importances_.mean()\n",
    "selected_features = X_train.columns[dt_classifier.feature_importances_ > mean_imp]\n",
    "print(\"Selected Features Based on Decision Tree Importance:\")\n",
    "print(selected_features)\n",
    "\n",
    "# Perform Recursive Feature Elimination (RFE)\n",
    "rfe = RFE(DecisionTreeClassifier(random_state=7))\n",
    "rfe.fit(X_train, Y_train)\n",
    "\n",
    "# Print feature rankings\n",
    "print(\"\\nRFE Feature Rankings:\")\n",
    "for rank, feature in sorted(zip(rfe.ranking_, X_train.columns)):\n",
    "    print(f\"{feature}: {rank}\")\n"
   ]
  },
  {
   "cell_type": "markdown",
   "id": "6b6ba520",
   "metadata": {},
   "source": [
    "Models\n"
   ]
  },
  {
   "cell_type": "code",
   "execution_count": 6,
   "id": "7ddc00fb",
   "metadata": {},
   "outputs": [],
   "source": [
    "import pandas as pd\n",
    "import numpy as np\n",
    "from sklearn.model_selection import train_test_split\n",
    "from sklearn.preprocessing import LabelEncoder, StandardScaler\n",
    "from sklearn.metrics import accuracy_score, f1_score\n",
    "\n",
    "# Target variable\n",
    "y = df['Installs_Category']\n",
    "\n",
    "# Feature Selection (Removing target and leakage features)\n",
    "X = df.drop(['Installs_Category'], axis=1)\n",
    "\n",
    "# Split dataset into train and test sets\n",
    "X_train, X_test, Y_train, Y_test = train_test_split(X, y, test_size=0.3, random_state=7)\n",
    "\n",
    "# Label Encoding for Target Variable\n",
    "label_encoder = LabelEncoder()\n",
    "Y_train_encoded = label_encoder.fit_transform(Y_train)\n",
    "Y_test_encoded = label_encoder.transform(Y_test)\n",
    "\n",
    "# Feature Scaling\n",
    "scaler = StandardScaler()\n",
    "X_train_scaled = scaler.fit_transform(X_train)\n",
    "X_test_scaled = scaler.transform(X_test)\n",
    "\n",
    "results = []  # Store results for comparison\n",
    "\n",
    "def evaluate_model(model, X_test, Y_test_encoded):\n",
    "    Y_pred_encoded = model.predict(X_test)\n",
    "    accuracy = accuracy_score(Y_test_encoded, Y_pred_encoded)\n",
    "    f1 = f1_score(Y_test_encoded, Y_pred_encoded, average='weighted')\n",
    "\n",
    "    print(f\"Model: {model.__class__.__name__}\")\n",
    "    print(f\"Accuracy: {accuracy:.4f}\")\n",
    "    print(f\"F1 Score: {f1:.4f}\")\n",
    "    print(\"-\" * 40)\n",
    "\n",
    "    # Store results\n",
    "    results.append({\"Model\": model.__class__.__name__, \"Accuracy\": accuracy, \"F1 Score\": f1})\n"
   ]
  },
  {
   "cell_type": "code",
   "execution_count": 13,
   "id": "e306a9f1",
   "metadata": {},
   "outputs": [
    {
     "name": "stdout",
     "output_type": "stream",
     "text": [
      "0:\tlearn: 2.0324097\ttotal: 1.16s\tremaining: 1m 54s\n",
      "99:\tlearn: 1.0346493\ttotal: 1m 41s\tremaining: 0us\n",
      "CatBoost_Accuracy:  0.6554469877439626\n"
     ]
    }
   ],
   "source": [
    "# # Applying Model CatBoost Model\n",
    "import pickle\n",
    "Cat_Boost = CatBoostClassifier(iterations=100, learning_rate=0.1, depth=8, verbose=200, random_seed=7)\n",
    "# Cat_Boost = CatBoostClassifier(verbose = 0)\n",
    "Cat_Boost.fit(X_train_resampled, Y_train_resampled)\n",
    "cb_ac=Cat_Boost.score(X_train, Y_train)\n",
    "print(\"CatBoost_Accuracy: \",cb_ac)\n",
    "\n",
    "with open(\"rating_model_one.pkl\", \"wb\") as f:\n",
    "    pickle.dump(Cat_Boost, f)"
   ]
  },
  {
   "cell_type": "code",
   "execution_count": 10,
   "id": "c6af808a",
   "metadata": {},
   "outputs": [
    {
     "name": "stdout",
     "output_type": "stream",
     "text": [
      "0:\tlearn: 2.0418925\ttotal: 4.66s\tremaining: 7m 41s\n",
      "99:\tlearn: 1.0545019\ttotal: 4m 33s\tremaining: 0us\n"
     ]
    },
    {
     "ename": "NameError",
     "evalue": "name 'evaluate_model' is not defined",
     "output_type": "error",
     "traceback": [
      "\u001b[1;31m---------------------------------------------------------------------------\u001b[0m",
      "\u001b[1;31mNameError\u001b[0m                                 Traceback (most recent call last)",
      "Cell \u001b[1;32mIn[10], line 5\u001b[0m\n\u001b[0;32m      3\u001b[0m cat_clf \u001b[38;5;241m=\u001b[39m CatBoostClassifier(iterations\u001b[38;5;241m=\u001b[39m\u001b[38;5;241m100\u001b[39m, learning_rate\u001b[38;5;241m=\u001b[39m\u001b[38;5;241m0.1\u001b[39m, depth\u001b[38;5;241m=\u001b[39m\u001b[38;5;241m8\u001b[39m, verbose\u001b[38;5;241m=\u001b[39m\u001b[38;5;241m200\u001b[39m, random_seed\u001b[38;5;241m=\u001b[39m\u001b[38;5;241m7\u001b[39m)\n\u001b[0;32m      4\u001b[0m cat_clf\u001b[38;5;241m.\u001b[39mfit(X_train_resampled, Y_train_resampled)\n\u001b[1;32m----> 5\u001b[0m \u001b[43mevaluate_model\u001b[49m(cat_clf, X_test_scaled, Y_test_encoded)\n\u001b[0;32m      6\u001b[0m \u001b[38;5;28;01mwith\u001b[39;00m \u001b[38;5;28mopen\u001b[39m(\u001b[38;5;124m\"\u001b[39m\u001b[38;5;124minstalls_model.pkl\u001b[39m\u001b[38;5;124m\"\u001b[39m, \u001b[38;5;124m\"\u001b[39m\u001b[38;5;124mwb\u001b[39m\u001b[38;5;124m\"\u001b[39m) \u001b[38;5;28;01mas\u001b[39;00m f:\n\u001b[0;32m      7\u001b[0m     pickle\u001b[38;5;241m.\u001b[39mdump(cat_clf, f)\n",
      "\u001b[1;31mNameError\u001b[0m: name 'evaluate_model' is not defined"
     ]
    }
   ],
   "source": [
    "from catboost import CatBoostClassifier\n",
    "from sklearn.metrics import f1_score, roc_curve, auc\n",
    "import matplotlib.pyplot as plt\n",
    "import pickle\n",
    "\n",
    "# Train CatBoost model\n",
    "Cat_Boost = CatBoostClassifier(verbose=0)\n",
    "Cat_Boost.fit(X_train, Y_train)\n",
    "\n",
    "# Model Accuracy\n",
    "cb_ac = Cat_Boost.score(X_train, Y_train)\n",
    "print(\"CatBoost Accuracy: \", cb_ac)\n",
    "\n",
    "# Predictions\n",
    "y_pred = Cat_Boost.predict(X_test)\n",
    "\n",
    "# **F1-Score Calculation**\n",
    "f1 = f1_score(Y_test, y_pred, average=\"weighted\")  # Use 'weighted' for multi-class\n",
    "print(\"F1 Score:\", f1)\n",
    "\n",
    "# **ROC Curve Calculation**\n",
    "y_prob = Cat_Boost.predict_proba(X_test)  # Get probability estimates\n",
    "if len(set(Y_test)) == 2:  # Binary classification\n",
    "    fpr, tpr, _ = roc_curve(Y_test, y_prob[:, 1])  # Only second column for positive class\n",
    "    roc_auc = auc(fpr, tpr)\n",
    "\n",
    "    # Plot ROC Curve\n",
    "    plt.figure(figsize=(8, 6))\n",
    "    plt.plot(fpr, tpr, color=\"blue\", lw=2, label=f\"ROC curve (area = {roc_auc:.2f})\")\n",
    "    plt.plot([0, 1], [0, 1], color=\"gray\", linestyle=\"--\")\n",
    "    plt.xlabel(\"False Positive Rate\")\n",
    "    plt.ylabel(\"True Positive Rate\")\n",
    "    plt.title(\"ROC Curve - CatBoost\")\n",
    "    plt.legend(loc=\"lower right\")\n",
    "    plt.show()\n",
    "    print(\"ROC AUC Score:\", roc_auc)\n",
    "else:\n",
    "    print(\"ROC curve is not applicable for multi-class classification.\")\n",
    "\n",
    "# Save the model\n",
    "with open(\"rating_model.pkl\", \"wb\") as f:\n",
    "    pickle.dump(Cat_Boost, f)\n"
   ]
  },
  {
   "cell_type": "code",
   "execution_count": null,
   "id": "7354422a",
   "metadata": {},
   "outputs": [],
   "source": []
  },
  {
   "cell_type": "code",
   "execution_count": 13,
   "id": "4b95700a",
   "metadata": {},
   "outputs": [
    {
     "name": "stdout",
     "output_type": "stream",
     "text": [
      "0:\tlearn: 2.0275818\ttotal: 536ms\tremaining: 22m 20s\n",
      "200:\tlearn: 1.3014477\ttotal: 2m 34s\tremaining: 29m 32s\n",
      "400:\tlearn: 1.2867157\ttotal: 5m 58s\tremaining: 31m 16s\n",
      "600:\tlearn: 1.2773017\ttotal: 19m 40s\tremaining: 1h 2m 10s\n"
     ]
    },
    {
     "ename": "KeyboardInterrupt",
     "evalue": "",
     "output_type": "error",
     "traceback": [
      "\u001b[1;31m---------------------------------------------------------------------------\u001b[0m",
      "\u001b[1;31mKeyboardInterrupt\u001b[0m                         Traceback (most recent call last)",
      "Cell \u001b[1;32mIn[13], line 5\u001b[0m\n\u001b[0;32m      3\u001b[0m Cat_Boost \u001b[38;5;241m=\u001b[39m CatBoostClassifier(verbose \u001b[38;5;241m=\u001b[39m \u001b[38;5;241m200\u001b[39m, n_estimators \u001b[38;5;241m=\u001b[39m \u001b[38;5;241m2500\u001b[39m, learning_rate\u001b[38;5;241m=\u001b[39m\u001b[38;5;241m0.1\u001b[39m, depth\u001b[38;5;241m=\u001b[39m\u001b[38;5;241m8\u001b[39m,early_stopping_rounds\u001b[38;5;241m=\u001b[39m\u001b[38;5;241m300\u001b[39m)\n\u001b[0;32m      4\u001b[0m \u001b[38;5;66;03m# Cat_Boost = CatBoostClassifier(verbose = 0)\u001b[39;00m\n\u001b[1;32m----> 5\u001b[0m Cat_Boost\u001b[38;5;241m.\u001b[39mfit(X_train_scaled, Y_train_encoded)\n\u001b[0;32m      6\u001b[0m cb_ac\u001b[38;5;241m=\u001b[39mCat_Boost\u001b[38;5;241m.\u001b[39mscore(X_train_scaled, Y_train_encoded)\n\u001b[0;32m      7\u001b[0m \u001b[38;5;28mprint\u001b[39m(\u001b[38;5;124m\"\u001b[39m\u001b[38;5;124mCatBoost_Accuracy: \u001b[39m\u001b[38;5;124m\"\u001b[39m,cb_ac)\n",
      "File \u001b[1;32mc:\\ProgramData\\anaconda3\\Lib\\site-packages\\catboost\\core.py:5245\u001b[0m, in \u001b[0;36mCatBoostClassifier.fit\u001b[1;34m(self, X, y, cat_features, text_features, embedding_features, graph, sample_weight, baseline, use_best_model, eval_set, verbose, logging_level, plot, plot_file, column_description, verbose_eval, metric_period, silent, early_stopping_rounds, save_snapshot, snapshot_file, snapshot_interval, init_model, callbacks, log_cout, log_cerr)\u001b[0m\n\u001b[0;32m   5242\u001b[0m \u001b[38;5;28;01mif\u001b[39;00m \u001b[38;5;124m'\u001b[39m\u001b[38;5;124mloss_function\u001b[39m\u001b[38;5;124m'\u001b[39m \u001b[38;5;129;01min\u001b[39;00m params:\n\u001b[0;32m   5243\u001b[0m     CatBoostClassifier\u001b[38;5;241m.\u001b[39m_check_is_compatible_loss(params[\u001b[38;5;124m'\u001b[39m\u001b[38;5;124mloss_function\u001b[39m\u001b[38;5;124m'\u001b[39m])\n\u001b[1;32m-> 5245\u001b[0m \u001b[38;5;28mself\u001b[39m\u001b[38;5;241m.\u001b[39m_fit(X, y, cat_features, text_features, embedding_features, \u001b[38;5;28;01mNone\u001b[39;00m, graph, sample_weight, \u001b[38;5;28;01mNone\u001b[39;00m, \u001b[38;5;28;01mNone\u001b[39;00m, \u001b[38;5;28;01mNone\u001b[39;00m, \u001b[38;5;28;01mNone\u001b[39;00m, baseline, use_best_model,\n\u001b[0;32m   5246\u001b[0m           eval_set, verbose, logging_level, plot, plot_file, column_description, verbose_eval, metric_period,\n\u001b[0;32m   5247\u001b[0m           silent, early_stopping_rounds, save_snapshot, snapshot_file, snapshot_interval, init_model, callbacks, log_cout, log_cerr)\n\u001b[0;32m   5248\u001b[0m \u001b[38;5;28;01mreturn\u001b[39;00m \u001b[38;5;28mself\u001b[39m\n",
      "File \u001b[1;32mc:\\ProgramData\\anaconda3\\Lib\\site-packages\\catboost\\core.py:2410\u001b[0m, in \u001b[0;36mCatBoost._fit\u001b[1;34m(self, X, y, cat_features, text_features, embedding_features, pairs, graph, sample_weight, group_id, group_weight, subgroup_id, pairs_weight, baseline, use_best_model, eval_set, verbose, logging_level, plot, plot_file, column_description, verbose_eval, metric_period, silent, early_stopping_rounds, save_snapshot, snapshot_file, snapshot_interval, init_model, callbacks, log_cout, log_cerr)\u001b[0m\n\u001b[0;32m   2407\u001b[0m allow_clear_pool \u001b[38;5;241m=\u001b[39m train_params[\u001b[38;5;124m\"\u001b[39m\u001b[38;5;124mallow_clear_pool\u001b[39m\u001b[38;5;124m\"\u001b[39m]\n\u001b[0;32m   2409\u001b[0m \u001b[38;5;28;01mwith\u001b[39;00m plot_wrapper(plot, plot_file, \u001b[38;5;124m'\u001b[39m\u001b[38;5;124mTraining plots\u001b[39m\u001b[38;5;124m'\u001b[39m, [_get_train_dir(\u001b[38;5;28mself\u001b[39m\u001b[38;5;241m.\u001b[39mget_params())]):\n\u001b[1;32m-> 2410\u001b[0m     \u001b[38;5;28mself\u001b[39m\u001b[38;5;241m.\u001b[39m_train(\n\u001b[0;32m   2411\u001b[0m         train_pool,\n\u001b[0;32m   2412\u001b[0m         train_params[\u001b[38;5;124m\"\u001b[39m\u001b[38;5;124meval_sets\u001b[39m\u001b[38;5;124m\"\u001b[39m],\n\u001b[0;32m   2413\u001b[0m         params,\n\u001b[0;32m   2414\u001b[0m         allow_clear_pool,\n\u001b[0;32m   2415\u001b[0m         train_params[\u001b[38;5;124m\"\u001b[39m\u001b[38;5;124minit_model\u001b[39m\u001b[38;5;124m\"\u001b[39m]\n\u001b[0;32m   2416\u001b[0m     )\n\u001b[0;32m   2418\u001b[0m \u001b[38;5;66;03m# Have property feature_importance possibly set\u001b[39;00m\n\u001b[0;32m   2419\u001b[0m loss \u001b[38;5;241m=\u001b[39m \u001b[38;5;28mself\u001b[39m\u001b[38;5;241m.\u001b[39m_object\u001b[38;5;241m.\u001b[39m_get_loss_function_name()\n",
      "File \u001b[1;32mc:\\ProgramData\\anaconda3\\Lib\\site-packages\\catboost\\core.py:1790\u001b[0m, in \u001b[0;36m_CatBoostBase._train\u001b[1;34m(self, train_pool, test_pool, params, allow_clear_pool, init_model)\u001b[0m\n\u001b[0;32m   1789\u001b[0m \u001b[38;5;28;01mdef\u001b[39;00m \u001b[38;5;21m_train\u001b[39m(\u001b[38;5;28mself\u001b[39m, train_pool, test_pool, params, allow_clear_pool, init_model):\n\u001b[1;32m-> 1790\u001b[0m     \u001b[38;5;28mself\u001b[39m\u001b[38;5;241m.\u001b[39m_object\u001b[38;5;241m.\u001b[39m_train(train_pool, test_pool, params, allow_clear_pool, init_model\u001b[38;5;241m.\u001b[39m_object \u001b[38;5;28;01mif\u001b[39;00m init_model \u001b[38;5;28;01melse\u001b[39;00m \u001b[38;5;28;01mNone\u001b[39;00m)\n\u001b[0;32m   1791\u001b[0m     \u001b[38;5;28mself\u001b[39m\u001b[38;5;241m.\u001b[39m_set_trained_model_attributes()\n",
      "File \u001b[1;32m_catboost.pyx:5017\u001b[0m, in \u001b[0;36m_catboost._CatBoost._train\u001b[1;34m()\u001b[0m\n",
      "File \u001b[1;32m_catboost.pyx:5066\u001b[0m, in \u001b[0;36m_catboost._CatBoost._train\u001b[1;34m()\u001b[0m\n",
      "\u001b[1;31mKeyboardInterrupt\u001b[0m: "
     ]
    }
   ],
   "source": [
    "# Applying Model CatBoost Model\n",
    "import pickle\n",
    "Cat_Boost = CatBoostClassifier(verbose = 200, n_estimators = 2500, learning_rate=0.1, depth=8,early_stopping_rounds=300)\n",
    "# Cat_Boost = CatBoostClassifier(verbose = 0)\n",
    "Cat_Boost.fit(X_train_scaled, Y_train_encoded)\n",
    "cb_ac=Cat_Boost.score(X_train_scaled, Y_train_encoded)\n",
    "print(\"CatBoost_Accuracy: \",cb_ac)\n",
    "\n",
    "with open(\"installs_model.pkl\", \"wb\") as f:\n",
    "    pickle.dump(Cat_Boost, f)"
   ]
  },
  {
   "cell_type": "code",
   "execution_count": 15,
   "id": "2a3ff2d7",
   "metadata": {},
   "outputs": [
    {
     "name": "stdout",
     "output_type": "stream",
     "text": [
      "Model: LogisticRegression\n",
      "Accuracy: 0.3590\n",
      "F1 Score: 0.3975\n",
      "----------------------------------------\n"
     ]
    }
   ],
   "source": [
    "#Applying Model Logistic Regression\n",
    "\n",
    "\n",
    "log_reg = LogisticRegression(max_iter=500, class_weight='balanced')\n",
    "log_reg.fit(X_train_scaled, Y_train_encoded)\n",
    "evaluate_model(log_reg, X_test_scaled, Y_test_encoded)\n"
   ]
  },
  {
   "cell_type": "code",
   "execution_count": null,
   "id": "c375a775",
   "metadata": {},
   "outputs": [
    {
     "name": "stdout",
     "output_type": "stream",
     "text": [
      "Model: RandomForestClassifier\n",
      "Accuracy: 0.4188\n",
      "F1 Score: 0.5202\n",
      "----------------------------------------\n"
     ]
    }
   ],
   "source": [
    "#Applying Model RandomForest\n",
    "\n",
    "rf_clf = RandomForestClassifier(n_estimators=100, random_state=7, class_weight='balanced')\n",
    "rf_clf.fit(X_train_scaled, Y_train_encoded)\n",
    "evaluate_model(rf_clf, X_test_scaled, Y_test_encoded)\n"
   ]
  },
  {
   "cell_type": "code",
   "execution_count": null,
   "id": "cd0e241c",
   "metadata": {},
   "outputs": [
    {
     "name": "stdout",
     "output_type": "stream",
     "text": [
      "Model: DecisionTreeClassifier\n",
      "Accuracy: 0.7723\n",
      "F1 Score: 0.6926\n",
      "----------------------------------------\n"
     ]
    }
   ],
   "source": [
    "#Applying Model DecisionTree Classifier\n",
    "\n",
    "dt_clf = DecisionTreeClassifier(random_state=7)\n",
    "dt_clf.fit(X_train_scaled, Y_train_encoded)\n",
    "evaluate_model(dt_clf, X_test_scaled, Y_test_encoded)\n"
   ]
  },
  {
   "cell_type": "code",
   "execution_count": null,
   "id": "0b792da8",
   "metadata": {},
   "outputs": [
    {
     "name": "stdout",
     "output_type": "stream",
     "text": [
      "Model: GaussianNB\n",
      "Accuracy: 0.6015\n",
      "F1 Score: 0.6205\n",
      "----------------------------------------\n"
     ]
    }
   ],
   "source": [
    "#Applying Model Naive Bayesian\n",
    "\n",
    "nb_clf = GaussianNB()\n",
    "nb_clf.fit(X_train_scaled, Y_train_encoded)\n",
    "evaluate_model(nb_clf, X_test_scaled, Y_test_encoded)"
   ]
  },
  {
   "cell_type": "code",
   "execution_count": null,
   "id": "5894954b",
   "metadata": {},
   "outputs": [
    {
     "name": "stdout",
     "output_type": "stream",
     "text": [
      "Model: KNeighborsClassifier\n",
      "Accuracy: 0.7618\n",
      "F1 Score: 0.6932\n",
      "----------------------------------------\n"
     ]
    }
   ],
   "source": [
    "# Applying K-Nearest Neighbors\n",
    "\n",
    "\n",
    "knn_clf = KNeighborsClassifier(n_neighbors=5)\n",
    "knn_clf.fit(X_train_scaled, Y_train_encoded)\n",
    "evaluate_model(knn_clf, X_test_scaled, Y_test_encoded)\n"
   ]
  },
  {
   "cell_type": "code",
   "execution_count": null,
   "id": "792c5f41",
   "metadata": {},
   "outputs": [
    {
     "name": "stdout",
     "output_type": "stream",
     "text": [
      "Model: LinearDiscriminantAnalysis\n",
      "Accuracy: 0.7712\n",
      "F1 Score: 0.6867\n",
      "----------------------------------------\n"
     ]
    }
   ],
   "source": [
    "# Fine-tuning Linear Discriminant Analysis (LDA)\n",
    "lda_clf = LinearDiscriminantAnalysis()\n",
    "lda_clf.fit(X_train_scaled, Y_train_encoded)\n",
    "evaluate_model(lda_clf, X_test_scaled, Y_test_encoded)\n"
   ]
  },
  {
   "cell_type": "code",
   "execution_count": null,
   "id": "c40a6e56",
   "metadata": {},
   "outputs": [
    {
     "name": "stdout",
     "output_type": "stream",
     "text": [
      "Model: GradientBoostingClassifier\n",
      "Accuracy: 0.7801\n",
      "F1 Score: 0.6861\n",
      "----------------------------------------\n"
     ]
    }
   ],
   "source": [
    "# Applying Gradient Boosting Classifier\n",
    "\n",
    "\n",
    "gb_clf = GradientBoostingClassifier(n_estimators=100, learning_rate=0.1, random_state=7)\n",
    "gb_clf.fit(X_train_scaled, Y_train_encoded)\n",
    "evaluate_model(gb_clf, X_test_scaled, Y_test_encoded)\n"
   ]
  },
  {
   "cell_type": "code",
   "execution_count": null,
   "id": "78dd7d17",
   "metadata": {},
   "outputs": [
    {
     "name": "stdout",
     "output_type": "stream",
     "text": [
      "Model: AdaBoostClassifier\n",
      "Accuracy: 0.7798\n",
      "F1 Score: 0.6834\n",
      "----------------------------------------\n"
     ]
    }
   ],
   "source": [
    "# Applying AdaBoost Classifier\n",
    "\n",
    "ada_clf = AdaBoostClassifier(n_estimators=100, learning_rate=0.1, random_state=7)\n",
    "ada_clf.fit(X_train_scaled, Y_train_encoded)\n",
    "evaluate_model(ada_clf, X_test_scaled, Y_test_encoded)\n"
   ]
  },
  {
   "cell_type": "code",
   "execution_count": null,
   "id": "b21175e1",
   "metadata": {},
   "outputs": [
    {
     "name": "stdout",
     "output_type": "stream",
     "text": [
      "Model: XGBClassifier\n",
      "Accuracy: 0.7804\n",
      "F1 Score: 0.6869\n",
      "----------------------------------------\n"
     ]
    }
   ],
   "source": [
    "# Applying XGBoost Classifier\n",
    "\n",
    "\n",
    "xgb_clf = xgb.XGBClassifier(n_estimators=100, learning_rate=0.1, random_state=7)\n",
    "xgb_clf.fit(X_train_scaled, Y_train_encoded)\n",
    "evaluate_model(xgb_clf, X_test_scaled, Y_test_encoded)\n"
   ]
  },
  {
   "cell_type": "code",
   "execution_count": null,
   "id": "836b4fd0",
   "metadata": {},
   "outputs": [],
   "source": []
  },
  {
   "cell_type": "code",
   "execution_count": null,
   "id": "8b4759cc",
   "metadata": {},
   "outputs": [],
   "source": []
  },
  {
   "cell_type": "code",
   "execution_count": null,
   "id": "f088722e",
   "metadata": {},
   "outputs": [],
   "source": []
  }
 ],
 "metadata": {
  "kernelspec": {
   "display_name": "Python 3",
   "language": "python",
   "name": "python3"
  },
  "language_info": {
   "codemirror_mode": {
    "name": "ipython",
    "version": 3
   },
   "file_extension": ".py",
   "mimetype": "text/x-python",
   "name": "python",
   "nbconvert_exporter": "python",
   "pygments_lexer": "ipython3",
   "version": "3.10.11"
  }
 },
 "nbformat": 4,
 "nbformat_minor": 5
}
