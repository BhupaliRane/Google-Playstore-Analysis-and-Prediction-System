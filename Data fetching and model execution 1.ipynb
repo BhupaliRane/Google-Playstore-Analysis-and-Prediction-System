{
 "cells": [
  {
   "cell_type": "code",
   "execution_count": null,
   "id": "d353d4b6",
   "metadata": {},
   "outputs": [],
   "source": [
    "import pandas as pd\n",
    "import mysql.connector\n",
    "import numpy as np\n",
    "import pickle\n",
    "\n",
    "from sklearn.metrics import accuracy_score,f1_score\n",
    "\n",
    "from scipy.stats import zscore\n",
    "from sklearn.model_selection import train_test_split\n",
    "from sklearn.tree import DecisionTreeClassifier\n",
    "\n",
    "from sklearn.tree import DecisionTreeClassifier\n",
    "from sklearn.model_selection import cross_val_score\n",
    "from sklearn.naive_bayes import BernoulliNB\n",
    "from catboost import CatBoostClassifier\n",
    "from sklearn.ensemble import HistGradientBoostingClassifier\n",
    "\n",
    "from sklearn.ensemble import RandomForestClassifier\n",
    "from imblearn.combine import SMOTETomek\n",
    "from collections import Counter\n",
    "\n",
    "%matplotlib inline"
   ]
  },
  {
   "cell_type": "code",
   "execution_count": null,
   "id": "aef1cd74",
   "metadata": {},
   "outputs": [
    {
     "name": "stderr",
     "output_type": "stream",
     "text": [
      "c:\\Users\\ryran\\anaconda3\\lib\\site-packages\\pandas\\io\\sql.py:762: UserWarning: pandas only support SQLAlchemy connectable(engine/connection) ordatabase string URI or sqlite3 DBAPI2 connectionother DBAPI2 objects are not tested, please consider using SQLAlchemy\n",
      "  warnings.warn(\n"
     ]
    },
    {
     "name": "stdout",
     "output_type": "stream",
     "text": [
      "   Category_Encoded  Size_in_Mb  Content_Rating_Encoded  Ad_Supported  \\\n",
      "0                 0        10.0                       0             0   \n",
      "1                 1         2.9                       0             1   \n",
      "2                 2         3.7                       0             0   \n",
      "3                 3         1.8                       0             1   \n",
      "4                 1         6.2                       0             0   \n",
      "\n",
      "   In_App_Purchases  Installs  Free  Rating_Count  Editors_Choice  \\\n",
      "0                 0        10     1             0               0   \n",
      "1                 0      5000     1            64               0   \n",
      "2                 0        50     1             0               0   \n",
      "3                 0        10     1             5               0   \n",
      "4                 0       100     1             0               0   \n",
      "\n",
      "   Transformed_Rating  \n",
      "0                   0  \n",
      "1                   4  \n",
      "2                   0  \n",
      "3                   5  \n",
      "4                   0  \n"
     ]
    }
   ],
   "source": [
    "# Connect to SQL Server\n",
    "conn = mysql.connector.connect(host=\"googleplaystore.c3cws8u8uo3n.us-east-1.rds.amazonaws.com\", user=\"admin\", password=\"GpsDbda1\", database=\"googleplaystore\", port=3306)\n",
    "# Fetch Data\n",
    "query = \"SELECT * FROM ratings_prediction\"\n",
    "df = pd.read_sql(query, conn)\n",
    "conn.close()\n",
    "df = df.drop(columns=['id','Category', 'Content_Rating'])\n",
    "# Show first few rows\n",
    "print(df.head())"
   ]
  },
  {
   "cell_type": "code",
   "execution_count": 3,
   "id": "65c4986e",
   "metadata": {},
   "outputs": [
    {
     "data": {
      "text/plain": [
       "(2312683, 10)"
      ]
     },
     "execution_count": 3,
     "metadata": {},
     "output_type": "execute_result"
    }
   ],
   "source": [
    "df.shape"
   ]
  },
  {
   "cell_type": "code",
   "execution_count": 4,
   "id": "52668d25",
   "metadata": {},
   "outputs": [
    {
     "data": {
      "text/plain": [
       "0    1066841\n",
       "4     588290\n",
       "5     423009\n",
       "3     189288\n",
       "2      41028\n",
       "1       4227\n",
       "Name: Transformed_Rating, dtype: int64"
      ]
     },
     "execution_count": 4,
     "metadata": {},
     "output_type": "execute_result"
    }
   ],
   "source": [
    "df.Transformed_Rating.value_counts()"
   ]
  },
  {
   "cell_type": "code",
   "execution_count": null,
   "id": "dac86d24",
   "metadata": {},
   "outputs": [
    {
     "name": "stdout",
     "output_type": "stream",
     "text": [
      "New DataFrame Shape: (1612683, 10)\n"
     ]
    }
   ],
   "source": [
    "zero_rating_rows = df[df[\"Transformed_Rating\"] == 0]\n",
    "rows_to_drop = zero_rating_rows.sample(n=700000, random_state=7)\n",
    "# Drop these rows from the original DataFrame\n",
    "df = df.drop(rows_to_drop.index).reset_index(drop=True)\n",
    "print(\"New DataFrame Shape:\", df.shape)"
   ]
  },
  {
   "cell_type": "code",
   "execution_count": 6,
   "id": "e0685ba2",
   "metadata": {},
   "outputs": [
    {
     "data": {
      "text/plain": [
       "4    588290\n",
       "5    423009\n",
       "0    366841\n",
       "3    189288\n",
       "2     41028\n",
       "1      4227\n",
       "Name: Transformed_Rating, dtype: int64"
      ]
     },
     "execution_count": 6,
     "metadata": {},
     "output_type": "execute_result"
    }
   ],
   "source": [
    "df.Transformed_Rating.value_counts()"
   ]
  },
  {
   "cell_type": "code",
   "execution_count": 7,
   "id": "f5d2eae5",
   "metadata": {},
   "outputs": [
    {
     "name": "stdout",
     "output_type": "stream",
     "text": [
      "🔹 Original Class Distribution: Counter({4: 588290, 5: 423009, 0: 366841, 3: 189288, 2: 41028, 1: 4227})\n",
      "New DataFrame Shape: (1612683, 10)\n",
      "🔹 After SMOTETomek: Counter({0: 411793, 1: 406872, 2: 394347, 3: 382047, 5: 371337, 4: 360302})\n",
      "X shape: (2326698, 9), Y shape: (2326698,)\n"
     ]
    }
   ],
   "source": [
    "# Load dataset\n",
    "X = df.drop(\"Transformed_Rating\", axis=1)  # Features\n",
    "Y = df[\"Transformed_Rating\"]  # Target variable\n",
    "\n",
    "print(\"🔹 Original Class Distribution:\", Counter(Y))\n",
    "print(\"New DataFrame Shape:\", df.shape)\n",
    "\n",
    "X_train, X_test, Y_train, Y_test = train_test_split(X, Y,test_size=0.3, random_state=7,stratify=Y)\n",
    "smote_tomek = SMOTETomek(random_state=7)\n",
    "X_train_resampled, Y_train_resampled = smote_tomek.fit_resample(X_train, Y_train)\n",
    "print(\"🔹 After SMOTETomek:\", Counter(Y_train_resampled))\n",
    " \n",
    "print(f\"X shape: {X_train_resampled.shape}, Y shape: {Y_train_resampled.shape}\")"
   ]
  },
  {
   "cell_type": "code",
   "execution_count": 8,
   "id": "2676efdd",
   "metadata": {},
   "outputs": [
    {
     "data": {
      "text/plain": [
       "(1612683, 10)"
      ]
     },
     "execution_count": 8,
     "metadata": {},
     "output_type": "execute_result"
    }
   ],
   "source": [
    "df.shape"
   ]
  },
  {
   "cell_type": "code",
   "execution_count": null,
   "id": "64bf454a",
   "metadata": {},
   "outputs": [
    {
     "name": "stdout",
     "output_type": "stream",
     "text": [
      "\n",
      "Bernoulli Naive Bayes Accuracy: 0.47844482797821436\n",
      "\n",
      "F1 Score: 0.4498093448726393\n"
     ]
    }
   ],
   "source": [
    "# Initialize and train Bernoulli Naive Bayes\n",
    "NB = BernoulliNB(binarize=0.0)\n",
    "NB.fit(X_train_resampled, Y_train_resampled)\n",
    "\n",
    "y_pred = NB.predict(X_test)\n",
    "y_prob = NB.predict_proba(X_test)\n",
    "\n",
    "nb_ac = accuracy_score(Y_test, y_pred)\n",
    "print(\"\\nBernoulli Naive Bayes Accuracy:\", nb_ac)\n",
    "\n",
    "f1 = f1_score(Y_test, y_pred, average=\"weighted\")\n",
    "print(\"\\nF1 Score:\", f1)\n"
   ]
  },
  {
   "cell_type": "code",
   "execution_count": 12,
   "id": "c375a775",
   "metadata": {},
   "outputs": [
    {
     "name": "stdout",
     "output_type": "stream",
     "text": [
      "\n",
      "RandomForest Accuracy: 0.5862733952728889\n",
      "\n",
      "F1 Score: 0.6007421076460289\n"
     ]
    }
   ],
   "source": [
    "# Initialize and train RandomForestClassifier\n",
    "rdf_c = RandomForestClassifier(random_state=7)\n",
    "rdf_c.fit(X_train_resampled, Y_train_resampled)\n",
    "\n",
    "rdf_pred = rdf_c.predict(X_test)\n",
    "rdf_prob = rdf_c.predict_proba(X_test)\n",
    "\n",
    "rdf_ac = accuracy_score(Y_test, rdf_pred)\n",
    "print(\"\\nRandomForest Accuracy:\", rdf_ac)\n",
    "\n",
    "f1 = f1_score(Y_test, rdf_pred, average=\"weighted\")\n",
    "print(\"\\nF1 Score:\", f1)"
   ]
  },
  {
   "cell_type": "code",
   "execution_count": 13,
   "id": "cd0e241c",
   "metadata": {},
   "outputs": [
    {
     "name": "stdout",
     "output_type": "stream",
     "text": [
      "\n",
      "DecisionTreeClassifier Accuracy: 0.5394508117940079\n",
      "\n",
      "F1 Score: 0.579644796875134\n"
     ]
    }
   ],
   "source": [
    "# Initialize and train DecisionTreeClassifier\n",
    "dtree_c = DecisionTreeClassifier(random_state=7, criterion='entropy', max_depth=10, min_samples_leaf=2, min_samples_split=5)\n",
    "dtree_c.fit(X_train_resampled, Y_train_resampled)\n",
    "\n",
    "dtree_pred = dtree_c.predict(X_test)\n",
    "dtree_prob = dtree_c.predict_proba(X_test)    \n",
    "\n",
    "dtree_ac = accuracy_score(Y_test, dtree_pred)\n",
    "print(\"\\nDecisionTreeClassifier Accuracy:\", dtree_ac)\n",
    "\n",
    "f1 = f1_score(Y_test, dtree_pred, average=\"weighted\")\n",
    "print(\"\\nF1 Score:\", f1)"
   ]
  },
  {
   "cell_type": "code",
   "execution_count": 15,
   "id": "10d2d88e",
   "metadata": {},
   "outputs": [
    {
     "name": "stdout",
     "output_type": "stream",
     "text": [
      "HistGradientBoosting Classifier Accuracy: 0.5778361116565558\n",
      "\n",
      "F1 Score: 0.6101447496478094\n"
     ]
    }
   ],
   "source": [
    "# Initialize and train the model\n",
    "hgbc = HistGradientBoostingClassifier(max_iter=100, learning_rate=0.1, random_state=7)\n",
    "hgbc.fit(X_train_resampled, Y_train_resampled)\n",
    "\n",
    "y_pred = hgbc.predict(X_test)\n",
    "y_prob = hgbc.predict_proba(X_test)\n",
    "\n",
    "hgbc_ac = accuracy_score(Y_test, y_pred)\n",
    "print(\"HistGradientBoosting Classifier Accuracy:\", hgbc_ac)\n",
    "\n",
    "f1 = f1_score(Y_test, y_pred, average=\"weighted\")\n",
    "print(\"\\nF1 Score:\", f1)"
   ]
  },
  {
   "cell_type": "code",
   "execution_count": 16,
   "id": "0b36be7c",
   "metadata": {},
   "outputs": [
    {
     "name": "stdout",
     "output_type": "stream",
     "text": [
      "0:\tlearn: 1.4409385\ttotal: 2.49s\tremaining: 2h 45m 43s\n",
      "300:\tlearn: 0.8680148\ttotal: 9m 22s\tremaining: 1h 55m 7s\n",
      "600:\tlearn: 0.8019292\ttotal: 18m 50s\tremaining: 1h 46m 34s\n",
      "900:\tlearn: 0.7641498\ttotal: 28m 25s\tremaining: 1h 37m 46s\n",
      "1200:\tlearn: 0.7365572\ttotal: 38m 8s\tremaining: 1h 28m 53s\n",
      "1500:\tlearn: 0.7148124\ttotal: 47m 53s\tremaining: 1h 19m 43s\n",
      "1800:\tlearn: 0.6966141\ttotal: 57m 45s\tremaining: 1h 10m 31s\n",
      "2100:\tlearn: 0.6814608\ttotal: 1h 7m 40s\tremaining: 1h 1m 10s\n",
      "2400:\tlearn: 0.6675068\ttotal: 1h 17m 43s\tremaining: 51m 45s\n",
      "2700:\tlearn: 0.6545191\ttotal: 1h 27m 49s\tremaining: 42m 14s\n",
      "3000:\tlearn: 0.6435398\ttotal: 1h 37m 59s\tremaining: 32m 37s\n",
      "3300:\tlearn: 0.6336488\ttotal: 1h 48m 13s\tremaining: 22m 55s\n",
      "3600:\tlearn: 0.6244141\ttotal: 1h 58m 31s\tremaining: 13m 7s\n",
      "3900:\tlearn: 0.6153750\ttotal: 2h 8m 55s\tremaining: 3m 16s\n",
      "3999:\tlearn: 0.6124841\ttotal: 2h 13m 44s\tremaining: 0us\n",
      "\n",
      "CatBoost Accuracy: 0.7652389781570277\n",
      "\n",
      "F1 Score: 0.6284805816228644\n"
     ]
    }
   ],
   "source": [
    "# Initialize and train CatBoost Classifier\n",
    "Cat_Boost = CatBoostClassifier(verbose=300, n_estimators=4000, learning_rate=0.3, depth=10, early_stopping_rounds=300)\n",
    "Cat_Boost.fit(X_train_resampled, Y_train_resampled)\n",
    " \n",
    "cb_ac = Cat_Boost.score(X_train_resampled, Y_train_resampled)\n",
    "print(\"\\nCatBoost Accuracy:\", cb_ac)\n",
    "\n",
    "y_pred = Cat_Boost.predict(X_test)\n",
    "y_prob = Cat_Boost.predict_proba(X_test)\n",
    "\n",
    "f1 = f1_score(Y_test, y_pred, average=\"weighted\")\n",
    "print(\"\\nF1 Score:\", f1)\n",
    "\n",
    "# Save model\n",
    "with open(\"model.pkl\", \"wb\") as f:\n",
    "    pickle.dump(Cat_Boost, f)"
   ]
  },
  {
   "cell_type": "code",
   "execution_count": null,
   "id": "1b8ce9ab",
   "metadata": {},
   "outputs": [],
   "source": []
  }
 ],
 "metadata": {
  "kernelspec": {
   "display_name": "base",
   "language": "python",
   "name": "python3"
  },
  "language_info": {
   "codemirror_mode": {
    "name": "ipython",
    "version": 3
   },
   "file_extension": ".py",
   "mimetype": "text/x-python",
   "name": "python",
   "nbconvert_exporter": "python",
   "pygments_lexer": "ipython3",
   "version": "3.9.13"
  }
 },
 "nbformat": 4,
 "nbformat_minor": 5
}
