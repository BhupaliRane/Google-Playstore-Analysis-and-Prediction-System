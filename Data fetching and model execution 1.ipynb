{
 "cells": [
  {
   "cell_type": "code",
   "execution_count": 2,
   "id": "d353d4b6",
   "metadata": {},
   "outputs": [],
   "source": [
    "import pandas as pd\n",
    "import mysql.connector\n",
    "import numpy as np\n",
    "import seaborn as sns\n",
    "import matplotlib.pyplot as plt\n",
    "import pickle\n",
    "\n",
    "from sklearn.metrics import accuracy_score, classification_report, confusion_matrix, log_loss, roc_auc_score,f1_score\n",
    "\n",
    "from sklearn.preprocessing import StandardScaler\n",
    "from scipy.stats import zscore\n",
    "from sklearn.model_selection import train_test_split\n",
    "from sklearn.tree import DecisionTreeClassifier\n",
    "from sklearn.feature_selection import RFE\n",
    "\n",
    "from sklearn.linear_model import LogisticRegression\n",
    "from sklearn.tree import DecisionTreeClassifier\n",
    "from sklearn.model_selection import RepeatedKFold, KFold\n",
    "from sklearn.model_selection import cross_val_score\n",
    "from sklearn.naive_bayes import BernoulliNB, GaussianNB\n",
    "import xgboost as xgb\n",
    "from xgboost import XGBClassifier\n",
    "from catboost import CatBoostClassifier\n",
    "from sklearn.ensemble import HistGradientBoostingClassifier\n",
    "from sklearn.neighbors import KNeighborsClassifier\n",
    "from sklearn.ensemble import GradientBoostingClassifier\n",
    "from sklearn.discriminant_analysis import LinearDiscriminantAnalysis\n",
    "from sklearn.preprocessing import LabelEncoder, StandardScaler\n",
    "from sklearn.ensemble import RandomForestClassifier, AdaBoostClassifier, GradientBoostingClassifier\n",
    "from sklearn.model_selection import GridSearchCV\n",
    "from imblearn.combine import SMOTETomek\n",
    "from collections import Counter\n",
    "\n",
    "%matplotlib inline"
   ]
  },
  {
   "cell_type": "code",
   "execution_count": 3,
   "id": "aef1cd74",
   "metadata": {},
   "outputs": [
    {
     "name": "stderr",
     "output_type": "stream",
     "text": [
      "C:\\Users\\Dell 7490\\AppData\\Local\\Temp\\ipykernel_16812\\25544165.py:5: UserWarning: pandas only supports SQLAlchemy connectable (engine/connection) or database string URI or sqlite3 DBAPI2 connection. Other DBAPI2 objects are not tested. Please consider using SQLAlchemy.\n",
      "  df = pd.read_sql(query, conn)\n"
     ]
    },
    {
     "name": "stdout",
     "output_type": "stream",
     "text": [
      "   Category  Size_in_Mb  Content_Rating  Ad_Supported  In_App_Purchases  \\\n",
      "0       0.0        10.0             0.0             0                 0   \n",
      "1       1.0         2.9             0.0             1                 0   \n",
      "2       2.0         3.7             0.0             0                 0   \n",
      "3       3.0         1.8             0.0             1                 0   \n",
      "4       1.0         6.2             0.0             0                 0   \n",
      "\n",
      "   Transformed_Rating  Installs  Free  Rating_Count  Editors_Choice  \n",
      "0                   0      10.0     1           0.0               0  \n",
      "1                   4    5000.0     1          64.0               0  \n",
      "2                   0      50.0     1           0.0               0  \n",
      "3                   5      10.0     1           5.0               0  \n",
      "4                   0     100.0     1           0.0               0  \n"
     ]
    }
   ],
   "source": [
    "# Connect to SQL Server\n",
    "conn = mysql.connector.connect(host=\"RGVyavahare\", user=\"root\", password=\"root\", database=\"GooglePlayStore\")\n",
    "# Fetch Data\n",
    "query = \"SELECT * FROM rating_pred\"\n",
    "df = pd.read_sql(query, conn)\n",
    "conn.close()\n",
    "df = df.drop('id', axis=1)\n",
    "# Show first few rows\n",
    "print(df.head())"
   ]
  },
  {
   "cell_type": "code",
   "execution_count": 4,
   "id": "65c4986e",
   "metadata": {},
   "outputs": [
    {
     "data": {
      "text/plain": [
       "(2312683, 10)"
      ]
     },
     "execution_count": 4,
     "metadata": {},
     "output_type": "execute_result"
    }
   ],
   "source": [
    "df.shape"
   ]
  },
  {
   "cell_type": "code",
   "execution_count": 5,
   "id": "52668d25",
   "metadata": {},
   "outputs": [
    {
     "data": {
      "text/plain": [
       "Transformed_Rating\n",
       "0    1066841\n",
       "4     588290\n",
       "5     423009\n",
       "3     189288\n",
       "2      41028\n",
       "1       4227\n",
       "Name: count, dtype: int64"
      ]
     },
     "execution_count": 5,
     "metadata": {},
     "output_type": "execute_result"
    }
   ],
   "source": [
    "df.Transformed_Rating.value_counts()"
   ]
  },
  {
   "cell_type": "code",
   "execution_count": 6,
   "id": "dac86d24",
   "metadata": {},
   "outputs": [
    {
     "name": "stdout",
     "output_type": "stream",
     "text": [
      "New DataFrame Shape: (1612683, 10)\n"
     ]
    }
   ],
   "source": [
    "zero_rating_rows = df[df[\"Transformed_Rating\"] == 0]\n",
    "rows_to_drop = zero_rating_rows.sample(n=700000, random_state=42)\n",
    "# Drop these rows from the original DataFrame\n",
    "df = df.drop(rows_to_drop.index).reset_index(drop=True)\n",
    "print(\"New DataFrame Shape:\", df.shape)"
   ]
  },
  {
   "cell_type": "code",
   "execution_count": 7,
   "id": "e0685ba2",
   "metadata": {},
   "outputs": [
    {
     "data": {
      "text/plain": [
       "Transformed_Rating\n",
       "4    588290\n",
       "5    423009\n",
       "0    366841\n",
       "3    189288\n",
       "2     41028\n",
       "1      4227\n",
       "Name: count, dtype: int64"
      ]
     },
     "execution_count": 7,
     "metadata": {},
     "output_type": "execute_result"
    }
   ],
   "source": [
    "df.Transformed_Rating.value_counts()"
   ]
  },
  {
   "cell_type": "code",
   "execution_count": 8,
   "id": "f5d2eae5",
   "metadata": {},
   "outputs": [
    {
     "name": "stdout",
     "output_type": "stream",
     "text": [
      "🔹 Original Class Distribution: Counter({4: 588290, 5: 423009, 0: 366841, 3: 189288, 2: 41028, 1: 4227})\n",
      "New DataFrame Shape: (1612683, 10)\n",
      "🔹 After SMOTETomek: Counter({0: 411793, 1: 406872, 2: 394347, 3: 382047, 5: 371337, 4: 360302})\n",
      "X shape: (2326698, 9), Y shape: (2326698,)\n"
     ]
    }
   ],
   "source": [
    "# Load dataset\n",
    "X = df.drop(\"Transformed_Rating\", axis=1)  # Features\n",
    "Y = df[\"Transformed_Rating\"]  # Target variable\n",
    "\n",
    "print(\"🔹 Original Class Distribution:\", Counter(Y))\n",
    "print(\"New DataFrame Shape:\", df.shape)\n",
    "\n",
    "X_train, X_test, Y_train, Y_test = train_test_split(X, Y,test_size=0.3, random_state=7,stratify=Y)\n",
    "smote_tomek = SMOTETomek(random_state=7)\n",
    "X_train_resampled, Y_train_resampled = smote_tomek.fit_resample(X_train, Y_train)\n",
    "print(\"🔹 After SMOTETomek:\", Counter(Y_train_resampled))\n",
    " \n",
    "print(f\"X shape: {X_train_resampled.shape}, Y shape: {Y_train_resampled.shape}\")"
   ]
  },
  {
   "cell_type": "code",
   "execution_count": 9,
   "id": "2676efdd",
   "metadata": {},
   "outputs": [
    {
     "data": {
      "text/plain": [
       "(1612683, 10)"
      ]
     },
     "execution_count": 9,
     "metadata": {},
     "output_type": "execute_result"
    }
   ],
   "source": [
    "df.shape"
   ]
  },
  {
   "cell_type": "code",
   "execution_count": 24,
   "id": "64bf454a",
   "metadata": {},
   "outputs": [
    {
     "name": "stdout",
     "output_type": "stream",
     "text": [
      "\n",
      "Bernoulli Naive Bayes Accuracy: 0.47844482797821436\n",
      "\n",
      "F1 Score: 0.44980934487263924\n"
     ]
    }
   ],
   "source": [
    "# Initialize and train Bernoulli Naive Bayes\n",
    "NB = BernoulliNB(binarize=0.0)\n",
    "NB.fit(X_train_resampled, Y_train_resampled)\n",
    "\n",
    "y_pred = NB.predict(X_test)\n",
    "y_prob = NB.predict_proba(X_test)\n",
    "\n",
    "nb_ac = accuracy_score(Y_test, y_pred)\n",
    "print(\"\\nBernoulli Naive Bayes Accuracy:\", nb_ac)\n",
    "\n",
    "f1 = f1_score(Y_test, y_pred, average=\"weighted\")\n",
    "print(\"\\nF1 Score:\", f1)\n"
   ]
  },
  {
   "cell_type": "code",
   "execution_count": 25,
   "id": "7ddc00fb",
   "metadata": {},
   "outputs": [
    {
     "name": "stdout",
     "output_type": "stream",
     "text": [
      "HistGradientBoosting Classifier Accuracy: 0.5778361116565558\n",
      "\n",
      "F1 Score: 0.6101447496478094\n"
     ]
    }
   ],
   "source": [
    "# Initialize and train the model\n",
    "hgbc = HistGradientBoostingClassifier(max_iter=100, learning_rate=0.1, random_state=7)\n",
    "hgbc.fit(X_train_resampled, Y_train_resampled)\n",
    "\n",
    "y_pred = hgbc.predict(X_test)\n",
    "y_prob = hgbc.predict_proba(X_test)\n",
    "\n",
    "hgbc_ac = accuracy_score(Y_test, y_pred)\n",
    "print(\"HistGradientBoosting Classifier Accuracy:\", hgbc_ac)\n",
    "\n",
    "f1 = f1_score(Y_test, y_pred, average=\"weighted\")\n",
    "print(\"\\nF1 Score:\", f1)"
   ]
  },
  {
   "cell_type": "code",
   "execution_count": 26,
   "id": "c375a775",
   "metadata": {},
   "outputs": [
    {
     "name": "stdout",
     "output_type": "stream",
     "text": [
      "\n",
      "RandomForest Accuracy: 0.5863147342421017\n",
      "\n",
      "F1 Score: 0.600774744141296\n"
     ]
    }
   ],
   "source": [
    "# Initialize and train RandomForestClassifier\n",
    "rdf_c = RandomForestClassifier(random_state=7)\n",
    "rdf_c.fit(X_train_resampled, Y_train_resampled)\n",
    "\n",
    "rdf_pred = rdf_c.predict(X_test)\n",
    "rdf_prob = rdf_c.predict_proba(X_test)\n",
    "\n",
    "rdf_ac = accuracy_score(Y_test, rdf_pred)\n",
    "print(\"\\nRandomForest Accuracy:\", rdf_ac)\n",
    "\n",
    "f1 = f1_score(Y_test, rdf_pred, average=\"weighted\")\n",
    "print(\"\\nF1 Score:\", f1)"
   ]
  },
  {
   "cell_type": "code",
   "execution_count": null,
   "id": "cd0e241c",
   "metadata": {},
   "outputs": [
    {
     "name": "stdout",
     "output_type": "stream",
     "text": [
      "\n",
      "DecisionTreeClassifier Accuracy: 0.5394508117940079\n",
      "\n",
      "F1 Score: 0.579644796875134\n"
     ]
    }
   ],
   "source": [
    "# Initialize and train DecisionTreeClassifier\n",
    "dtree_c = DecisionTreeClassifier(random_state=7, criterion='entropy', max_depth=10, min_samples_leaf=2, min_samples_split=5)\n",
    "dtree_c.fit(X_train_resampled, Y_train_resampled)\n",
    "\n",
    "dtree_pred = dtree_c.predict(X_test)\n",
    "dtree_prob = dtree_c.predict_proba(X_test)    \n",
    "\n",
    "dtree_ac = accuracy_score(Y_test, dtree_pred)\n",
    "print(\"\\nDecisionTreeClassifier Accuracy:\", dtree_ac)\n",
    "\n",
    "f1 = f1_score(Y_test, dtree_pred, average=\"weighted\")\n",
    "print(\"\\nF1 Score:\", f1)"
   ]
  },
  {
   "cell_type": "code",
   "execution_count": null,
   "id": "b21175e1",
   "metadata": {},
   "outputs": [],
   "source": [
    "# Initialize and train XGBoost Classifier\n",
    "xgb = XGBClassifier(n_estimators=100, learning_rate=0.1, random_state=7, use_label_encoder=False, eval_metric='logloss')\n",
    "xgb.fit(X_train_resampled, Y_train_resampled)\n",
    "\n",
    "y_pred = xgb.predict(X_test)\n",
    "y_prob = xgb.predict_proba(X_test)\n",
    "\n",
    "xgb_ac = accuracy_score(Y_test, y_pred)\n",
    "print(\"\\nXGBoost Classifier Accuracy:\", xgb_ac)\n",
    "\n",
    "f1 = f1_score(Y_test, y_pred, average=\"weighted\")\n",
    "print(\"\\nF1 Score:\", f1)"
   ]
  },
  {
   "cell_type": "code",
   "execution_count": null,
   "id": "d283ffc2",
   "metadata": {},
   "outputs": [],
   "source": [
    "# Initialize and train LightGBM Classifier\n",
    "lgb_model = lgb.LGBMClassifier(n_estimators=100, learning_rate=0.1, random_state=7)\n",
    "lgb_model.fit(X_train_resampled, Y_train_resampled)\n",
    "\n",
    "y_pred = lgb_model.predict(X_test)\n",
    "y_prob = lgb_model.predict_proba(X_test)\n",
    "\n",
    "lgb_ac = accuracy_score(Y_test, y_pred)\n",
    "print(\"\\nLightGBM Classifier Accuracy:\", lgb_ac)\n",
    "\n",
    "f1 = f1_score(Y_test, y_pred, average=\"weighted\")\n",
    "print(\"\\nF1 Score:\", f1)"
   ]
  },
  {
   "cell_type": "code",
   "execution_count": 10,
   "id": "0b36be7c",
   "metadata": {},
   "outputs": [
    {
     "name": "stdout",
     "output_type": "stream",
     "text": [
      "0:\tlearn: 1.4394097\ttotal: 2.8s\tremaining: 3h 6m 22s\n",
      "300:\tlearn: 0.7717729\ttotal: 15m 58s\tremaining: 3h 16m 15s\n",
      "600:\tlearn: 0.7028656\ttotal: 31m 51s\tremaining: 3h 12s\n",
      "900:\tlearn: 0.6630604\ttotal: 46m 55s\tremaining: 2h 41m 24s\n",
      "1200:\tlearn: 0.6364508\ttotal: 1h 2m 14s\tremaining: 2h 25m 3s\n",
      "1500:\tlearn: 0.6139745\ttotal: 1h 17m 31s\tremaining: 2h 9m 4s\n",
      "1800:\tlearn: 0.5962052\ttotal: 1h 32m 58s\tremaining: 1h 53m 31s\n",
      "2100:\tlearn: 0.5806179\ttotal: 1h 48m 29s\tremaining: 1h 38m 3s\n",
      "2400:\tlearn: 0.5672816\ttotal: 2h 4m 11s\tremaining: 1h 22m 42s\n",
      "2700:\tlearn: 0.5550418\ttotal: 2h 20m\tremaining: 1h 7m 20s\n",
      "3000:\tlearn: 0.5442202\ttotal: 2h 35m 59s\tremaining: 51m 55s\n",
      "3300:\tlearn: 0.5343820\ttotal: 2h 52m 6s\tremaining: 36m 26s\n",
      "3600:\tlearn: 0.5251068\ttotal: 3h 8m 28s\tremaining: 20m 53s\n",
      "3900:\tlearn: 0.5166714\ttotal: 3h 24m 56s\tremaining: 5m 12s\n",
      "3999:\tlearn: 0.5140853\ttotal: 3h 30m 22s\tremaining: 0us\n",
      "\n",
      "CatBoost Accuracy: 0.802705379039308\n",
      "\n",
      "F1 Score: 0.6429256611775568\n",
      "\n",
      "Classification Report:\n",
      "              precision    recall  f1-score   support\n",
      "\n",
      "           0       1.00      1.00      1.00    110052\n",
      "           1       0.02      0.03      0.02      1268\n",
      "           2       0.11      0.10      0.11     12308\n",
      "           3       0.32      0.21      0.26     56787\n",
      "           4       0.58      0.66      0.62    176487\n",
      "           5       0.61      0.58      0.60    126903\n",
      "\n",
      "    accuracy                           0.65    483805\n",
      "   macro avg       0.44      0.43      0.43    483805\n",
      "weighted avg       0.64      0.65      0.64    483805\n",
      "\n",
      "\n",
      "Confusion Matrix:\n",
      "[[110052      0      0      0      0      0]\n",
      " [     0     36    114    224    536    358]\n",
      " [     0    178   1251   2452   6390   2037]\n",
      " [     0    496   2628  12148  33516   7999]\n",
      " [     0   1006   4752  16939 117336  36454]\n",
      " [     0    680   2195   6250  44044  73734]]\n",
      "\n",
      "Log Loss: 0.819535357904852\n"
     ]
    }
   ],
   "source": [
    "# Initialize and train CatBoost Classifier\n",
    "Cat_Boost = CatBoostClassifier(verbose=300, n_estimators=4000, learning_rate=0.3, depth=10, early_stopping_rounds=300)\n",
    "Cat_Boost.fit(X_train_resampled, Y_train_resampled)\n",
    " \n",
    "cb_ac = Cat_Boost.score(X_train_resampled, Y_train_resampled)\n",
    "print(\"\\nCatBoost Accuracy:\", cb_ac)\n",
    "\n",
    "y_pred = Cat_Boost.predict(X_test)\n",
    "y_prob = Cat_Boost.predict_proba(X_test)\n",
    "\n",
    "f1 = f1_score(Y_test, y_pred, average=\"weighted\")\n",
    "print(\"\\nF1 Score:\", f1)\n",
    "\n",
    "print(\"\\nClassification Report:\")\n",
    "print(classification_report(Y_test, y_pred))\n",
    "\n",
    "print(\"\\nConfusion Matrix:\")\n",
    "print(confusion_matrix(Y_test, y_pred)) \n",
    "\n",
    "cb_log_loss = log_loss(Y_test, y_prob)\n",
    "print(\"\\nLog Loss:\", cb_log_loss)\n",
    "\n",
    "if len(np.unique(Y_test)) == 2:\n",
    "    cb_roc_auc = roc_auc_score(Y_test, y_prob[:, 1])\n",
    "    print(\"\\nROC-AUC Score:\", cb_roc_auc)\n",
    "\n",
    "# Save model\n",
    "with open(\"finetuning_final.pkl\", \"wb\") as f:\n",
    "    pickle.dump(Cat_Boost, f)"
   ]
  },
  {
   "cell_type": "code",
   "execution_count": null,
   "id": "1b8ce9ab",
   "metadata": {},
   "outputs": [],
   "source": []
  }
 ],
 "metadata": {
  "kernelspec": {
   "display_name": "Python 3",
   "language": "python",
   "name": "python3"
  },
  "language_info": {
   "codemirror_mode": {
    "name": "ipython",
    "version": 3
   },
   "file_extension": ".py",
   "mimetype": "text/x-python",
   "name": "python",
   "nbconvert_exporter": "python",
   "pygments_lexer": "ipython3",
   "version": "3.10.11"
  }
 },
 "nbformat": 4,
 "nbformat_minor": 5
}
