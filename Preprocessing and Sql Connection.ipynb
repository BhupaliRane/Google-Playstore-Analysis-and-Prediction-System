{
 "cells": [
  {
   "cell_type": "code",
   "execution_count": 1,
   "id": "d353d4b6",
   "metadata": {},
   "outputs": [
    {
     "name": "stdout",
     "output_type": "stream",
     "text": [
      "Requirement already satisfied: mysql-connector-python in c:\\users\\lenovo\\appdata\\local\\programs\\python\\python310\\lib\\site-packages (9.0.0)Note: you may need to restart the kernel to use updated packages.\n",
      "\n"
     ]
    }
   ],
   "source": [
    "import pandas as pd\n",
    "import numpy as np\n",
    "import seaborn as sns\n",
    "import matplotlib.pyplot as plt\n",
    "%pip install mysql-connector-python\n",
    "import mysql.connector"
   ]
  },
  {
   "cell_type": "code",
   "execution_count": 2,
   "id": "dd1771c6",
   "metadata": {},
   "outputs": [],
   "source": [
    "df = pd.read_csv(r\"C:\\Users\\LENOVO\\Downloads\\data\\Google-Playstore.csv\")"
   ]
  },
  {
   "cell_type": "code",
   "execution_count": 3,
   "id": "35f8cdcf",
   "metadata": {},
   "outputs": [
    {
     "name": "stdout",
     "output_type": "stream",
     "text": [
      "<class 'pandas.core.frame.DataFrame'>\n",
      "RangeIndex: 2312944 entries, 0 to 2312943\n",
      "Data columns (total 24 columns):\n",
      " #   Column             Dtype  \n",
      "---  ------             -----  \n",
      " 0   App Name           object \n",
      " 1   App Id             object \n",
      " 2   Category           object \n",
      " 3   Rating             float64\n",
      " 4   Rating Count       float64\n",
      " 5   Installs           object \n",
      " 6   Minimum Installs   float64\n",
      " 7   Maximum Installs   int64  \n",
      " 8   Free               bool   \n",
      " 9   Price              float64\n",
      " 10  Currency           object \n",
      " 11  Size               object \n",
      " 12  Minimum Android    object \n",
      " 13  Developer Id       object \n",
      " 14  Developer Website  object \n",
      " 15  Developer Email    object \n",
      " 16  Released           object \n",
      " 17  Last Updated       object \n",
      " 18  Content Rating     object \n",
      " 19  Privacy Policy     object \n",
      " 20  Ad Supported       bool   \n",
      " 21  In App Purchases   bool   \n",
      " 22  Editors Choice     bool   \n",
      " 23  Scraped Time       object \n",
      "dtypes: bool(4), float64(4), int64(1), object(15)\n",
      "memory usage: 361.8+ MB\n"
     ]
    },
    {
     "data": {
      "text/plain": [
       "(2312944, 24)"
      ]
     },
     "execution_count": 3,
     "metadata": {},
     "output_type": "execute_result"
    }
   ],
   "source": [
    "df.info()\n",
    "df.shape"
   ]
  },
  {
   "cell_type": "code",
   "execution_count": 4,
   "id": "2061d9cf",
   "metadata": {},
   "outputs": [
    {
     "data": {
      "text/plain": [
       "Index(['App Name', 'App Id', 'Category', 'Rating', 'Rating Count', 'Installs',\n",
       "       'Minimum Installs', 'Maximum Installs', 'Free', 'Price', 'Currency',\n",
       "       'Size', 'Minimum Android', 'Developer Id', 'Developer Website',\n",
       "       'Developer Email', 'Released', 'Last Updated', 'Content Rating',\n",
       "       'Privacy Policy', 'Ad Supported', 'In App Purchases', 'Editors Choice',\n",
       "       'Scraped Time'],\n",
       "      dtype='object')"
      ]
     },
     "execution_count": 4,
     "metadata": {},
     "output_type": "execute_result"
    }
   ],
   "source": [
    "df.columns"
   ]
  },
  {
   "cell_type": "code",
   "execution_count": 5,
   "id": "66b60828",
   "metadata": {},
   "outputs": [
    {
     "data": {
      "text/plain": [
       "App Name                  5\n",
       "App Id                    0\n",
       "Category                  0\n",
       "Rating                22883\n",
       "Rating Count          22883\n",
       "Installs                107\n",
       "Minimum Installs        107\n",
       "Maximum Installs          0\n",
       "Free                      0\n",
       "Price                     0\n",
       "Currency                135\n",
       "Size                    196\n",
       "Minimum Android        6530\n",
       "Developer Id             33\n",
       "Developer Website    760835\n",
       "Developer Email          31\n",
       "Released              71053\n",
       "Last Updated              0\n",
       "Content Rating            0\n",
       "Privacy Policy       420953\n",
       "Ad Supported              0\n",
       "In App Purchases          0\n",
       "Editors Choice            0\n",
       "Scraped Time              0\n",
       "dtype: int64"
      ]
     },
     "execution_count": 5,
     "metadata": {},
     "output_type": "execute_result"
    }
   ],
   "source": [
    "df.isnull().sum()"
   ]
  },
  {
   "cell_type": "code",
   "execution_count": 6,
   "id": "875085a7",
   "metadata": {},
   "outputs": [
    {
     "data": {
      "text/plain": [
       "Developer Website    32.894657\n",
       "Privacy Policy       18.199879\n",
       "Released              3.071972\n",
       "Rating                0.989345\n",
       "Rating Count          0.989345\n",
       "Minimum Android       0.282324\n",
       "Size                  0.008474\n",
       "Currency              0.005837\n",
       "Installs              0.004626\n",
       "Minimum Installs      0.004626\n",
       "Developer Id          0.001427\n",
       "Developer Email       0.001340\n",
       "App Name              0.000216\n",
       "App Id                0.000000\n",
       "Price                 0.000000\n",
       "Free                  0.000000\n",
       "Maximum Installs      0.000000\n",
       "Last Updated          0.000000\n",
       "Content Rating        0.000000\n",
       "Category              0.000000\n",
       "Ad Supported          0.000000\n",
       "In App Purchases      0.000000\n",
       "Editors Choice        0.000000\n",
       "Scraped Time          0.000000\n",
       "dtype: float64"
      ]
     },
     "execution_count": 6,
     "metadata": {},
     "output_type": "execute_result"
    }
   ],
   "source": [
    "missing_percentage = (df.isnull().sum().sort_values(ascending = False)/len(df))*100\n",
    "missing_percentage"
   ]
  },
  {
   "cell_type": "code",
   "execution_count": 7,
   "id": "a7979310",
   "metadata": {},
   "outputs": [],
   "source": [
    "#Dropping unnecessary columns\n",
    "df=df.drop(columns=['Rating','Currency','App Name','App Id','Minimum Installs','Maximum Installs','Developer Id','Developer Website','Minimum Android','Developer Email','Released','Last Updated','Privacy Policy','Scraped Time'])"
   ]
  },
  {
   "cell_type": "code",
   "execution_count": 8,
   "id": "216884c4",
   "metadata": {},
   "outputs": [
    {
     "data": {
      "text/plain": [
       "array(['Adventure', 'Tools', 'Productivity', 'Communication', 'Social',\n",
       "       'Libraries & Demo', 'Lifestyle', 'Personalization', 'Racing',\n",
       "       'Maps & Navigation', 'Travel & Local', 'Food & Drink',\n",
       "       'Books & Reference', 'Medical', 'Puzzle', 'Entertainment',\n",
       "       'Arcade', 'Auto & Vehicles', 'Photography', 'Health & Fitness',\n",
       "       'Education', 'Shopping', 'Board', 'Music & Audio', 'Sports',\n",
       "       'Beauty', 'Business', 'Educational', 'Finance', 'News & Magazines',\n",
       "       'Casual', 'Art & Design', 'House & Home', 'Card', 'Events',\n",
       "       'Trivia', 'Weather', 'Strategy', 'Word', 'Video Players & Editors',\n",
       "       'Action', 'Simulation', 'Music', 'Dating', 'Role Playing',\n",
       "       'Casino', 'Comics', 'Parenting'], dtype=object)"
      ]
     },
     "execution_count": 8,
     "metadata": {},
     "output_type": "execute_result"
    }
   ],
   "source": [
    "df['Category'].unique()"
   ]
  },
  {
   "cell_type": "code",
   "execution_count": 9,
   "id": "bddcf061",
   "metadata": {},
   "outputs": [
    {
     "data": {
      "text/plain": [
       "Content Rating\n",
       "Everyone           2022089\n",
       "Teen                196375\n",
       "Mature 17+           60289\n",
       "Everyone 10+         33901\n",
       "Unrated                154\n",
       "Adults only 18+        136\n",
       "Name: count, dtype: int64"
      ]
     },
     "execution_count": 9,
     "metadata": {},
     "output_type": "execute_result"
    }
   ],
   "source": [
    "df['Content Rating'].value_counts()"
   ]
  },
  {
   "cell_type": "code",
   "execution_count": 10,
   "id": "b148483d",
   "metadata": {},
   "outputs": [
    {
     "name": "stdout",
     "output_type": "stream",
     "text": [
      "<class 'pandas.core.frame.DataFrame'>\n",
      "RangeIndex: 2312944 entries, 0 to 2312943\n",
      "Data columns (total 10 columns):\n",
      " #   Column            Dtype  \n",
      "---  ------            -----  \n",
      " 0   Category          object \n",
      " 1   Rating Count      float64\n",
      " 2   Installs          object \n",
      " 3   Free              bool   \n",
      " 4   Price             float64\n",
      " 5   Size              object \n",
      " 6   Content Rating    object \n",
      " 7   Ad Supported      bool   \n",
      " 8   In App Purchases  bool   \n",
      " 9   Editors Choice    bool   \n",
      "dtypes: bool(4), float64(2), object(4)\n",
      "memory usage: 114.7+ MB\n"
     ]
    }
   ],
   "source": [
    "df.info()"
   ]
  },
  {
   "cell_type": "code",
   "execution_count": 11,
   "id": "c4323e3e",
   "metadata": {},
   "outputs": [
    {
     "data": {
      "text/html": [
       "<div>\n",
       "<style scoped>\n",
       "    .dataframe tbody tr th:only-of-type {\n",
       "        vertical-align: middle;\n",
       "    }\n",
       "\n",
       "    .dataframe tbody tr th {\n",
       "        vertical-align: top;\n",
       "    }\n",
       "\n",
       "    .dataframe thead th {\n",
       "        text-align: right;\n",
       "    }\n",
       "</style>\n",
       "<table border=\"1\" class=\"dataframe\">\n",
       "  <thead>\n",
       "    <tr style=\"text-align: right;\">\n",
       "      <th></th>\n",
       "      <th>Category</th>\n",
       "      <th>Rating Count</th>\n",
       "      <th>Installs</th>\n",
       "      <th>Free</th>\n",
       "      <th>Price</th>\n",
       "      <th>Size</th>\n",
       "      <th>Content Rating</th>\n",
       "      <th>Ad Supported</th>\n",
       "      <th>In App Purchases</th>\n",
       "      <th>Editors Choice</th>\n",
       "    </tr>\n",
       "  </thead>\n",
       "  <tbody>\n",
       "    <tr>\n",
       "      <th>0</th>\n",
       "      <td>Adventure</td>\n",
       "      <td>0.0</td>\n",
       "      <td>10+</td>\n",
       "      <td>True</td>\n",
       "      <td>0.0</td>\n",
       "      <td>10M</td>\n",
       "      <td>Everyone</td>\n",
       "      <td>False</td>\n",
       "      <td>False</td>\n",
       "      <td>False</td>\n",
       "    </tr>\n",
       "    <tr>\n",
       "      <th>1</th>\n",
       "      <td>Tools</td>\n",
       "      <td>64.0</td>\n",
       "      <td>5,000+</td>\n",
       "      <td>True</td>\n",
       "      <td>0.0</td>\n",
       "      <td>2.9M</td>\n",
       "      <td>Everyone</td>\n",
       "      <td>True</td>\n",
       "      <td>False</td>\n",
       "      <td>False</td>\n",
       "    </tr>\n",
       "    <tr>\n",
       "      <th>2</th>\n",
       "      <td>Productivity</td>\n",
       "      <td>0.0</td>\n",
       "      <td>50+</td>\n",
       "      <td>True</td>\n",
       "      <td>0.0</td>\n",
       "      <td>3.7M</td>\n",
       "      <td>Everyone</td>\n",
       "      <td>False</td>\n",
       "      <td>False</td>\n",
       "      <td>False</td>\n",
       "    </tr>\n",
       "    <tr>\n",
       "      <th>3</th>\n",
       "      <td>Communication</td>\n",
       "      <td>5.0</td>\n",
       "      <td>10+</td>\n",
       "      <td>True</td>\n",
       "      <td>0.0</td>\n",
       "      <td>1.8M</td>\n",
       "      <td>Everyone</td>\n",
       "      <td>True</td>\n",
       "      <td>False</td>\n",
       "      <td>False</td>\n",
       "    </tr>\n",
       "    <tr>\n",
       "      <th>4</th>\n",
       "      <td>Tools</td>\n",
       "      <td>0.0</td>\n",
       "      <td>100+</td>\n",
       "      <td>True</td>\n",
       "      <td>0.0</td>\n",
       "      <td>6.2M</td>\n",
       "      <td>Everyone</td>\n",
       "      <td>False</td>\n",
       "      <td>False</td>\n",
       "      <td>False</td>\n",
       "    </tr>\n",
       "    <tr>\n",
       "      <th>...</th>\n",
       "      <td>...</td>\n",
       "      <td>...</td>\n",
       "      <td>...</td>\n",
       "      <td>...</td>\n",
       "      <td>...</td>\n",
       "      <td>...</td>\n",
       "      <td>...</td>\n",
       "      <td>...</td>\n",
       "      <td>...</td>\n",
       "      <td>...</td>\n",
       "    </tr>\n",
       "    <tr>\n",
       "      <th>2312939</th>\n",
       "      <td>Role Playing</td>\n",
       "      <td>16775.0</td>\n",
       "      <td>100,000+</td>\n",
       "      <td>True</td>\n",
       "      <td>0.0</td>\n",
       "      <td>77M</td>\n",
       "      <td>Teen</td>\n",
       "      <td>False</td>\n",
       "      <td>False</td>\n",
       "      <td>False</td>\n",
       "    </tr>\n",
       "    <tr>\n",
       "      <th>2312940</th>\n",
       "      <td>Education</td>\n",
       "      <td>0.0</td>\n",
       "      <td>100+</td>\n",
       "      <td>True</td>\n",
       "      <td>0.0</td>\n",
       "      <td>44M</td>\n",
       "      <td>Everyone</td>\n",
       "      <td>False</td>\n",
       "      <td>False</td>\n",
       "      <td>False</td>\n",
       "    </tr>\n",
       "    <tr>\n",
       "      <th>2312941</th>\n",
       "      <td>Education</td>\n",
       "      <td>0.0</td>\n",
       "      <td>100+</td>\n",
       "      <td>True</td>\n",
       "      <td>0.0</td>\n",
       "      <td>29M</td>\n",
       "      <td>Everyone</td>\n",
       "      <td>False</td>\n",
       "      <td>False</td>\n",
       "      <td>False</td>\n",
       "    </tr>\n",
       "    <tr>\n",
       "      <th>2312942</th>\n",
       "      <td>Music &amp; Audio</td>\n",
       "      <td>8.0</td>\n",
       "      <td>1,000+</td>\n",
       "      <td>True</td>\n",
       "      <td>0.0</td>\n",
       "      <td>10M</td>\n",
       "      <td>Everyone</td>\n",
       "      <td>True</td>\n",
       "      <td>False</td>\n",
       "      <td>False</td>\n",
       "    </tr>\n",
       "    <tr>\n",
       "      <th>2312943</th>\n",
       "      <td>Trivia</td>\n",
       "      <td>12.0</td>\n",
       "      <td>100+</td>\n",
       "      <td>True</td>\n",
       "      <td>0.0</td>\n",
       "      <td>5.2M</td>\n",
       "      <td>Everyone</td>\n",
       "      <td>True</td>\n",
       "      <td>False</td>\n",
       "      <td>False</td>\n",
       "    </tr>\n",
       "  </tbody>\n",
       "</table>\n",
       "<p>2312944 rows × 10 columns</p>\n",
       "</div>"
      ],
      "text/plain": [
       "              Category  Rating Count  Installs  Free  Price  Size  \\\n",
       "0            Adventure           0.0       10+  True    0.0   10M   \n",
       "1                Tools          64.0    5,000+  True    0.0  2.9M   \n",
       "2         Productivity           0.0       50+  True    0.0  3.7M   \n",
       "3        Communication           5.0       10+  True    0.0  1.8M   \n",
       "4                Tools           0.0      100+  True    0.0  6.2M   \n",
       "...                ...           ...       ...   ...    ...   ...   \n",
       "2312939   Role Playing       16775.0  100,000+  True    0.0   77M   \n",
       "2312940      Education           0.0      100+  True    0.0   44M   \n",
       "2312941      Education           0.0      100+  True    0.0   29M   \n",
       "2312942  Music & Audio           8.0    1,000+  True    0.0   10M   \n",
       "2312943         Trivia          12.0      100+  True    0.0  5.2M   \n",
       "\n",
       "        Content Rating  Ad Supported  In App Purchases  Editors Choice  \n",
       "0             Everyone         False             False           False  \n",
       "1             Everyone          True             False           False  \n",
       "2             Everyone         False             False           False  \n",
       "3             Everyone          True             False           False  \n",
       "4             Everyone         False             False           False  \n",
       "...                ...           ...               ...             ...  \n",
       "2312939           Teen         False             False           False  \n",
       "2312940       Everyone         False             False           False  \n",
       "2312941       Everyone         False             False           False  \n",
       "2312942       Everyone          True             False           False  \n",
       "2312943       Everyone          True             False           False  \n",
       "\n",
       "[2312944 rows x 10 columns]"
      ]
     },
     "execution_count": 11,
     "metadata": {},
     "output_type": "execute_result"
    }
   ],
   "source": [
    "# Display the transformed dataframe\n",
    "df"
   ]
  },
  {
   "cell_type": "code",
   "execution_count": 12,
   "id": "6fe5e6a5",
   "metadata": {},
   "outputs": [
    {
     "data": {
      "text/plain": [
       "Category                0\n",
       "Rating Count        22883\n",
       "Installs              107\n",
       "Free                    0\n",
       "Price                   0\n",
       "Size                  196\n",
       "Content Rating          0\n",
       "Ad Supported            0\n",
       "In App Purchases        0\n",
       "Editors Choice          0\n",
       "dtype: int64"
      ]
     },
     "execution_count": 12,
     "metadata": {},
     "output_type": "execute_result"
    }
   ],
   "source": [
    "df.isnull().sum()"
   ]
  },
  {
   "cell_type": "code",
   "execution_count": 13,
   "id": "f824e65a",
   "metadata": {},
   "outputs": [
    {
     "data": {
      "text/plain": [
       "array(['10M', '2.9M', '3.7M', ..., '405M', '3.2k', '512M'], dtype=object)"
      ]
     },
     "execution_count": 13,
     "metadata": {},
     "output_type": "execute_result"
    }
   ],
   "source": [
    "df['Size'].unique()"
   ]
  },
  {
   "cell_type": "code",
   "execution_count": 14,
   "id": "f189b5ed",
   "metadata": {},
   "outputs": [
    {
     "data": {
      "text/plain": [
       "array(['10+', '5,000+', '50+', '100+', '1,000+', '500+', '50,000+',\n",
       "       '10,000+', '1+', '500,000+', '100,000+', '5+', '10,000,000+',\n",
       "       '1,000,000+', '5,000,000+', '0+', '100,000,000+', nan,\n",
       "       '50,000,000+', '1,000,000,000+', '500,000,000+', '5,000,000,000+',\n",
       "       '10,000,000,000+'], dtype=object)"
      ]
     },
     "execution_count": 14,
     "metadata": {},
     "output_type": "execute_result"
    }
   ],
   "source": [
    "df['Installs'].unique()"
   ]
  },
  {
   "cell_type": "code",
   "execution_count": 15,
   "id": "7f6969f2",
   "metadata": {},
   "outputs": [],
   "source": [
    "def convert_to_mb(size):\n",
    "    if isinstance(size, str):\n",
    "        # Remove commas from the string\n",
    "        size = size.replace(',', '')\n",
    "\n",
    "        if 'k' in size:\n",
    "            # Remove 'k' and convert to MB (1 MB = 1024 KB)\n",
    "            size = float(size.replace('k', '')) / 1024\n",
    "        elif 'M' in size:\n",
    "            # Remove 'M' (already in MB)\n",
    "            size = float(size.replace('M', ''))\n",
    "        elif 'G' in size:\n",
    "            # Remove 'G' and convert to MB (1GB = 1024 MB)\n",
    "            size = float(size.replace('G', '')) * 1024\n",
    "        elif 'Varies with device' in size:\n",
    "            return np.nan\n",
    "\n",
    "    return size"
   ]
  },
  {
   "cell_type": "code",
   "execution_count": 16,
   "id": "17dc585d",
   "metadata": {},
   "outputs": [],
   "source": [
    "df['Size'] = df['Size'].apply(convert_to_mb)\n",
    "# Rename the column 'Size' to 'Size_in_Mb'\n",
    "df.rename(columns={'Size': 'Size_in_Mb'}, inplace=True)"
   ]
  },
  {
   "cell_type": "code",
   "execution_count": 17,
   "id": "ec0db852",
   "metadata": {},
   "outputs": [
    {
     "name": "stdout",
     "output_type": "stream",
     "text": [
      "\n",
      "Outliers in Size column:\n",
      "                  Category  Rating Count  Installs  Free  Price  Size_in_Mb  \\\n",
      "18               Lifestyle         328.0   10,000+  True    0.0        70.0   \n",
      "53        Health & Fitness           0.0       10+  True    0.0       147.0   \n",
      "110          Entertainment           0.0      100+  True    0.0        67.0   \n",
      "136       Health & Fitness           0.0       10+  True    0.0        67.0   \n",
      "174      Books & Reference           0.0      500+  True    0.0        60.0   \n",
      "...                    ...           ...       ...   ...    ...         ...   \n",
      "2312861   Health & Fitness         172.0   10,000+  True    0.0        61.0   \n",
      "2312887     Travel & Local          10.0    1,000+  True    0.0        58.0   \n",
      "2312888          Adventure           0.0       10+  True    0.0        73.0   \n",
      "2312929      Entertainment          23.0    1,000+  True    0.0        65.0   \n",
      "2312939       Role Playing       16775.0  100,000+  True    0.0        77.0   \n",
      "\n",
      "        Content Rating  Ad Supported  In App Purchases  Editors Choice  \n",
      "18            Everyone         False             False           False  \n",
      "53            Everyone         False             False           False  \n",
      "110               Teen          True             False           False  \n",
      "136           Everyone         False             False           False  \n",
      "174           Everyone         False             False           False  \n",
      "...                ...           ...               ...             ...  \n",
      "2312861       Everyone          True              True           False  \n",
      "2312887       Everyone         False             False           False  \n",
      "2312888       Everyone          True              True           False  \n",
      "2312929       Everyone          True             False           False  \n",
      "2312939           Teen         False             False           False  \n",
      "\n",
      "[154737 rows x 10 columns]\n"
     ]
    }
   ],
   "source": [
    "# Repeat the process for Rating\n",
    "Q1 = df['Size_in_Mb'].quantile(0.25)\n",
    "Q3 = df['Size_in_Mb'].quantile(0.75)\n",
    "IQR = Q3 - Q1\n",
    "\n",
    "lower_bound = Q1 - 1.5 * IQR\n",
    "upper_bound = Q3 + 1.5 * IQR\n",
    "outliers = df[(df['Size_in_Mb'] < lower_bound) | (df['Size_in_Mb'] > upper_bound)]\n",
    "print(\"\\nOutliers in Size column:\")\n",
    "print(outliers)"
   ]
  },
  {
   "cell_type": "code",
   "execution_count": 18,
   "id": "b2f76a0a",
   "metadata": {},
   "outputs": [],
   "source": [
    "#Replace null values in size column with median category wise\n",
    "#As mean values is greater than median and data is +vely skewed hence replacing with median\n",
    "#df['Size_in_Mb'] = df['Size_in_Mb'].fillna(df.groupby('Category')['Size_in_Mb'].transform('median').round(2))\n",
    "# Drop rows where 'Size_in_Mb' is null instead of replacing with median\n",
    "df.dropna(subset=['Size_in_Mb'], inplace=True)\n"
   ]
  },
  {
   "cell_type": "code",
   "execution_count": 19,
   "id": "64604cae",
   "metadata": {},
   "outputs": [
    {
     "data": {
      "text/plain": [
       "Category              0\n",
       "Rating Count        958\n",
       "Installs             39\n",
       "Free                  0\n",
       "Price                 0\n",
       "Size_in_Mb            0\n",
       "Content Rating        0\n",
       "Ad Supported          0\n",
       "In App Purchases      0\n",
       "Editors Choice        0\n",
       "dtype: int64"
      ]
     },
     "execution_count": 19,
     "metadata": {},
     "output_type": "execute_result"
    }
   ],
   "source": [
    "df.isnull().sum()"
   ]
  },
  {
   "cell_type": "code",
   "execution_count": 20,
   "id": "f4d78721",
   "metadata": {},
   "outputs": [
    {
     "data": {
      "text/plain": [
       "Installs\n",
       "100           432654\n",
       "1000          387741\n",
       "10            290921\n",
       "10000         247706\n",
       "500           184146\n",
       "50            166032\n",
       "5000          139250\n",
       "100000        104339\n",
       "50000          71973\n",
       "5              71104\n",
       "1              63044\n",
       "1000000        30558\n",
       "500000         25081\n",
       "0              11303\n",
       "5000000         5791\n",
       "10000000        5271\n",
       "50000000         629\n",
       "100000000        379\n",
       "500000000         33\n",
       "1000000000        16\n",
       "Name: count, dtype: int64"
      ]
     },
     "execution_count": 20,
     "metadata": {},
     "output_type": "execute_result"
    }
   ],
   "source": [
    "# Convert to string first, then remove '+' and commas\n",
    "df['Installs'] = df['Installs'].astype(str)\n",
    "df['Installs'] = df['Installs'].apply(lambda x: x.replace('+', '').replace(',', '') if x != 'nan' else '0')\n",
    "\n",
    "# Convert to integer\n",
    "df['Installs'] = df['Installs'].astype(np.int64)\n",
    "\n",
    "# Check the unique values\n",
    "df['Installs'].unique()\n",
    "df['Installs'].value_counts()\n"
   ]
  },
  {
   "cell_type": "code",
   "execution_count": 21,
   "id": "eb7a542f",
   "metadata": {},
   "outputs": [
    {
     "name": "stdout",
     "output_type": "stream",
     "text": [
      "0\n"
     ]
    }
   ],
   "source": [
    "# Drop rows where 'Installs' has NaN values\n",
    "df.dropna(subset=['Installs','Rating Count'], inplace=True)\n",
    "\n",
    "# Verify the result\n",
    "print(df['Installs'].isna().sum())  # Should print 0"
   ]
  },
  {
   "cell_type": "code",
   "execution_count": 22,
   "id": "0276e17a",
   "metadata": {},
   "outputs": [
    {
     "name": "stdout",
     "output_type": "stream",
     "text": [
      "   Installs  Installs_Category\n",
      "0        10  Between 0 and 10k\n",
      "1      5000  Between 0 and 10k\n",
      "2        50  Between 0 and 10k\n",
      "3        10  Between 0 and 10k\n",
      "4       100  Between 0 and 10k\n"
     ]
    }
   ],
   "source": [
    "import pandas as pd\n",
    "\n",
    "# Ensure Installs is numeric (only if it's a string)\n",
    "df['Installs'] = df['Installs'].astype(int)\n",
    "\n",
    "# Define bins and labels\n",
    "bins = [\n",
    "    0, 10000, 50000, 100000, 500000, 1000000, 5000000, 10000000,\n",
    "    50000000, 100000000, float('inf')\n",
    "]\n",
    "labels = [\n",
    "    'Between 0 and 10k',\n",
    "    'Between 10k and 50k',\n",
    "    'Between 50k and 100k',\n",
    "    'Between 100k and 500k',\n",
    "    'Between 500k and 1M',\n",
    "    'Between 1M and 5M',\n",
    "    'Between 5M and 10M',\n",
    "    'Between 10M and 50M',\n",
    "    'Between 50M and 100M',\n",
    "    'Greater than 100M'\n",
    "]\n",
    "\n",
    "# Categorize Installs into the bins\n",
    "df['Installs_Category'] = pd.cut(df['Installs'], bins=bins, labels=labels, right=False, ordered=True)\n",
    "\n",
    "\n",
    "print(df[['Installs', 'Installs_Category']].head())\n",
    "\n"
   ]
  },
  {
   "cell_type": "code",
   "execution_count": 23,
   "id": "d017222f",
   "metadata": {},
   "outputs": [
    {
     "name": "stdout",
     "output_type": "stream",
     "text": [
      "Label encoding mapping for 'Category' saved in 'Category_label_encoded.pkl'\n",
      "Label encoding mapping for 'Content Rating' saved in 'Content Rating_label_encoded.pkl'\n",
      "Label encoding mapping for 'Installs_Category' saved in 'Installs_Category_label_encoded.pkl'\n",
      "   Category  Rating Count  Installs  Free  Price  Size_in_Mb  Content Rating  \\\n",
      "0         0           0.0        10  True    0.0        10.0               0   \n",
      "1         1          64.0      5000  True    0.0         2.9               0   \n",
      "2         2           0.0        50  True    0.0         3.7               0   \n",
      "3         3           5.0        10  True    0.0         1.8               0   \n",
      "4         1           0.0       100  True    0.0         6.2               0   \n",
      "\n",
      "   Ad Supported  In App Purchases  Editors Choice Installs_Category  \n",
      "0         False             False           False                 0  \n",
      "1          True             False           False                 0  \n",
      "2         False             False           False                 0  \n",
      "3          True             False           False                 0  \n",
      "4         False             False           False                 0  \n"
     ]
    }
   ],
   "source": [
    "from sklearn.preprocessing import LabelEncoder\n",
    "import pickle\n",
    "\n",
    "def label_encoding(data, category_col):\n",
    "    # le = LabelEncoder()\n",
    "    # data[category_col] = le.fit_transform(data[category_col])\n",
    "\n",
    "    unique_category=df[category_col].unique()\n",
    "    \n",
    "    # Save the label encoding mapping\n",
    "    label_mapping = {category: idx for idx, category in enumerate(unique_category)}\n",
    "    file_name = f\"{category_col}_label_encoded.pkl\"\n",
    "    with open(file_name, \"wb\") as f:\n",
    "        pickle.dump(label_mapping, f)\n",
    "    \n",
    "    data[category_col]=data[category_col].map(label_mapping)\n",
    "\n",
    "    \n",
    "    print(f\"Label encoding mapping for '{category_col}' saved in '{file_name}'\")\n",
    "    return data[category_col]\n",
    "\n",
    "# Apply Label Encoding and save mappings separately\n",
    "df['Category'] = label_encoding(df, 'Category')\n",
    "df['Content Rating'] = label_encoding(df, 'Content Rating')\n",
    "df['Installs_Category'] = label_encoding(df, 'Installs_Category')\n",
    "\n",
    "# Verify the result\n",
    "print(df.head())\n"
   ]
  },
  {
   "cell_type": "code",
   "execution_count": 24,
   "id": "7eb78bdd",
   "metadata": {},
   "outputs": [
    {
     "data": {
      "text/plain": [
       "Index(['Category', 'Rating Count', 'Installs', 'Free', 'Price', 'Size_in_Mb',\n",
       "       'Content Rating', 'Ad Supported', 'In App Purchases', 'Editors Choice',\n",
       "       'Installs_Category'],\n",
       "      dtype='object')"
      ]
     },
     "execution_count": 24,
     "metadata": {},
     "output_type": "execute_result"
    }
   ],
   "source": [
    "df.columns"
   ]
  },
  {
   "cell_type": "code",
   "execution_count": 25,
   "id": "bb0a18fd",
   "metadata": {},
   "outputs": [
    {
     "name": "stdout",
     "output_type": "stream",
     "text": [
      "<class 'pandas.core.frame.DataFrame'>\n",
      "Index: 2237013 entries, 0 to 2312943\n",
      "Data columns (total 11 columns):\n",
      " #   Column             Dtype   \n",
      "---  ------             -----   \n",
      " 0   Category           int64   \n",
      " 1   Rating Count       float64 \n",
      " 2   Installs           int32   \n",
      " 3   Free               bool    \n",
      " 4   Price              float64 \n",
      " 5   Size_in_Mb         float64 \n",
      " 6   Content Rating     int64   \n",
      " 7   Ad Supported       bool    \n",
      " 8   In App Purchases   bool    \n",
      " 9   Editors Choice     bool    \n",
      " 10  Installs_Category  category\n",
      "dtypes: bool(4), category(1), float64(3), int32(1), int64(2)\n",
      "memory usage: 121.6 MB\n"
     ]
    }
   ],
   "source": [
    "df.info()"
   ]
  },
  {
   "cell_type": "code",
   "execution_count": 26,
   "id": "b1c248e3",
   "metadata": {},
   "outputs": [
    {
     "data": {
      "text/html": [
       "<div>\n",
       "<style scoped>\n",
       "    .dataframe tbody tr th:only-of-type {\n",
       "        vertical-align: middle;\n",
       "    }\n",
       "\n",
       "    .dataframe tbody tr th {\n",
       "        vertical-align: top;\n",
       "    }\n",
       "\n",
       "    .dataframe thead th {\n",
       "        text-align: right;\n",
       "    }\n",
       "</style>\n",
       "<table border=\"1\" class=\"dataframe\">\n",
       "  <thead>\n",
       "    <tr style=\"text-align: right;\">\n",
       "      <th></th>\n",
       "      <th>Category</th>\n",
       "      <th>Rating Count</th>\n",
       "      <th>Installs</th>\n",
       "      <th>Free</th>\n",
       "      <th>Price</th>\n",
       "      <th>Size_in_Mb</th>\n",
       "      <th>Content Rating</th>\n",
       "      <th>Ad Supported</th>\n",
       "      <th>In App Purchases</th>\n",
       "      <th>Editors Choice</th>\n",
       "      <th>Installs_Category</th>\n",
       "    </tr>\n",
       "  </thead>\n",
       "  <tbody>\n",
       "    <tr>\n",
       "      <th>0</th>\n",
       "      <td>0</td>\n",
       "      <td>0.0</td>\n",
       "      <td>10</td>\n",
       "      <td>True</td>\n",
       "      <td>0.0</td>\n",
       "      <td>10.0</td>\n",
       "      <td>0</td>\n",
       "      <td>False</td>\n",
       "      <td>False</td>\n",
       "      <td>False</td>\n",
       "      <td>0</td>\n",
       "    </tr>\n",
       "    <tr>\n",
       "      <th>1</th>\n",
       "      <td>1</td>\n",
       "      <td>64.0</td>\n",
       "      <td>5000</td>\n",
       "      <td>True</td>\n",
       "      <td>0.0</td>\n",
       "      <td>2.9</td>\n",
       "      <td>0</td>\n",
       "      <td>True</td>\n",
       "      <td>False</td>\n",
       "      <td>False</td>\n",
       "      <td>0</td>\n",
       "    </tr>\n",
       "    <tr>\n",
       "      <th>2</th>\n",
       "      <td>2</td>\n",
       "      <td>0.0</td>\n",
       "      <td>50</td>\n",
       "      <td>True</td>\n",
       "      <td>0.0</td>\n",
       "      <td>3.7</td>\n",
       "      <td>0</td>\n",
       "      <td>False</td>\n",
       "      <td>False</td>\n",
       "      <td>False</td>\n",
       "      <td>0</td>\n",
       "    </tr>\n",
       "    <tr>\n",
       "      <th>3</th>\n",
       "      <td>3</td>\n",
       "      <td>5.0</td>\n",
       "      <td>10</td>\n",
       "      <td>True</td>\n",
       "      <td>0.0</td>\n",
       "      <td>1.8</td>\n",
       "      <td>0</td>\n",
       "      <td>True</td>\n",
       "      <td>False</td>\n",
       "      <td>False</td>\n",
       "      <td>0</td>\n",
       "    </tr>\n",
       "    <tr>\n",
       "      <th>4</th>\n",
       "      <td>1</td>\n",
       "      <td>0.0</td>\n",
       "      <td>100</td>\n",
       "      <td>True</td>\n",
       "      <td>0.0</td>\n",
       "      <td>6.2</td>\n",
       "      <td>0</td>\n",
       "      <td>False</td>\n",
       "      <td>False</td>\n",
       "      <td>False</td>\n",
       "      <td>0</td>\n",
       "    </tr>\n",
       "  </tbody>\n",
       "</table>\n",
       "</div>"
      ],
      "text/plain": [
       "   Category  Rating Count  Installs  Free  Price  Size_in_Mb  Content Rating  \\\n",
       "0         0           0.0        10  True    0.0        10.0               0   \n",
       "1         1          64.0      5000  True    0.0         2.9               0   \n",
       "2         2           0.0        50  True    0.0         3.7               0   \n",
       "3         3           5.0        10  True    0.0         1.8               0   \n",
       "4         1           0.0       100  True    0.0         6.2               0   \n",
       "\n",
       "   Ad Supported  In App Purchases  Editors Choice Installs_Category  \n",
       "0         False             False           False                 0  \n",
       "1          True             False           False                 0  \n",
       "2         False             False           False                 0  \n",
       "3          True             False           False                 0  \n",
       "4         False             False           False                 0  "
      ]
     },
     "execution_count": 26,
     "metadata": {},
     "output_type": "execute_result"
    }
   ],
   "source": [
    "df.head()"
   ]
  },
  {
   "cell_type": "code",
   "execution_count": 27,
   "id": "183dd6e8",
   "metadata": {},
   "outputs": [],
   "source": [
    "# boolean columns to 0 and 1\n",
    "bool_cols = ['Free', 'Ad Supported', 'In App Purchases','Editors Choice']\n",
    "# Fill NaN values with False (0) before converting to integers\n",
    "df[bool_cols] = df[bool_cols].fillna(False).astype(int)"
   ]
  },
  {
   "cell_type": "code",
   "execution_count": 28,
   "id": "da281889",
   "metadata": {},
   "outputs": [
    {
     "data": {
      "text/html": [
       "<div>\n",
       "<style scoped>\n",
       "    .dataframe tbody tr th:only-of-type {\n",
       "        vertical-align: middle;\n",
       "    }\n",
       "\n",
       "    .dataframe tbody tr th {\n",
       "        vertical-align: top;\n",
       "    }\n",
       "\n",
       "    .dataframe thead th {\n",
       "        text-align: right;\n",
       "    }\n",
       "</style>\n",
       "<table border=\"1\" class=\"dataframe\">\n",
       "  <thead>\n",
       "    <tr style=\"text-align: right;\">\n",
       "      <th></th>\n",
       "      <th>Category</th>\n",
       "      <th>Rating Count</th>\n",
       "      <th>Installs</th>\n",
       "      <th>Free</th>\n",
       "      <th>Price</th>\n",
       "      <th>Size_in_Mb</th>\n",
       "      <th>Content Rating</th>\n",
       "      <th>Ad Supported</th>\n",
       "      <th>In App Purchases</th>\n",
       "      <th>Editors Choice</th>\n",
       "      <th>Installs_Category</th>\n",
       "    </tr>\n",
       "  </thead>\n",
       "  <tbody>\n",
       "    <tr>\n",
       "      <th>0</th>\n",
       "      <td>0</td>\n",
       "      <td>0.0</td>\n",
       "      <td>10</td>\n",
       "      <td>1</td>\n",
       "      <td>0.0</td>\n",
       "      <td>10.0</td>\n",
       "      <td>0</td>\n",
       "      <td>0</td>\n",
       "      <td>0</td>\n",
       "      <td>0</td>\n",
       "      <td>0</td>\n",
       "    </tr>\n",
       "    <tr>\n",
       "      <th>1</th>\n",
       "      <td>1</td>\n",
       "      <td>64.0</td>\n",
       "      <td>5000</td>\n",
       "      <td>1</td>\n",
       "      <td>0.0</td>\n",
       "      <td>2.9</td>\n",
       "      <td>0</td>\n",
       "      <td>1</td>\n",
       "      <td>0</td>\n",
       "      <td>0</td>\n",
       "      <td>0</td>\n",
       "    </tr>\n",
       "    <tr>\n",
       "      <th>2</th>\n",
       "      <td>2</td>\n",
       "      <td>0.0</td>\n",
       "      <td>50</td>\n",
       "      <td>1</td>\n",
       "      <td>0.0</td>\n",
       "      <td>3.7</td>\n",
       "      <td>0</td>\n",
       "      <td>0</td>\n",
       "      <td>0</td>\n",
       "      <td>0</td>\n",
       "      <td>0</td>\n",
       "    </tr>\n",
       "    <tr>\n",
       "      <th>3</th>\n",
       "      <td>3</td>\n",
       "      <td>5.0</td>\n",
       "      <td>10</td>\n",
       "      <td>1</td>\n",
       "      <td>0.0</td>\n",
       "      <td>1.8</td>\n",
       "      <td>0</td>\n",
       "      <td>1</td>\n",
       "      <td>0</td>\n",
       "      <td>0</td>\n",
       "      <td>0</td>\n",
       "    </tr>\n",
       "    <tr>\n",
       "      <th>4</th>\n",
       "      <td>1</td>\n",
       "      <td>0.0</td>\n",
       "      <td>100</td>\n",
       "      <td>1</td>\n",
       "      <td>0.0</td>\n",
       "      <td>6.2</td>\n",
       "      <td>0</td>\n",
       "      <td>0</td>\n",
       "      <td>0</td>\n",
       "      <td>0</td>\n",
       "      <td>0</td>\n",
       "    </tr>\n",
       "  </tbody>\n",
       "</table>\n",
       "</div>"
      ],
      "text/plain": [
       "   Category  Rating Count  Installs  Free  Price  Size_in_Mb  Content Rating  \\\n",
       "0         0           0.0        10     1    0.0        10.0               0   \n",
       "1         1          64.0      5000     1    0.0         2.9               0   \n",
       "2         2           0.0        50     1    0.0         3.7               0   \n",
       "3         3           5.0        10     1    0.0         1.8               0   \n",
       "4         1           0.0       100     1    0.0         6.2               0   \n",
       "\n",
       "   Ad Supported  In App Purchases  Editors Choice Installs_Category  \n",
       "0             0                 0               0                 0  \n",
       "1             1                 0               0                 0  \n",
       "2             0                 0               0                 0  \n",
       "3             1                 0               0                 0  \n",
       "4             0                 0               0                 0  "
      ]
     },
     "execution_count": 28,
     "metadata": {},
     "output_type": "execute_result"
    }
   ],
   "source": [
    "df.head()"
   ]
  },
  {
   "cell_type": "code",
   "execution_count": 29,
   "id": "f3102be0",
   "metadata": {},
   "outputs": [
    {
     "data": {
      "image/png": "[encoded data removed]",
      "text/plain": [
       "<Figure size 1200x800 with 2 Axes>"
      ]
     },
     "metadata": {},
     "output_type": "display_data"
    }
   ],
   "source": [
    "import pandas as pd\n",
    "import seaborn as sns\n",
    "import matplotlib.pyplot as plt\n",
    "import numpy as np\n",
    "\n",
    "# Drop 'Installs Category' before calculating correlation\n",
    "df_corr = df.drop(columns=[\"Installs_Category\"], errors=\"ignore\")  # Avoids error if column is missing\n",
    "\n",
    "# Compute the correlation matrix and convert to percentage\n",
    "corr_matrix = df_corr.corr() * 100\n",
    "\n",
    "# Fill NaN values with 0 and format annotations\n",
    "annot = corr_matrix.fillna(0).replace([np.inf, -np.inf], 0).round(0).astype(int).astype(str) + '%'\n",
    "\n",
    "# Plot the heatmap\n",
    "plt.figure(figsize=(12, 8))\n",
    "sns.heatmap(corr_matrix, annot=annot, cmap='coolwarm', fmt='', linewidths=0.5)\n",
    "plt.title(\"Correlation Matrix Heatmap (%)\")\n",
    "plt.show()\n"
   ]
  },
  {
   "cell_type": "code",
   "execution_count": 30,
   "id": "738831a7",
   "metadata": {},
   "outputs": [],
   "source": [
    "df.drop(['Price','Installs'], axis=1, inplace=True)\n"
   ]
  },
  {
   "cell_type": "code",
   "execution_count": 31,
   "id": "29fdc70e",
   "metadata": {},
   "outputs": [],
   "source": [
    "df.columns = df.columns.str.replace(' ', '_')\n"
   ]
  },
  {
   "cell_type": "code",
   "execution_count": 32,
   "id": "e4fc7eab",
   "metadata": {},
   "outputs": [],
   "source": [
    "# df_sampled = df.sample(n=200000, random_state=42)\n",
    "df.to_csv(\"installs_preprocessed.csv\", index=False)"
   ]
  },
  {
   "cell_type": "code",
   "execution_count": null,
   "id": "ce1a4e9c",
   "metadata": {},
   "outputs": [],
   "source": [
    "# Load CSV into Pandas\n",
    "df = pd.read_csv(r\"C:\\Users\\LENOVO\\Downloads\\Google-Playstore-Analysis-and-Prediction-System-main\\Google-Playstore-Analysis-and-Prediction-System-main\\installs_preprocessed.csv\")\n",
    "\n",
    "# Connect to MySQL\n",
    "conn = mysql.connector.connect(host=\"localhost\", user=\"root\", password=\"root\", database=\"GooglePlayStore\")\n",
    "cursor = conn.cursor()\n",
    "\n",
    "# Adjusted SQL query without the Price column\n",
    "for _, row in df.iterrows():\n",
    "    cursor.execute(\"\"\"\n",
    "    INSERT INTO installs (`Category`, `Rating_Count`, `Free`, `Size_in_Mb`, `Content_Rating`, `Ad_Supported`, `In_App_Purchases`, `Editors_Choice`, `Installs_Category`)\n",
    "    VALUES (%s, %s, %s, %s, %s, %s, %s, %s, %s)\n",
    "\"\"\", tuple(row))\n",
    "\n",
    "\n",
    "\n",
    "# Commit and close\n",
    "conn.commit()\n",
    "cursor.close()\n",
    "conn.close()\n",
    "\n",
    "print(\"CSV uploaded successfully!\")\n",
    "\n"
   ]
  },
  {
   "cell_type": "code",
   "execution_count": 33,
   "id": "c36472bb",
   "metadata": {},
   "outputs": [],
   "source": [
    "# Ensure numeric conversion (handling errors and NaNs)\n",
    "# df[\"Installs\"] = pd.to_numeric(df[\"Installs\"], errors=\"coerce\").fillna(0).astype(int)\n",
    "# df[\"Free\"] = pd.to_numeric(df[\"Free\"], errors=\"coerce\").fillna(0).astype(int)\n",
    "# df[\"Rating Count\"] = pd.to_numeric(df[\"Rating Count\"], errors=\"coerce\").fillna(0).astype(int)\n",
    "# df[\"Editors Choice\"] = pd.to_numeric(df[\"Editors Choice\"], errors=\"coerce\").fillna(0).astype(int)\n",
    "\n",
    "# Group by 'Category' and apply different aggregation functions\n",
    "category_stats = (\n",
    "    df.groupby(\"Category\")\n",
    "    .agg({\n",
    "        \"Rating_Count\": \"mean\",  # Median for Rating Count\n",
    "        \"Editors_Choice\": \"mean\"  # Median for Editors Choice\n",
    "    })\n",
    "    .round()\n",
    "    .fillna(0)  # Fill any remaining NaNs with 0\n",
    "    .astype(int)  # Convert to integers\n",
    "    .to_dict(orient=\"index\")\n",
    ")\n",
    "\n",
    "\n",
    "# Save as a pickle file\n",
    "with open(\"mean_values.pkl\", \"wb\") as f:\n",
    "    pickle.dump(category_stats, f)"
   ]
  },
  {
   "cell_type": "code",
   "execution_count": null,
   "id": "d5913c6e",
   "metadata": {},
   "outputs": [],
   "source": [
    "print(df['Installs_Category'].value_counts()) "
   ]
  },
  {
   "cell_type": "code",
   "execution_count": null,
   "id": "2a3590d2",
   "metadata": {},
   "outputs": [],
   "source": []
  }
 ],
 "metadata": {
  "kernelspec": {
   "display_name": "Python 3 (ipykernel)",
   "language": "python",
   "name": "python3"
  },
  "language_info": {
   "codemirror_mode": {
    "name": "ipython",
    "version": 3
   },
   "file_extension": ".py",
   "mimetype": "text/x-python",
   "name": "python",
   "nbconvert_exporter": "python",
   "pygments_lexer": "ipython3",
   "version": "3.10.11"
  }
 },
 "nbformat": 4,
 "nbformat_minor": 5
}
