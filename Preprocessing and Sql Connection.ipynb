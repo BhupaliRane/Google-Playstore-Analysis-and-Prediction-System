{
 "cells": [
  {
   "cell_type": "code",
   "execution_count": 2,
   "id": "d353d4b6",
   "metadata": {},
   "outputs": [
    {
     "name": "stdout",
     "output_type": "stream",
     "text": [
      "Collecting mysql-connector-python\n",
      "  Downloading mysql_connector_python-9.2.0-cp39-cp39-win_amd64.whl.metadata (6.2 kB)\n",
      "Downloading mysql_connector_python-9.2.0-cp39-cp39-win_amd64.whl (16.1 MB)\n",
      "   ---------------------------------------- 16.1/16.1 MB 1.9 MB/s eta 0:00:00\n",
      "Installing collected packages: mysql-connector-python\n",
      "Successfully installed mysql-connector-python-9.2.0\n"
     ]
    }
   ],
   "source": [
    "import pandas as pd\n",
    "import numpy as np\n",
    "import seaborn as sns\n",
    "import matplotlib.pyplot as plt\n",
    "!pip install mysql-connector-python\n",
    "import mysql.connector"
   ]
  },
  {
   "cell_type": "code",
   "execution_count": 4,
   "id": "dd1771c6",
   "metadata": {},
   "outputs": [],
   "source": [
    "df = pd.read_csv(r\"C:\\Users\\ryran\\OneDrive\\Desktop\\ProjectFolder\\Project1\\sampled_file.csv\")"
   ]
  },
  {
   "cell_type": "code",
   "execution_count": 5,
   "id": "35f8cdcf",
   "metadata": {},
   "outputs": [
    {
     "name": "stdout",
     "output_type": "stream",
     "text": [
      "<class 'pandas.core.frame.DataFrame'>\n",
      "RangeIndex: 200000 entries, 0 to 199999\n",
      "Data columns (total 24 columns):\n",
      " #   Column             Non-Null Count   Dtype  \n",
      "---  ------             --------------   -----  \n",
      " 0   App Name           200000 non-null  object \n",
      " 1   App Id             200000 non-null  object \n",
      " 2   Category           200000 non-null  object \n",
      " 3   Rating             200000 non-null  float64\n",
      " 4   Rating Count       200000 non-null  float64\n",
      " 5   Installs           200000 non-null  object \n",
      " 6   Minimum Installs   200000 non-null  float64\n",
      " 7   Maximum Installs   200000 non-null  int64  \n",
      " 8   Free               200000 non-null  bool   \n",
      " 9   Price              200000 non-null  float64\n",
      " 10  Currency           199999 non-null  object \n",
      " 11  Size               200000 non-null  object \n",
      " 12  Minimum Android    199459 non-null  object \n",
      " 13  Developer Id       199995 non-null  object \n",
      " 14  Developer Website  134352 non-null  object \n",
      " 15  Developer Email    199999 non-null  object \n",
      " 16  Released           195779 non-null  object \n",
      " 17  Last Updated       200000 non-null  object \n",
      " 18  Content Rating     200000 non-null  object \n",
      " 19  Privacy Policy     163879 non-null  object \n",
      " 20  Ad Supported       200000 non-null  bool   \n",
      " 21  In App Purchases   200000 non-null  bool   \n",
      " 22  Editors Choice     200000 non-null  bool   \n",
      " 23  Scraped Time       200000 non-null  object \n",
      "dtypes: bool(4), float64(4), int64(1), object(15)\n",
      "memory usage: 31.3+ MB\n"
     ]
    },
    {
     "data": {
      "text/plain": [
       "(200000, 24)"
      ]
     },
     "execution_count": 5,
     "metadata": {},
     "output_type": "execute_result"
    }
   ],
   "source": [
    "df.info()\n",
    "df.shape"
   ]
  },
  {
   "cell_type": "code",
   "execution_count": 6,
   "id": "2061d9cf",
   "metadata": {},
   "outputs": [
    {
     "data": {
      "text/plain": [
       "Index(['App Name', 'App Id', 'Category', 'Rating', 'Rating Count', 'Installs',\n",
       "       'Minimum Installs', 'Maximum Installs', 'Free', 'Price', 'Currency',\n",
       "       'Size', 'Minimum Android', 'Developer Id', 'Developer Website',\n",
       "       'Developer Email', 'Released', 'Last Updated', 'Content Rating',\n",
       "       'Privacy Policy', 'Ad Supported', 'In App Purchases', 'Editors Choice',\n",
       "       'Scraped Time'],\n",
       "      dtype='object')"
      ]
     },
     "execution_count": 6,
     "metadata": {},
     "output_type": "execute_result"
    }
   ],
   "source": [
    "df.columns"
   ]
  },
  {
   "cell_type": "code",
   "execution_count": 7,
   "id": "66b60828",
   "metadata": {},
   "outputs": [
    {
     "data": {
      "text/plain": [
       "App Name                 0\n",
       "App Id                   0\n",
       "Category                 0\n",
       "Rating                   0\n",
       "Rating Count             0\n",
       "Installs                 0\n",
       "Minimum Installs         0\n",
       "Maximum Installs         0\n",
       "Free                     0\n",
       "Price                    0\n",
       "Currency                 1\n",
       "Size                     0\n",
       "Minimum Android        541\n",
       "Developer Id             5\n",
       "Developer Website    65648\n",
       "Developer Email          1\n",
       "Released              4221\n",
       "Last Updated             0\n",
       "Content Rating           0\n",
       "Privacy Policy       36121\n",
       "Ad Supported             0\n",
       "In App Purchases         0\n",
       "Editors Choice           0\n",
       "Scraped Time             0\n",
       "dtype: int64"
      ]
     },
     "execution_count": 7,
     "metadata": {},
     "output_type": "execute_result"
    }
   ],
   "source": [
    "df.isnull().sum()"
   ]
  },
  {
   "cell_type": "code",
   "execution_count": 8,
   "id": "875085a7",
   "metadata": {},
   "outputs": [
    {
     "data": {
      "text/plain": [
       "Developer Website    32.8240\n",
       "Privacy Policy       18.0605\n",
       "Released              2.1105\n",
       "Minimum Android       0.2705\n",
       "Developer Id          0.0025\n",
       "Developer Email       0.0005\n",
       "Currency              0.0005\n",
       "Editors Choice        0.0000\n",
       "In App Purchases      0.0000\n",
       "Ad Supported          0.0000\n",
       "Content Rating        0.0000\n",
       "Last Updated          0.0000\n",
       "App Name              0.0000\n",
       "App Id                0.0000\n",
       "Size                  0.0000\n",
       "Price                 0.0000\n",
       "Free                  0.0000\n",
       "Maximum Installs      0.0000\n",
       "Minimum Installs      0.0000\n",
       "Installs              0.0000\n",
       "Rating Count          0.0000\n",
       "Rating                0.0000\n",
       "Category              0.0000\n",
       "Scraped Time          0.0000\n",
       "dtype: float64"
      ]
     },
     "execution_count": 8,
     "metadata": {},
     "output_type": "execute_result"
    }
   ],
   "source": [
    "missing_percentage = (df.isnull().sum().sort_values(ascending = False)/len(df))*100\n",
    "missing_percentage"
   ]
  },
  {
   "cell_type": "code",
   "execution_count": 9,
   "id": "a7979310",
   "metadata": {},
   "outputs": [],
   "source": [
    "#Dropping unnecessary columns\n",
    "df=df.drop(columns=['App Name','App Id','Price','Currency','Minimum Installs','Maximum Installs','Developer Id','Developer Website','Minimum Android','Developer Email','Released','Last Updated','Privacy Policy','Scraped Time'])"
   ]
  },
  {
   "cell_type": "code",
   "execution_count": 10,
   "id": "216884c4",
   "metadata": {},
   "outputs": [
    {
     "data": {
      "text/plain": [
       "array(['Lifestyle', 'Tools', 'Education', 'Sports', 'Shopping',\n",
       "       'Productivity', 'Books & Reference', 'Music & Audio',\n",
       "       'Personalization', 'Finance', 'Entertainment', 'Health & Fitness',\n",
       "       'Travel & Local', 'Beauty', 'Puzzle', 'Art & Design', 'Business',\n",
       "       'Arcade', 'Educational', 'Maps & Navigation', 'Action',\n",
       "       'Photography', 'Auto & Vehicles', 'Card', 'Communication',\n",
       "       'News & Magazines', 'Food & Drink', 'Adventure', 'Social',\n",
       "       'Casual', 'Events', 'Dating', 'House & Home', 'Role Playing',\n",
       "       'Video Players & Editors', 'Medical', 'Word', 'Racing',\n",
       "       'Simulation', 'Weather', 'Libraries & Demo', 'Strategy', 'Trivia',\n",
       "       'Board', 'Casino', 'Music', 'Comics', 'Parenting'], dtype=object)"
      ]
     },
     "execution_count": 10,
     "metadata": {},
     "output_type": "execute_result"
    }
   ],
   "source": [
    "df['Category'].unique()"
   ]
  },
  {
   "cell_type": "code",
   "execution_count": 11,
   "id": "221d841f",
   "metadata": {},
   "outputs": [
    {
     "data": {
      "text/plain": [
       "array([0. , 4.5, 4. , 4.4, 4.3, 3.9, 4.6, 4.2, 3.2, 3.1, 4.7, 5. , 4.9,\n",
       "       4.1, 3.8, 3.6, 3.4, 3.3, 3. , 4.8, 3.5, 2.7, 1.8, 3.7, 2.4, 2.2,\n",
       "       2.9, 2.1, 1.9, 1.6, 2.8, 2.3, 2.6, 1.4, 1.7, 2. , 1. , 2.5, 1.5,\n",
       "       1.2, 1.1, 1.3])"
      ]
     },
     "execution_count": 11,
     "metadata": {},
     "output_type": "execute_result"
    }
   ],
   "source": [
    "df['Rating'].unique()"
   ]
  },
  {
   "cell_type": "code",
   "execution_count": 12,
   "id": "bddcf061",
   "metadata": {},
   "outputs": [
    {
     "data": {
      "text/plain": [
       "Everyone           174897\n",
       "Teen                17022\n",
       "Mature 17+           5170\n",
       "Everyone 10+         2891\n",
       "Unrated                11\n",
       "Adults only 18+         9\n",
       "Name: Content Rating, dtype: int64"
      ]
     },
     "execution_count": 12,
     "metadata": {},
     "output_type": "execute_result"
    }
   ],
   "source": [
    "df['Content Rating'].value_counts()"
   ]
  },
  {
   "cell_type": "code",
   "execution_count": 13,
   "id": "a8a9e5d8",
   "metadata": {},
   "outputs": [
    {
     "data": {
      "text/plain": [
       "array([False,  True])"
      ]
     },
     "execution_count": 13,
     "metadata": {},
     "output_type": "execute_result"
    }
   ],
   "source": [
    "df['Editors Choice'].unique()"
   ]
  },
  {
   "cell_type": "code",
   "execution_count": 14,
   "id": "b148483d",
   "metadata": {},
   "outputs": [
    {
     "name": "stdout",
     "output_type": "stream",
     "text": [
      "<class 'pandas.core.frame.DataFrame'>\n",
      "RangeIndex: 200000 entries, 0 to 199999\n",
      "Data columns (total 10 columns):\n",
      " #   Column            Non-Null Count   Dtype  \n",
      "---  ------            --------------   -----  \n",
      " 0   Category          200000 non-null  object \n",
      " 1   Rating            200000 non-null  float64\n",
      " 2   Rating Count      200000 non-null  float64\n",
      " 3   Installs          200000 non-null  object \n",
      " 4   Free              200000 non-null  bool   \n",
      " 5   Size              200000 non-null  object \n",
      " 6   Content Rating    200000 non-null  object \n",
      " 7   Ad Supported      200000 non-null  bool   \n",
      " 8   In App Purchases  200000 non-null  bool   \n",
      " 9   Editors Choice    200000 non-null  bool   \n",
      "dtypes: bool(4), float64(2), object(4)\n",
      "memory usage: 9.9+ MB\n"
     ]
    }
   ],
   "source": [
    "df.info()"
   ]
  },
  {
   "cell_type": "code",
   "execution_count": 15,
   "id": "0e6fc1b3",
   "metadata": {},
   "outputs": [],
   "source": [
    "# # Calculate counts for exact values (e.g., 1.5, 2.5, etc.)\n",
    "counts = df['Rating'].value_counts()\n",
    "counts_dict = counts.to_dict()\n",
    "\n",
    "# Define a helper function to handle exact values (e.g., 1.5, 2.5, etc.)\n",
    "def handle_exact_rating(rating):\n",
    "    if rating in [1.5, 2.5, 3.5, 4.5]:  # Add more exact values if needed\n",
    "        higher_rating = round(rating + 0.1, 1)\n",
    "\n",
    "        higher_count = counts_dict.get(higher_rating, 0)\n",
    "        rating_count = counts_dict.get(rating, 0)\n",
    "\n",
    "        if rating < higher_count:\n",
    "            return int(rating)  # Round down\n",
    "        else:\n",
    "            return int(rating) + 1  # Round up\n",
    "    return None\n",
    "\n",
    "# Function to transform the Rating column\n",
    "def transform_rating(rating):\n",
    "    if pd.isnull(rating):\n",
    "        return np.nan\n",
    "    \n",
    "    if rating == 0:\n",
    "        return 0\n",
    "    elif 1 <= rating < 1.5:\n",
    "        return 1\n",
    "    elif 1.5 <= rating < 2.5:\n",
    "        return handle_exact_rating(1.5) if rating == 1.5 else 2\n",
    "    elif 2.5 <= rating < 3.5:\n",
    "        return handle_exact_rating(2.5) if rating == 2.5 else 3\n",
    "    elif 3.5 <= rating < 4.5:\n",
    "        return handle_exact_rating(3.5) if rating == 3.5 else 4\n",
    "    else:\n",
    "        return 5\n"
   ]
  },
  {
   "cell_type": "code",
   "execution_count": 16,
   "id": "3da577e7",
   "metadata": {},
   "outputs": [],
   "source": [
    "# Apply the transformation to the dataframe\n",
    "df['Transformed_Rating'] = df['Rating'].apply(transform_rating)\n",
    "\n",
    "df.drop('Rating',axis=1,inplace=True)\n"
   ]
  },
  {
   "cell_type": "code",
   "execution_count": 17,
   "id": "c4323e3e",
   "metadata": {},
   "outputs": [
    {
     "data": {
      "text/html": [
       "<div>\n",
       "<style scoped>\n",
       "    .dataframe tbody tr th:only-of-type {\n",
       "        vertical-align: middle;\n",
       "    }\n",
       "\n",
       "    .dataframe tbody tr th {\n",
       "        vertical-align: top;\n",
       "    }\n",
       "\n",
       "    .dataframe thead th {\n",
       "        text-align: right;\n",
       "    }\n",
       "</style>\n",
       "<table border=\"1\" class=\"dataframe\">\n",
       "  <thead>\n",
       "    <tr style=\"text-align: right;\">\n",
       "      <th></th>\n",
       "      <th>Category</th>\n",
       "      <th>Rating Count</th>\n",
       "      <th>Installs</th>\n",
       "      <th>Free</th>\n",
       "      <th>Size</th>\n",
       "      <th>Content Rating</th>\n",
       "      <th>Ad Supported</th>\n",
       "      <th>In App Purchases</th>\n",
       "      <th>Editors Choice</th>\n",
       "      <th>Transformed_Rating</th>\n",
       "    </tr>\n",
       "  </thead>\n",
       "  <tbody>\n",
       "    <tr>\n",
       "      <th>0</th>\n",
       "      <td>Lifestyle</td>\n",
       "      <td>0.0</td>\n",
       "      <td>50+</td>\n",
       "      <td>True</td>\n",
       "      <td>912k</td>\n",
       "      <td>Everyone</td>\n",
       "      <td>False</td>\n",
       "      <td>False</td>\n",
       "      <td>False</td>\n",
       "      <td>0</td>\n",
       "    </tr>\n",
       "    <tr>\n",
       "      <th>1</th>\n",
       "      <td>Tools</td>\n",
       "      <td>0.0</td>\n",
       "      <td>500+</td>\n",
       "      <td>True</td>\n",
       "      <td>1.5M</td>\n",
       "      <td>Everyone</td>\n",
       "      <td>False</td>\n",
       "      <td>False</td>\n",
       "      <td>False</td>\n",
       "      <td>0</td>\n",
       "    </tr>\n",
       "    <tr>\n",
       "      <th>2</th>\n",
       "      <td>Tools</td>\n",
       "      <td>0.0</td>\n",
       "      <td>100+</td>\n",
       "      <td>False</td>\n",
       "      <td>5.6M</td>\n",
       "      <td>Everyone</td>\n",
       "      <td>True</td>\n",
       "      <td>False</td>\n",
       "      <td>False</td>\n",
       "      <td>0</td>\n",
       "    </tr>\n",
       "    <tr>\n",
       "      <th>3</th>\n",
       "      <td>Education</td>\n",
       "      <td>20.0</td>\n",
       "      <td>5,000+</td>\n",
       "      <td>True</td>\n",
       "      <td>2.6M</td>\n",
       "      <td>Everyone</td>\n",
       "      <td>False</td>\n",
       "      <td>False</td>\n",
       "      <td>False</td>\n",
       "      <td>5</td>\n",
       "    </tr>\n",
       "    <tr>\n",
       "      <th>4</th>\n",
       "      <td>Education</td>\n",
       "      <td>5.0</td>\n",
       "      <td>500+</td>\n",
       "      <td>True</td>\n",
       "      <td>24M</td>\n",
       "      <td>Everyone</td>\n",
       "      <td>True</td>\n",
       "      <td>False</td>\n",
       "      <td>False</td>\n",
       "      <td>4</td>\n",
       "    </tr>\n",
       "    <tr>\n",
       "      <th>...</th>\n",
       "      <td>...</td>\n",
       "      <td>...</td>\n",
       "      <td>...</td>\n",
       "      <td>...</td>\n",
       "      <td>...</td>\n",
       "      <td>...</td>\n",
       "      <td>...</td>\n",
       "      <td>...</td>\n",
       "      <td>...</td>\n",
       "      <td>...</td>\n",
       "    </tr>\n",
       "    <tr>\n",
       "      <th>199995</th>\n",
       "      <td>Tools</td>\n",
       "      <td>164.0</td>\n",
       "      <td>10,000+</td>\n",
       "      <td>True</td>\n",
       "      <td>4.7M</td>\n",
       "      <td>Everyone</td>\n",
       "      <td>True</td>\n",
       "      <td>False</td>\n",
       "      <td>False</td>\n",
       "      <td>4</td>\n",
       "    </tr>\n",
       "    <tr>\n",
       "      <th>199996</th>\n",
       "      <td>Communication</td>\n",
       "      <td>159.0</td>\n",
       "      <td>5,000+</td>\n",
       "      <td>True</td>\n",
       "      <td>10M</td>\n",
       "      <td>Everyone</td>\n",
       "      <td>True</td>\n",
       "      <td>False</td>\n",
       "      <td>False</td>\n",
       "      <td>4</td>\n",
       "    </tr>\n",
       "    <tr>\n",
       "      <th>199997</th>\n",
       "      <td>Books &amp; Reference</td>\n",
       "      <td>22.0</td>\n",
       "      <td>1,000+</td>\n",
       "      <td>True</td>\n",
       "      <td>84M</td>\n",
       "      <td>Everyone</td>\n",
       "      <td>True</td>\n",
       "      <td>True</td>\n",
       "      <td>False</td>\n",
       "      <td>3</td>\n",
       "    </tr>\n",
       "    <tr>\n",
       "      <th>199998</th>\n",
       "      <td>Finance</td>\n",
       "      <td>7.0</td>\n",
       "      <td>1,000+</td>\n",
       "      <td>True</td>\n",
       "      <td>4.2M</td>\n",
       "      <td>Everyone</td>\n",
       "      <td>True</td>\n",
       "      <td>False</td>\n",
       "      <td>False</td>\n",
       "      <td>4</td>\n",
       "    </tr>\n",
       "    <tr>\n",
       "      <th>199999</th>\n",
       "      <td>Productivity</td>\n",
       "      <td>0.0</td>\n",
       "      <td>50+</td>\n",
       "      <td>True</td>\n",
       "      <td>8.0M</td>\n",
       "      <td>Everyone</td>\n",
       "      <td>False</td>\n",
       "      <td>False</td>\n",
       "      <td>False</td>\n",
       "      <td>0</td>\n",
       "    </tr>\n",
       "  </tbody>\n",
       "</table>\n",
       "<p>200000 rows × 10 columns</p>\n",
       "</div>"
      ],
      "text/plain": [
       "                 Category  Rating Count Installs   Free  Size Content Rating  \\\n",
       "0               Lifestyle           0.0      50+   True  912k       Everyone   \n",
       "1                   Tools           0.0     500+   True  1.5M       Everyone   \n",
       "2                   Tools           0.0     100+  False  5.6M       Everyone   \n",
       "3               Education          20.0   5,000+   True  2.6M       Everyone   \n",
       "4               Education           5.0     500+   True   24M       Everyone   \n",
       "...                   ...           ...      ...    ...   ...            ...   \n",
       "199995              Tools         164.0  10,000+   True  4.7M       Everyone   \n",
       "199996      Communication         159.0   5,000+   True   10M       Everyone   \n",
       "199997  Books & Reference          22.0   1,000+   True   84M       Everyone   \n",
       "199998            Finance           7.0   1,000+   True  4.2M       Everyone   \n",
       "199999       Productivity           0.0      50+   True  8.0M       Everyone   \n",
       "\n",
       "        Ad Supported  In App Purchases  Editors Choice  Transformed_Rating  \n",
       "0              False             False           False                   0  \n",
       "1              False             False           False                   0  \n",
       "2               True             False           False                   0  \n",
       "3              False             False           False                   5  \n",
       "4               True             False           False                   4  \n",
       "...              ...               ...             ...                 ...  \n",
       "199995          True             False           False                   4  \n",
       "199996          True             False           False                   4  \n",
       "199997          True              True           False                   3  \n",
       "199998          True             False           False                   4  \n",
       "199999         False             False           False                   0  \n",
       "\n",
       "[200000 rows x 10 columns]"
      ]
     },
     "execution_count": 17,
     "metadata": {},
     "output_type": "execute_result"
    }
   ],
   "source": [
    "# Display the transformed dataframe\n",
    "df"
   ]
  },
  {
   "cell_type": "code",
   "execution_count": 18,
   "id": "aed94638",
   "metadata": {},
   "outputs": [],
   "source": [
    "# Calculate the mean 'Rating' for each 'Category'\n",
    "category_means = df.groupby(\"Category\")[\"Transformed_Rating\"].mean()\n",
    "\n",
    "# Fill null or blank values in the 'Rating' column with the category-wise mean\n",
    "df[\"Transformed_Rating\"] = df.apply(\n",
    "    lambda row: category_means[row[\"Category\"]] if pd.isnull(row[\"Transformed_Rating\"]) else row[\"Transformed_Rating\"],\n",
    "    axis=1\n",
    ")"
   ]
  },
  {
   "cell_type": "code",
   "execution_count": 19,
   "id": "6fe5e6a5",
   "metadata": {},
   "outputs": [
    {
     "data": {
      "text/plain": [
       "Category              0\n",
       "Rating Count          0\n",
       "Installs              0\n",
       "Free                  0\n",
       "Size                  0\n",
       "Content Rating        0\n",
       "Ad Supported          0\n",
       "In App Purchases      0\n",
       "Editors Choice        0\n",
       "Transformed_Rating    0\n",
       "dtype: int64"
      ]
     },
     "execution_count": 19,
     "metadata": {},
     "output_type": "execute_result"
    }
   ],
   "source": [
    "df.isnull().sum()"
   ]
  },
  {
   "cell_type": "code",
   "execution_count": 20,
   "id": "f824e65a",
   "metadata": {},
   "outputs": [
    {
     "data": {
      "text/plain": [
       "array(['912k', '1.5M', '5.6M', ..., '605k', '645k', '833k'], dtype=object)"
      ]
     },
     "execution_count": 20,
     "metadata": {},
     "output_type": "execute_result"
    }
   ],
   "source": [
    "df['Size'].unique()"
   ]
  },
  {
   "cell_type": "code",
   "execution_count": 21,
   "id": "7f6969f2",
   "metadata": {},
   "outputs": [],
   "source": [
    "def convert_to_mb(size):\n",
    "    if isinstance(size, str):\n",
    "        # Remove commas from the string\n",
    "        size = size.replace(',', '')\n",
    "\n",
    "        if 'k' in size:\n",
    "            # Remove 'k' and convert to MB (1 MB = 1024 KB)\n",
    "            size = float(size.replace('k', '')) / 1024\n",
    "        elif 'M' in size:\n",
    "            # Remove 'M' (already in MB)\n",
    "            size = float(size.replace('M', ''))\n",
    "        elif 'G' in size:\n",
    "            # Remove 'G' and convert to MB (1GB = 1024 MB)\n",
    "            size = float(size.replace('G', '')) * 1024\n",
    "        elif 'Varies with device' in size:\n",
    "            return np.nan\n",
    "\n",
    "    return size"
   ]
  },
  {
   "cell_type": "code",
   "execution_count": 22,
   "id": "17dc585d",
   "metadata": {},
   "outputs": [],
   "source": [
    "df['Size'] = df['Size'].apply(convert_to_mb)\n",
    "# Rename the column 'Size' to 'Size_in_Mb'\n",
    "df.rename(columns={'Size': 'Size_in_Mb'}, inplace=True)"
   ]
  },
  {
   "cell_type": "code",
   "execution_count": 23,
   "id": "ec0db852",
   "metadata": {},
   "outputs": [
    {
     "name": "stdout",
     "output_type": "stream",
     "text": [
      "\n",
      "Outliers in Size column:\n",
      "                 Category  Rating Count  Installs  Free  Size_in_Mb  \\\n",
      "52          Music & Audio          12.0    5,000+  True        62.0   \n",
      "115                Action          11.0    1,000+  True       100.0   \n",
      "127          Productivity           0.0      100+  True       143.0   \n",
      "158             Education           0.0      500+  True       122.0   \n",
      "160         Music & Audio           0.0       50+  True        60.0   \n",
      "...                   ...           ...       ...   ...         ...   \n",
      "199918          Lifestyle          24.0    1,000+  True       110.0   \n",
      "199920      Music & Audio         527.0  100,000+  True        82.0   \n",
      "199959        Photography           0.0       10+  True        57.0   \n",
      "199973             Puzzle         170.0    5,000+  True        59.0   \n",
      "199997  Books & Reference          22.0    1,000+  True        84.0   \n",
      "\n",
      "       Content Rating  Ad Supported  In App Purchases  Editors Choice  \\\n",
      "52           Everyone          True             False           False   \n",
      "115              Teen          True             False           False   \n",
      "127          Everyone         False             False           False   \n",
      "158          Everyone         False             False           False   \n",
      "160          Everyone          True             False           False   \n",
      "...               ...           ...               ...             ...   \n",
      "199918     Mature 17+          True              True           False   \n",
      "199920           Teen          True             False           False   \n",
      "199959       Everyone          True             False           False   \n",
      "199973       Everyone          True              True           False   \n",
      "199997       Everyone          True              True           False   \n",
      "\n",
      "        Transformed_Rating  \n",
      "52                       4  \n",
      "115                      4  \n",
      "127                      0  \n",
      "158                      0  \n",
      "160                      0  \n",
      "...                    ...  \n",
      "199918                   3  \n",
      "199920                   4  \n",
      "199959                   0  \n",
      "199973                   4  \n",
      "199997                   3  \n",
      "\n",
      "[13338 rows x 10 columns]\n"
     ]
    }
   ],
   "source": [
    "# Repeat the process for Rating\n",
    "Q1 = df['Size_in_Mb'].quantile(0.25)\n",
    "Q3 = df['Size_in_Mb'].quantile(0.75)\n",
    "IQR = Q3 - Q1\n",
    "\n",
    "lower_bound = Q1 - 1.5 * IQR\n",
    "upper_bound = Q3 + 1.5 * IQR\n",
    "outliers = df[(df['Size_in_Mb'] < lower_bound) | (df['Size_in_Mb'] > upper_bound)]\n",
    "print(\"\\nOutliers in Size column:\")\n",
    "print(outliers)"
   ]
  },
  {
   "cell_type": "code",
   "execution_count": 24,
   "id": "b2f76a0a",
   "metadata": {},
   "outputs": [],
   "source": [
    "#Replace null values in size column with median category wise \n",
    "#As mean values is greater than median and data is +vely skewed hence replacing with median \n",
    "df['Size_in_Mb'] = df['Size_in_Mb'].fillna(df.groupby('Category')['Size_in_Mb'].transform('median').round(2))"
   ]
  },
  {
   "cell_type": "code",
   "execution_count": 25,
   "id": "64604cae",
   "metadata": {},
   "outputs": [
    {
     "data": {
      "text/plain": [
       "Category              0\n",
       "Rating Count          0\n",
       "Installs              0\n",
       "Free                  0\n",
       "Size_in_Mb            0\n",
       "Content Rating        0\n",
       "Ad Supported          0\n",
       "In App Purchases      0\n",
       "Editors Choice        0\n",
       "Transformed_Rating    0\n",
       "dtype: int64"
      ]
     },
     "execution_count": 25,
     "metadata": {},
     "output_type": "execute_result"
    }
   ],
   "source": [
    "df.isnull().sum()"
   ]
  },
  {
   "cell_type": "code",
   "execution_count": 26,
   "id": "60759b5f",
   "metadata": {},
   "outputs": [
    {
     "name": "stdout",
     "output_type": "stream",
     "text": [
      "\n",
      "Outliers in Size column:\n"
     ]
    },
    {
     "data": {
      "text/html": [
       "<div>\n",
       "<style scoped>\n",
       "    .dataframe tbody tr th:only-of-type {\n",
       "        vertical-align: middle;\n",
       "    }\n",
       "\n",
       "    .dataframe tbody tr th {\n",
       "        vertical-align: top;\n",
       "    }\n",
       "\n",
       "    .dataframe thead th {\n",
       "        text-align: right;\n",
       "    }\n",
       "</style>\n",
       "<table border=\"1\" class=\"dataframe\">\n",
       "  <thead>\n",
       "    <tr style=\"text-align: right;\">\n",
       "      <th></th>\n",
       "      <th>Category</th>\n",
       "      <th>Rating Count</th>\n",
       "      <th>Installs</th>\n",
       "      <th>Free</th>\n",
       "      <th>Size_in_Mb</th>\n",
       "      <th>Content Rating</th>\n",
       "      <th>Ad Supported</th>\n",
       "      <th>In App Purchases</th>\n",
       "      <th>Editors Choice</th>\n",
       "      <th>Transformed_Rating</th>\n",
       "    </tr>\n",
       "  </thead>\n",
       "  <tbody>\n",
       "    <tr>\n",
       "      <th>127</th>\n",
       "      <td>Productivity</td>\n",
       "      <td>0.0</td>\n",
       "      <td>100+</td>\n",
       "      <td>True</td>\n",
       "      <td>143.0</td>\n",
       "      <td>Everyone</td>\n",
       "      <td>False</td>\n",
       "      <td>False</td>\n",
       "      <td>False</td>\n",
       "      <td>0</td>\n",
       "    </tr>\n",
       "    <tr>\n",
       "      <th>158</th>\n",
       "      <td>Education</td>\n",
       "      <td>0.0</td>\n",
       "      <td>500+</td>\n",
       "      <td>True</td>\n",
       "      <td>122.0</td>\n",
       "      <td>Everyone</td>\n",
       "      <td>False</td>\n",
       "      <td>False</td>\n",
       "      <td>False</td>\n",
       "      <td>0</td>\n",
       "    </tr>\n",
       "    <tr>\n",
       "      <th>344</th>\n",
       "      <td>Health &amp; Fitness</td>\n",
       "      <td>0.0</td>\n",
       "      <td>10+</td>\n",
       "      <td>True</td>\n",
       "      <td>149.0</td>\n",
       "      <td>Everyone</td>\n",
       "      <td>False</td>\n",
       "      <td>False</td>\n",
       "      <td>False</td>\n",
       "      <td>0</td>\n",
       "    </tr>\n",
       "    <tr>\n",
       "      <th>402</th>\n",
       "      <td>Video Players &amp; Editors</td>\n",
       "      <td>0.0</td>\n",
       "      <td>100+</td>\n",
       "      <td>True</td>\n",
       "      <td>161.0</td>\n",
       "      <td>Everyone</td>\n",
       "      <td>True</td>\n",
       "      <td>False</td>\n",
       "      <td>False</td>\n",
       "      <td>0</td>\n",
       "    </tr>\n",
       "    <tr>\n",
       "      <th>405</th>\n",
       "      <td>Health &amp; Fitness</td>\n",
       "      <td>0.0</td>\n",
       "      <td>5+</td>\n",
       "      <td>True</td>\n",
       "      <td>149.0</td>\n",
       "      <td>Everyone</td>\n",
       "      <td>False</td>\n",
       "      <td>False</td>\n",
       "      <td>False</td>\n",
       "      <td>0</td>\n",
       "    </tr>\n",
       "    <tr>\n",
       "      <th>...</th>\n",
       "      <td>...</td>\n",
       "      <td>...</td>\n",
       "      <td>...</td>\n",
       "      <td>...</td>\n",
       "      <td>...</td>\n",
       "      <td>...</td>\n",
       "      <td>...</td>\n",
       "      <td>...</td>\n",
       "      <td>...</td>\n",
       "      <td>...</td>\n",
       "    </tr>\n",
       "    <tr>\n",
       "      <th>199770</th>\n",
       "      <td>Health &amp; Fitness</td>\n",
       "      <td>0.0</td>\n",
       "      <td>1+</td>\n",
       "      <td>True</td>\n",
       "      <td>150.0</td>\n",
       "      <td>Everyone</td>\n",
       "      <td>False</td>\n",
       "      <td>False</td>\n",
       "      <td>False</td>\n",
       "      <td>0</td>\n",
       "    </tr>\n",
       "    <tr>\n",
       "      <th>199799</th>\n",
       "      <td>Education</td>\n",
       "      <td>0.0</td>\n",
       "      <td>1+</td>\n",
       "      <td>True</td>\n",
       "      <td>138.0</td>\n",
       "      <td>Everyone</td>\n",
       "      <td>False</td>\n",
       "      <td>False</td>\n",
       "      <td>False</td>\n",
       "      <td>0</td>\n",
       "    </tr>\n",
       "    <tr>\n",
       "      <th>199819</th>\n",
       "      <td>Entertainment</td>\n",
       "      <td>0.0</td>\n",
       "      <td>5+</td>\n",
       "      <td>True</td>\n",
       "      <td>130.0</td>\n",
       "      <td>Everyone</td>\n",
       "      <td>False</td>\n",
       "      <td>False</td>\n",
       "      <td>False</td>\n",
       "      <td>0</td>\n",
       "    </tr>\n",
       "    <tr>\n",
       "      <th>199822</th>\n",
       "      <td>Health &amp; Fitness</td>\n",
       "      <td>23.0</td>\n",
       "      <td>5,000+</td>\n",
       "      <td>True</td>\n",
       "      <td>155.0</td>\n",
       "      <td>Everyone</td>\n",
       "      <td>False</td>\n",
       "      <td>False</td>\n",
       "      <td>False</td>\n",
       "      <td>4</td>\n",
       "    </tr>\n",
       "    <tr>\n",
       "      <th>199918</th>\n",
       "      <td>Lifestyle</td>\n",
       "      <td>24.0</td>\n",
       "      <td>1,000+</td>\n",
       "      <td>True</td>\n",
       "      <td>110.0</td>\n",
       "      <td>Mature 17+</td>\n",
       "      <td>True</td>\n",
       "      <td>True</td>\n",
       "      <td>False</td>\n",
       "      <td>3</td>\n",
       "    </tr>\n",
       "  </tbody>\n",
       "</table>\n",
       "<p>2044 rows × 10 columns</p>\n",
       "</div>"
      ],
      "text/plain": [
       "                       Category  Rating Count Installs  Free  Size_in_Mb  \\\n",
       "127                Productivity           0.0     100+  True       143.0   \n",
       "158                   Education           0.0     500+  True       122.0   \n",
       "344            Health & Fitness           0.0      10+  True       149.0   \n",
       "402     Video Players & Editors           0.0     100+  True       161.0   \n",
       "405            Health & Fitness           0.0       5+  True       149.0   \n",
       "...                         ...           ...      ...   ...         ...   \n",
       "199770         Health & Fitness           0.0       1+  True       150.0   \n",
       "199799                Education           0.0       1+  True       138.0   \n",
       "199819            Entertainment           0.0       5+  True       130.0   \n",
       "199822         Health & Fitness          23.0   5,000+  True       155.0   \n",
       "199918                Lifestyle          24.0   1,000+  True       110.0   \n",
       "\n",
       "       Content Rating  Ad Supported  In App Purchases  Editors Choice  \\\n",
       "127          Everyone         False             False           False   \n",
       "158          Everyone         False             False           False   \n",
       "344          Everyone         False             False           False   \n",
       "402          Everyone          True             False           False   \n",
       "405          Everyone         False             False           False   \n",
       "...               ...           ...               ...             ...   \n",
       "199770       Everyone         False             False           False   \n",
       "199799       Everyone         False             False           False   \n",
       "199819       Everyone         False             False           False   \n",
       "199822       Everyone         False             False           False   \n",
       "199918     Mature 17+          True              True           False   \n",
       "\n",
       "        Transformed_Rating  \n",
       "127                      0  \n",
       "158                      0  \n",
       "344                      0  \n",
       "402                      0  \n",
       "405                      0  \n",
       "...                    ...  \n",
       "199770                   0  \n",
       "199799                   0  \n",
       "199819                   0  \n",
       "199822                   4  \n",
       "199918                   3  \n",
       "\n",
       "[2044 rows x 10 columns]"
      ]
     },
     "execution_count": 26,
     "metadata": {},
     "output_type": "execute_result"
    }
   ],
   "source": [
    "# Repeat the process for Rating\n",
    "Q1_rating_count = df['Rating Count'].quantile(0.25)\n",
    "Q3_rating_count = df['Rating Count'].quantile(0.75)\n",
    "IQR = Q3_rating_count - Q1_rating_count\n",
    "\n",
    "lower_bound = Q1_rating_count - 1.5 * IQR\n",
    "upper_bound = Q3_rating_count + 1.5 * IQR\n",
    "outliers = df[(df['Size_in_Mb'] < lower_bound) | (df['Size_in_Mb'] > upper_bound)]\n",
    "print(\"\\nOutliers in Size column:\")\n",
    "outliers"
   ]
  },
  {
   "cell_type": "code",
   "execution_count": 27,
   "id": "269275e0",
   "metadata": {},
   "outputs": [],
   "source": [
    "df['Rating Count'] = df['Rating Count'].fillna(df.groupby('Category')['Rating Count'].transform('mean').round(2))"
   ]
  },
  {
   "cell_type": "code",
   "execution_count": 28,
   "id": "47a73c6f",
   "metadata": {},
   "outputs": [
    {
     "data": {
      "text/plain": [
       "Category              0\n",
       "Rating Count          0\n",
       "Installs              0\n",
       "Free                  0\n",
       "Size_in_Mb            0\n",
       "Content Rating        0\n",
       "Ad Supported          0\n",
       "In App Purchases      0\n",
       "Editors Choice        0\n",
       "Transformed_Rating    0\n",
       "dtype: int64"
      ]
     },
     "execution_count": 28,
     "metadata": {},
     "output_type": "execute_result"
    }
   ],
   "source": [
    "df.isnull().sum()"
   ]
  },
  {
   "cell_type": "code",
   "execution_count": 29,
   "id": "d017222f",
   "metadata": {},
   "outputs": [
    {
     "name": "stdout",
     "output_type": "stream",
     "text": [
      "   Category  Rating Count Installs   Free  Size_in_Mb  Content Rating  \\\n",
      "0  1.939851           0.0      50+   True    0.890625        2.190054   \n",
      "1  2.352460           0.0     500+   True    1.500000        2.191424   \n",
      "2  2.340894           0.0     100+  False    5.600000        2.187741   \n",
      "3  2.258686          20.0   5,000+   True    2.600000        2.191424   \n",
      "4  2.246814           5.0     500+   True   24.000000        2.182343   \n",
      "\n",
      "   Ad Supported  In App Purchases  Editors Choice  Transformed_Rating  \n",
      "0         False             False           False                   0  \n",
      "1         False             False           False                   0  \n",
      "2          True             False           False                   0  \n",
      "3         False             False           False                   5  \n",
      "4          True             False           False                   4  \n"
     ]
    }
   ],
   "source": [
    "from sklearn.model_selection import KFold\n",
    "\n",
    "def k_fold_target_encoding(data, category_col, target_col, n_splits=5, smoothing=1):\n",
    "    global_mean = data[target_col].mean()\n",
    "    kf = KFold(n_splits=n_splits, shuffle=True, random_state=42)\n",
    "    encoded_col = pd.Series(np.zeros(data.shape[0]), index=data.index)\n",
    "\n",
    "    for train_idx, val_idx in kf.split(data):\n",
    "        train_data, val_data = data.iloc[train_idx], data.iloc[val_idx]\n",
    "        \n",
    "        # Calculate category statistics on the training fold\n",
    "        category_stats = train_data.groupby(category_col)[target_col].agg(['mean', 'count'])\n",
    "        category_stats['smoothed'] = (category_stats['count'] * category_stats['mean'] + \n",
    "                                      smoothing * global_mean) / (category_stats['count'] + smoothing)\n",
    "        \n",
    "        # Map smoothed statistics to validation fold\n",
    "        val_data_encoded = val_data[category_col].map(category_stats['smoothed']).fillna(global_mean)\n",
    "        encoded_col.iloc[val_idx] = val_data_encoded\n",
    "\n",
    "    return encoded_col\n",
    "\n",
    "# Apply K-Fold Target Encoding and replace the original column\n",
    "df['Category'] = k_fold_target_encoding(df, category_col='Category', target_col='Transformed_Rating')\n",
    "\n",
    "# Apply K-Fold Target Encoding to 'Content Rating' column\n",
    "df['Content Rating'] = k_fold_target_encoding(df, category_col='Content Rating', target_col='Transformed_Rating')\n",
    "\n",
    "# Verify the result\n",
    "print(df.head())\n"
   ]
  },
  {
   "cell_type": "code",
   "execution_count": 30,
   "id": "7eb78bdd",
   "metadata": {},
   "outputs": [
    {
     "data": {
      "text/plain": [
       "Index(['Category', 'Rating Count', 'Installs', 'Free', 'Size_in_Mb',\n",
       "       'Content Rating', 'Ad Supported', 'In App Purchases', 'Editors Choice',\n",
       "       'Transformed_Rating'],\n",
       "      dtype='object')"
      ]
     },
     "execution_count": 30,
     "metadata": {},
     "output_type": "execute_result"
    }
   ],
   "source": [
    "df.columns"
   ]
  },
  {
   "cell_type": "code",
   "execution_count": 31,
   "id": "365105c4",
   "metadata": {},
   "outputs": [
    {
     "name": "stderr",
     "output_type": "stream",
     "text": [
      "C:\\Users\\ryran\\AppData\\Local\\Temp\\ipykernel_28164\\2496173036.py:2: FutureWarning: The default value of regex will change from True to False in a future version. In addition, single character regular expressions will *not* be treated as literal strings when regex=True.\n",
      "  df['Installs'] = df['Installs'].str.replace(',','').str.replace('+','').astype('float')\n"
     ]
    }
   ],
   "source": [
    "#Cleaning Installs Column(remove , and + and convert the data type from object to float)\n",
    "df['Installs'] = df['Installs'].str.replace(',','').str.replace('+','').astype('float')"
   ]
  },
  {
   "cell_type": "code",
   "execution_count": 32,
   "id": "f43a1e30",
   "metadata": {},
   "outputs": [
    {
     "data": {
      "text/plain": [
       "(200000, 10)"
      ]
     },
     "execution_count": 32,
     "metadata": {},
     "output_type": "execute_result"
    }
   ],
   "source": [
    "df.shape"
   ]
  },
  {
   "cell_type": "code",
   "execution_count": 33,
   "id": "e46327f2",
   "metadata": {},
   "outputs": [
    {
     "data": {
      "text/html": [
       "<div>\n",
       "<style scoped>\n",
       "    .dataframe tbody tr th:only-of-type {\n",
       "        vertical-align: middle;\n",
       "    }\n",
       "\n",
       "    .dataframe tbody tr th {\n",
       "        vertical-align: top;\n",
       "    }\n",
       "\n",
       "    .dataframe thead th {\n",
       "        text-align: right;\n",
       "    }\n",
       "</style>\n",
       "<table border=\"1\" class=\"dataframe\">\n",
       "  <thead>\n",
       "    <tr style=\"text-align: right;\">\n",
       "      <th></th>\n",
       "      <th>Category</th>\n",
       "      <th>Rating Count</th>\n",
       "      <th>Installs</th>\n",
       "      <th>Free</th>\n",
       "      <th>Size_in_Mb</th>\n",
       "      <th>Content Rating</th>\n",
       "      <th>Ad Supported</th>\n",
       "      <th>In App Purchases</th>\n",
       "      <th>Editors Choice</th>\n",
       "      <th>Transformed_Rating</th>\n",
       "    </tr>\n",
       "  </thead>\n",
       "  <tbody>\n",
       "    <tr>\n",
       "      <th>0</th>\n",
       "      <td>1.939851</td>\n",
       "      <td>0.0</td>\n",
       "      <td>50.0</td>\n",
       "      <td>True</td>\n",
       "      <td>0.890625</td>\n",
       "      <td>2.190054</td>\n",
       "      <td>False</td>\n",
       "      <td>False</td>\n",
       "      <td>False</td>\n",
       "      <td>0</td>\n",
       "    </tr>\n",
       "    <tr>\n",
       "      <th>1</th>\n",
       "      <td>2.352460</td>\n",
       "      <td>0.0</td>\n",
       "      <td>500.0</td>\n",
       "      <td>True</td>\n",
       "      <td>1.500000</td>\n",
       "      <td>2.191424</td>\n",
       "      <td>False</td>\n",
       "      <td>False</td>\n",
       "      <td>False</td>\n",
       "      <td>0</td>\n",
       "    </tr>\n",
       "    <tr>\n",
       "      <th>2</th>\n",
       "      <td>2.340894</td>\n",
       "      <td>0.0</td>\n",
       "      <td>100.0</td>\n",
       "      <td>False</td>\n",
       "      <td>5.600000</td>\n",
       "      <td>2.187741</td>\n",
       "      <td>True</td>\n",
       "      <td>False</td>\n",
       "      <td>False</td>\n",
       "      <td>0</td>\n",
       "    </tr>\n",
       "    <tr>\n",
       "      <th>3</th>\n",
       "      <td>2.258686</td>\n",
       "      <td>20.0</td>\n",
       "      <td>5000.0</td>\n",
       "      <td>True</td>\n",
       "      <td>2.600000</td>\n",
       "      <td>2.191424</td>\n",
       "      <td>False</td>\n",
       "      <td>False</td>\n",
       "      <td>False</td>\n",
       "      <td>5</td>\n",
       "    </tr>\n",
       "    <tr>\n",
       "      <th>4</th>\n",
       "      <td>2.246814</td>\n",
       "      <td>5.0</td>\n",
       "      <td>500.0</td>\n",
       "      <td>True</td>\n",
       "      <td>24.000000</td>\n",
       "      <td>2.182343</td>\n",
       "      <td>True</td>\n",
       "      <td>False</td>\n",
       "      <td>False</td>\n",
       "      <td>4</td>\n",
       "    </tr>\n",
       "  </tbody>\n",
       "</table>\n",
       "</div>"
      ],
      "text/plain": [
       "   Category  Rating Count  Installs   Free  Size_in_Mb  Content Rating  \\\n",
       "0  1.939851           0.0      50.0   True    0.890625        2.190054   \n",
       "1  2.352460           0.0     500.0   True    1.500000        2.191424   \n",
       "2  2.340894           0.0     100.0  False    5.600000        2.187741   \n",
       "3  2.258686          20.0    5000.0   True    2.600000        2.191424   \n",
       "4  2.246814           5.0     500.0   True   24.000000        2.182343   \n",
       "\n",
       "   Ad Supported  In App Purchases  Editors Choice  Transformed_Rating  \n",
       "0         False             False           False                   0  \n",
       "1         False             False           False                   0  \n",
       "2          True             False           False                   0  \n",
       "3         False             False           False                   5  \n",
       "4          True             False           False                   4  "
      ]
     },
     "execution_count": 33,
     "metadata": {},
     "output_type": "execute_result"
    }
   ],
   "source": [
    "df.head()"
   ]
  },
  {
   "cell_type": "code",
   "execution_count": 34,
   "id": "4a9650b1",
   "metadata": {},
   "outputs": [],
   "source": [
    "# df_ohe = pd.get_dummies(df, columns=['Content Rating'])"
   ]
  },
  {
   "cell_type": "code",
   "execution_count": 35,
   "id": "bb0a18fd",
   "metadata": {},
   "outputs": [
    {
     "name": "stdout",
     "output_type": "stream",
     "text": [
      "<class 'pandas.core.frame.DataFrame'>\n",
      "RangeIndex: 200000 entries, 0 to 199999\n",
      "Data columns (total 10 columns):\n",
      " #   Column              Non-Null Count   Dtype  \n",
      "---  ------              --------------   -----  \n",
      " 0   Category            200000 non-null  float64\n",
      " 1   Rating Count        200000 non-null  float64\n",
      " 2   Installs            200000 non-null  float64\n",
      " 3   Free                200000 non-null  bool   \n",
      " 4   Size_in_Mb          200000 non-null  float64\n",
      " 5   Content Rating      200000 non-null  float64\n",
      " 6   Ad Supported        200000 non-null  bool   \n",
      " 7   In App Purchases    200000 non-null  bool   \n",
      " 8   Editors Choice      200000 non-null  bool   \n",
      " 9   Transformed_Rating  200000 non-null  int64  \n",
      "dtypes: bool(4), float64(5), int64(1)\n",
      "memory usage: 9.9 MB\n"
     ]
    }
   ],
   "source": [
    "df.info()"
   ]
  },
  {
   "cell_type": "code",
   "execution_count": 36,
   "id": "b1c248e3",
   "metadata": {},
   "outputs": [
    {
     "data": {
      "text/html": [
       "<div>\n",
       "<style scoped>\n",
       "    .dataframe tbody tr th:only-of-type {\n",
       "        vertical-align: middle;\n",
       "    }\n",
       "\n",
       "    .dataframe tbody tr th {\n",
       "        vertical-align: top;\n",
       "    }\n",
       "\n",
       "    .dataframe thead th {\n",
       "        text-align: right;\n",
       "    }\n",
       "</style>\n",
       "<table border=\"1\" class=\"dataframe\">\n",
       "  <thead>\n",
       "    <tr style=\"text-align: right;\">\n",
       "      <th></th>\n",
       "      <th>Category</th>\n",
       "      <th>Rating Count</th>\n",
       "      <th>Installs</th>\n",
       "      <th>Free</th>\n",
       "      <th>Size_in_Mb</th>\n",
       "      <th>Content Rating</th>\n",
       "      <th>Ad Supported</th>\n",
       "      <th>In App Purchases</th>\n",
       "      <th>Editors Choice</th>\n",
       "      <th>Transformed_Rating</th>\n",
       "    </tr>\n",
       "  </thead>\n",
       "  <tbody>\n",
       "    <tr>\n",
       "      <th>0</th>\n",
       "      <td>1.939851</td>\n",
       "      <td>0.0</td>\n",
       "      <td>50.0</td>\n",
       "      <td>True</td>\n",
       "      <td>0.890625</td>\n",
       "      <td>2.190054</td>\n",
       "      <td>False</td>\n",
       "      <td>False</td>\n",
       "      <td>False</td>\n",
       "      <td>0</td>\n",
       "    </tr>\n",
       "    <tr>\n",
       "      <th>1</th>\n",
       "      <td>2.352460</td>\n",
       "      <td>0.0</td>\n",
       "      <td>500.0</td>\n",
       "      <td>True</td>\n",
       "      <td>1.500000</td>\n",
       "      <td>2.191424</td>\n",
       "      <td>False</td>\n",
       "      <td>False</td>\n",
       "      <td>False</td>\n",
       "      <td>0</td>\n",
       "    </tr>\n",
       "    <tr>\n",
       "      <th>2</th>\n",
       "      <td>2.340894</td>\n",
       "      <td>0.0</td>\n",
       "      <td>100.0</td>\n",
       "      <td>False</td>\n",
       "      <td>5.600000</td>\n",
       "      <td>2.187741</td>\n",
       "      <td>True</td>\n",
       "      <td>False</td>\n",
       "      <td>False</td>\n",
       "      <td>0</td>\n",
       "    </tr>\n",
       "    <tr>\n",
       "      <th>3</th>\n",
       "      <td>2.258686</td>\n",
       "      <td>20.0</td>\n",
       "      <td>5000.0</td>\n",
       "      <td>True</td>\n",
       "      <td>2.600000</td>\n",
       "      <td>2.191424</td>\n",
       "      <td>False</td>\n",
       "      <td>False</td>\n",
       "      <td>False</td>\n",
       "      <td>5</td>\n",
       "    </tr>\n",
       "    <tr>\n",
       "      <th>4</th>\n",
       "      <td>2.246814</td>\n",
       "      <td>5.0</td>\n",
       "      <td>500.0</td>\n",
       "      <td>True</td>\n",
       "      <td>24.000000</td>\n",
       "      <td>2.182343</td>\n",
       "      <td>True</td>\n",
       "      <td>False</td>\n",
       "      <td>False</td>\n",
       "      <td>4</td>\n",
       "    </tr>\n",
       "  </tbody>\n",
       "</table>\n",
       "</div>"
      ],
      "text/plain": [
       "   Category  Rating Count  Installs   Free  Size_in_Mb  Content Rating  \\\n",
       "0  1.939851           0.0      50.0   True    0.890625        2.190054   \n",
       "1  2.352460           0.0     500.0   True    1.500000        2.191424   \n",
       "2  2.340894           0.0     100.0  False    5.600000        2.187741   \n",
       "3  2.258686          20.0    5000.0   True    2.600000        2.191424   \n",
       "4  2.246814           5.0     500.0   True   24.000000        2.182343   \n",
       "\n",
       "   Ad Supported  In App Purchases  Editors Choice  Transformed_Rating  \n",
       "0         False             False           False                   0  \n",
       "1         False             False           False                   0  \n",
       "2          True             False           False                   0  \n",
       "3         False             False           False                   5  \n",
       "4          True             False           False                   4  "
      ]
     },
     "execution_count": 36,
     "metadata": {},
     "output_type": "execute_result"
    }
   ],
   "source": [
    "df.head()"
   ]
  },
  {
   "cell_type": "code",
   "execution_count": 37,
   "id": "183dd6e8",
   "metadata": {},
   "outputs": [],
   "source": [
    "# boolean columns to 0 and 1\n",
    "bool_cols = ['Free', 'Ad Supported', 'In App Purchases','Editors Choice']\n",
    "df[bool_cols] = df[bool_cols].astype(int)"
   ]
  },
  {
   "cell_type": "code",
   "execution_count": 38,
   "id": "da281889",
   "metadata": {},
   "outputs": [
    {
     "data": {
      "text/html": [
       "<div>\n",
       "<style scoped>\n",
       "    .dataframe tbody tr th:only-of-type {\n",
       "        vertical-align: middle;\n",
       "    }\n",
       "\n",
       "    .dataframe tbody tr th {\n",
       "        vertical-align: top;\n",
       "    }\n",
       "\n",
       "    .dataframe thead th {\n",
       "        text-align: right;\n",
       "    }\n",
       "</style>\n",
       "<table border=\"1\" class=\"dataframe\">\n",
       "  <thead>\n",
       "    <tr style=\"text-align: right;\">\n",
       "      <th></th>\n",
       "      <th>Category</th>\n",
       "      <th>Rating Count</th>\n",
       "      <th>Installs</th>\n",
       "      <th>Free</th>\n",
       "      <th>Size_in_Mb</th>\n",
       "      <th>Content Rating</th>\n",
       "      <th>Ad Supported</th>\n",
       "      <th>In App Purchases</th>\n",
       "      <th>Editors Choice</th>\n",
       "      <th>Transformed_Rating</th>\n",
       "    </tr>\n",
       "  </thead>\n",
       "  <tbody>\n",
       "    <tr>\n",
       "      <th>0</th>\n",
       "      <td>1.939851</td>\n",
       "      <td>0.0</td>\n",
       "      <td>50.0</td>\n",
       "      <td>1</td>\n",
       "      <td>0.890625</td>\n",
       "      <td>2.190054</td>\n",
       "      <td>0</td>\n",
       "      <td>0</td>\n",
       "      <td>0</td>\n",
       "      <td>0</td>\n",
       "    </tr>\n",
       "    <tr>\n",
       "      <th>1</th>\n",
       "      <td>2.352460</td>\n",
       "      <td>0.0</td>\n",
       "      <td>500.0</td>\n",
       "      <td>1</td>\n",
       "      <td>1.500000</td>\n",
       "      <td>2.191424</td>\n",
       "      <td>0</td>\n",
       "      <td>0</td>\n",
       "      <td>0</td>\n",
       "      <td>0</td>\n",
       "    </tr>\n",
       "    <tr>\n",
       "      <th>2</th>\n",
       "      <td>2.340894</td>\n",
       "      <td>0.0</td>\n",
       "      <td>100.0</td>\n",
       "      <td>0</td>\n",
       "      <td>5.600000</td>\n",
       "      <td>2.187741</td>\n",
       "      <td>1</td>\n",
       "      <td>0</td>\n",
       "      <td>0</td>\n",
       "      <td>0</td>\n",
       "    </tr>\n",
       "    <tr>\n",
       "      <th>3</th>\n",
       "      <td>2.258686</td>\n",
       "      <td>20.0</td>\n",
       "      <td>5000.0</td>\n",
       "      <td>1</td>\n",
       "      <td>2.600000</td>\n",
       "      <td>2.191424</td>\n",
       "      <td>0</td>\n",
       "      <td>0</td>\n",
       "      <td>0</td>\n",
       "      <td>5</td>\n",
       "    </tr>\n",
       "    <tr>\n",
       "      <th>4</th>\n",
       "      <td>2.246814</td>\n",
       "      <td>5.0</td>\n",
       "      <td>500.0</td>\n",
       "      <td>1</td>\n",
       "      <td>24.000000</td>\n",
       "      <td>2.182343</td>\n",
       "      <td>1</td>\n",
       "      <td>0</td>\n",
       "      <td>0</td>\n",
       "      <td>4</td>\n",
       "    </tr>\n",
       "  </tbody>\n",
       "</table>\n",
       "</div>"
      ],
      "text/plain": [
       "   Category  Rating Count  Installs  Free  Size_in_Mb  Content Rating  \\\n",
       "0  1.939851           0.0      50.0     1    0.890625        2.190054   \n",
       "1  2.352460           0.0     500.0     1    1.500000        2.191424   \n",
       "2  2.340894           0.0     100.0     0    5.600000        2.187741   \n",
       "3  2.258686          20.0    5000.0     1    2.600000        2.191424   \n",
       "4  2.246814           5.0     500.0     1   24.000000        2.182343   \n",
       "\n",
       "   Ad Supported  In App Purchases  Editors Choice  Transformed_Rating  \n",
       "0             0                 0               0                   0  \n",
       "1             0                 0               0                   0  \n",
       "2             1                 0               0                   0  \n",
       "3             0                 0               0                   5  \n",
       "4             1                 0               0                   4  "
      ]
     },
     "execution_count": 38,
     "metadata": {},
     "output_type": "execute_result"
    }
   ],
   "source": [
    "df.head()"
   ]
  },
  {
   "cell_type": "code",
   "execution_count": 39,
   "id": "4813cdf9",
   "metadata": {},
   "outputs": [],
   "source": [
    "df['Installs'] = df.groupby('Category')['Installs'].transform(lambda x: x.fillna(x.mean()))"
   ]
  },
  {
   "cell_type": "code",
   "execution_count": 40,
   "id": "3b188722",
   "metadata": {
    "scrolled": true
   },
   "outputs": [
    {
     "data": {
      "text/html": [
       "<div>\n",
       "<style scoped>\n",
       "    .dataframe tbody tr th:only-of-type {\n",
       "        vertical-align: middle;\n",
       "    }\n",
       "\n",
       "    .dataframe tbody tr th {\n",
       "        vertical-align: top;\n",
       "    }\n",
       "\n",
       "    .dataframe thead th {\n",
       "        text-align: right;\n",
       "    }\n",
       "</style>\n",
       "<table border=\"1\" class=\"dataframe\">\n",
       "  <thead>\n",
       "    <tr style=\"text-align: right;\">\n",
       "      <th></th>\n",
       "      <th>Category</th>\n",
       "      <th>Rating Count</th>\n",
       "      <th>Installs</th>\n",
       "      <th>Free</th>\n",
       "      <th>Size_in_Mb</th>\n",
       "      <th>Content Rating</th>\n",
       "      <th>Ad Supported</th>\n",
       "      <th>In App Purchases</th>\n",
       "      <th>Editors Choice</th>\n",
       "      <th>Transformed_Rating</th>\n",
       "    </tr>\n",
       "  </thead>\n",
       "  <tbody>\n",
       "    <tr>\n",
       "      <th>0</th>\n",
       "      <td>1.939851</td>\n",
       "      <td>0.0</td>\n",
       "      <td>50.0</td>\n",
       "      <td>1</td>\n",
       "      <td>0.890625</td>\n",
       "      <td>2.190054</td>\n",
       "      <td>0</td>\n",
       "      <td>0</td>\n",
       "      <td>0</td>\n",
       "      <td>0</td>\n",
       "    </tr>\n",
       "    <tr>\n",
       "      <th>1</th>\n",
       "      <td>2.352460</td>\n",
       "      <td>0.0</td>\n",
       "      <td>500.0</td>\n",
       "      <td>1</td>\n",
       "      <td>1.500000</td>\n",
       "      <td>2.191424</td>\n",
       "      <td>0</td>\n",
       "      <td>0</td>\n",
       "      <td>0</td>\n",
       "      <td>0</td>\n",
       "    </tr>\n",
       "    <tr>\n",
       "      <th>2</th>\n",
       "      <td>2.340894</td>\n",
       "      <td>0.0</td>\n",
       "      <td>100.0</td>\n",
       "      <td>0</td>\n",
       "      <td>5.600000</td>\n",
       "      <td>2.187741</td>\n",
       "      <td>1</td>\n",
       "      <td>0</td>\n",
       "      <td>0</td>\n",
       "      <td>0</td>\n",
       "    </tr>\n",
       "    <tr>\n",
       "      <th>3</th>\n",
       "      <td>2.258686</td>\n",
       "      <td>20.0</td>\n",
       "      <td>5000.0</td>\n",
       "      <td>1</td>\n",
       "      <td>2.600000</td>\n",
       "      <td>2.191424</td>\n",
       "      <td>0</td>\n",
       "      <td>0</td>\n",
       "      <td>0</td>\n",
       "      <td>5</td>\n",
       "    </tr>\n",
       "    <tr>\n",
       "      <th>4</th>\n",
       "      <td>2.246814</td>\n",
       "      <td>5.0</td>\n",
       "      <td>500.0</td>\n",
       "      <td>1</td>\n",
       "      <td>24.000000</td>\n",
       "      <td>2.182343</td>\n",
       "      <td>1</td>\n",
       "      <td>0</td>\n",
       "      <td>0</td>\n",
       "      <td>4</td>\n",
       "    </tr>\n",
       "  </tbody>\n",
       "</table>\n",
       "</div>"
      ],
      "text/plain": [
       "   Category  Rating Count  Installs  Free  Size_in_Mb  Content Rating  \\\n",
       "0  1.939851           0.0      50.0     1    0.890625        2.190054   \n",
       "1  2.352460           0.0     500.0     1    1.500000        2.191424   \n",
       "2  2.340894           0.0     100.0     0    5.600000        2.187741   \n",
       "3  2.258686          20.0    5000.0     1    2.600000        2.191424   \n",
       "4  2.246814           5.0     500.0     1   24.000000        2.182343   \n",
       "\n",
       "   Ad Supported  In App Purchases  Editors Choice  Transformed_Rating  \n",
       "0             0                 0               0                   0  \n",
       "1             0                 0               0                   0  \n",
       "2             1                 0               0                   0  \n",
       "3             0                 0               0                   5  \n",
       "4             1                 0               0                   4  "
      ]
     },
     "execution_count": 40,
     "metadata": {},
     "output_type": "execute_result"
    }
   ],
   "source": [
    "df.head()"
   ]
  },
  {
   "cell_type": "code",
   "execution_count": 42,
   "id": "6a27fe20",
   "metadata": {},
   "outputs": [],
   "source": [
    "df_sampled = df.sample(n=200000, random_state=42)\n",
    "df_sampled.to_csv(\"sampled_file_processed_final.csv\", index=False)"
   ]
  },
  {
   "cell_type": "code",
   "execution_count": 43,
   "id": "ce1a4e9c",
   "metadata": {},
   "outputs": [
    {
     "name": "stdout",
     "output_type": "stream",
     "text": [
      "CSV uploaded successfully!\n"
     ]
    }
   ],
   "source": [
    "# Load CSV into Pandas\n",
    "df = pd.read_csv(r\"C:\\Users\\ryran\\OneDrive\\Desktop\\ProjectFolder\\Project1\\rating_preprocessed.csv\")\n",
    "\n",
    "# Connect to MySQL\n",
    "conn = mysql.connector.connect(host=\"localhost\", user=\"root\", password=\"Root\", database=\"GooglePlayStore\")\n",
    "cursor = conn.cursor()\n",
    "\n",
    "# Insert data row by row\n",
    "for _, row in df.iterrows():\n",
    "    cursor.execute(\"\"\"\n",
    "        INSERT INTO rating (Category, Rating_Count, Installs, Free, Size_in_Mb, Content_Rating, Ad_Supported, In_App_Purchases, Editors_Choice, Transformed_Rating)\n",
    "        VALUES (%s, %s, %s, %s, %s, %s, %s, %s, %s, %s)\n",
    "    \"\"\", tuple(row))\n",
    "\n",
    "# Commit and close\n",
    "conn.commit()\n",
    "cursor.close()\n",
    "conn.close()\n",
    "\n",
    "print(\"CSV uploaded successfully!\")"
   ]
  },
  {
   "cell_type": "code",
   "execution_count": null,
   "id": "c36472bb",
   "metadata": {},
   "outputs": [],
   "source": []
  }
 ],
 "metadata": {
  "kernelspec": {
   "display_name": "Python 3 (ipykernel)",
   "language": "python",
   "name": "python3"
  },
  "language_info": {
   "codemirror_mode": {
    "name": "ipython",
    "version": 3
   },
   "file_extension": ".py",
   "mimetype": "text/x-python",
   "name": "python",
   "nbconvert_exporter": "python",
   "pygments_lexer": "ipython3",
   "version": "3.9.13"
  }
 },
 "nbformat": 4,
 "nbformat_minor": 5
}
